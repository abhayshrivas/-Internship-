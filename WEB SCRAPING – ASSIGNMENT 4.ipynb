{
 "cells": [
  {
   "cell_type": "code",
   "execution_count": 50,
   "id": "cda0ddde",
   "metadata": {},
   "outputs": [],
   "source": [
    "### 1 1. Scrape the details of most viewed videos on YouTube from Wikipedia.\n",
    "# Url = https://en.wikipedia.org/wiki/List_of_most-viewed_YouTube_videos\n",
    "#You need to find following details:\n",
    "# A) Rank\n",
    "# B) Name\n",
    "# C) Artist\n",
    "#D) Upload date\n",
    "# E) Views\n"
   ]
  },
  {
   "cell_type": "code",
   "execution_count": 51,
   "id": "ae7d9f93",
   "metadata": {},
   "outputs": [],
   "source": [
    "from selenium import webdriver\n",
    "from selenium.common.exceptions import NoSuchElementException"
   ]
  },
  {
   "cell_type": "code",
   "execution_count": 52,
   "id": "ccfabf5a",
   "metadata": {},
   "outputs": [],
   "source": [
    "url = \"https://en.wikipedia.org/wiki/List_of_most-viewed_YouTube_videos\"\n",
    "driver = webdriver.Chrome()\n",
    "driver.get(url)"
   ]
  },
  {
   "cell_type": "code",
   "execution_count": 53,
   "id": "3e3e2bd1",
   "metadata": {},
   "outputs": [
    {
     "ename": "AttributeError",
     "evalue": "'WebDriver' object has no attribute 'find_element_by_class_name'",
     "output_type": "error",
     "traceback": [
      "\u001b[1;31m---------------------------------------------------------------------------\u001b[0m",
      "\u001b[1;31mAttributeError\u001b[0m                            Traceback (most recent call last)",
      "Input \u001b[1;32mIn [53]\u001b[0m, in \u001b[0;36m<cell line: 1>\u001b[1;34m()\u001b[0m\n\u001b[1;32m----> 1\u001b[0m table \u001b[38;5;241m=\u001b[39m \u001b[43mdriver\u001b[49m\u001b[38;5;241;43m.\u001b[39;49m\u001b[43mfind_element_by_class_name\u001b[49m(\u001b[38;5;124m\"\u001b[39m\u001b[38;5;124mwikitable\u001b[39m\u001b[38;5;124m\"\u001b[39m)\n\u001b[0;32m      2\u001b[0m rows \u001b[38;5;241m=\u001b[39m table\u001b[38;5;241m.\u001b[39mfind_elements_by_tag_name(\u001b[38;5;124m\"\u001b[39m\u001b[38;5;124mtr\u001b[39m\u001b[38;5;124m\"\u001b[39m)[\u001b[38;5;241m1\u001b[39m:]\n",
      "\u001b[1;31mAttributeError\u001b[0m: 'WebDriver' object has no attribute 'find_element_by_class_name'"
     ]
    }
   ],
   "source": [
    "table = driver.find_element_by_class_name(\"wikitable\")\n",
    "rows = table.find_elements_by_tag_name(\"tr\")[1:]"
   ]
  },
  {
   "cell_type": "code",
   "execution_count": 54,
   "id": "4c1e8a07",
   "metadata": {},
   "outputs": [
    {
     "ename": "NameError",
     "evalue": "name 'rows' is not defined",
     "output_type": "error",
     "traceback": [
      "\u001b[1;31m---------------------------------------------------------------------------\u001b[0m",
      "\u001b[1;31mNameError\u001b[0m                                 Traceback (most recent call last)",
      "Input \u001b[1;32mIn [54]\u001b[0m, in \u001b[0;36m<cell line: 1>\u001b[1;34m()\u001b[0m\n\u001b[1;32m----> 1\u001b[0m \u001b[38;5;28;01mfor\u001b[39;00m row \u001b[38;5;129;01min\u001b[39;00m \u001b[43mrows\u001b[49m:\n\u001b[0;32m      2\u001b[0m     \u001b[38;5;28;01mtry\u001b[39;00m:\n\u001b[0;32m      3\u001b[0m         rank \u001b[38;5;241m=\u001b[39m row\u001b[38;5;241m.\u001b[39mfind_element_by_xpath(\u001b[38;5;124m\"\u001b[39m\u001b[38;5;124m.//td[1]\u001b[39m\u001b[38;5;124m\"\u001b[39m)\u001b[38;5;241m.\u001b[39mtext\u001b[38;5;241m.\u001b[39mstrip()\n",
      "\u001b[1;31mNameError\u001b[0m: name 'rows' is not defined"
     ]
    }
   ],
   "source": [
    "for row in rows:\n",
    "    try:\n",
    "        rank = row.find_element_by_xpath(\".//td[1]\").text.strip()\n",
    "        name = row.find_element_by_xpath(\".//td[2]\").text.strip()\n",
    "        artist = row.find_element_by_xpath(\".//td[3]\").text.strip()\n",
    "        views = row.find_element_by_xpath(\".//td[4]\").text.strip()\n",
    "        date = row.find_element_by_xpath(\".//td[5]\").text.strip()\n",
    "        print(rank, name, artist, views, date)\n",
    "    except NoSuchElementException:\n",
    "        continue"
   ]
  },
  {
   "cell_type": "code",
   "execution_count": 55,
   "id": "f5bbca50",
   "metadata": {},
   "outputs": [],
   "source": [
    "driver.close()"
   ]
  },
  {
   "cell_type": "code",
   "execution_count": 56,
   "id": "4d051ff1",
   "metadata": {},
   "outputs": [],
   "source": [
    "### Scrape the details team India’s internationalfixtures from bcci.tv.\n",
    "# Url = https://www.bcci.tv/.\n",
    "# You need to find following details:\n",
    "# A) Match title (I.e. 1stODI)\n",
    "# B) Series\n",
    "# C) Place\n",
    "# D) Date\n",
    "# E) Time\n",
    "# Note: - From bcci.tv home page you have reach to the international fixture page through code."
   ]
  },
  {
   "cell_type": "code",
   "execution_count": 57,
   "id": "5a3ac2e5",
   "metadata": {},
   "outputs": [],
   "source": [
    "from selenium import webdriver\n",
    "from selenium.common.exceptions import NoSuchElementException\n",
    "from selenium.webdriver.common.by import By"
   ]
  },
  {
   "cell_type": "code",
   "execution_count": 58,
   "id": "a1f6be5e",
   "metadata": {},
   "outputs": [],
   "source": [
    "url = \"https://www.bcci.tv/\"\n",
    "driver = webdriver.Chrome()\n",
    "driver.get(url)"
   ]
  },
  {
   "cell_type": "code",
   "execution_count": 59,
   "id": "96512a25",
   "metadata": {},
   "outputs": [
    {
     "ename": "AttributeError",
     "evalue": "'WebDriver' object has no attribute 'find_element_by_link_text'",
     "output_type": "error",
     "traceback": [
      "\u001b[1;31m---------------------------------------------------------------------------\u001b[0m",
      "\u001b[1;31mAttributeError\u001b[0m                            Traceback (most recent call last)",
      "Input \u001b[1;32mIn [59]\u001b[0m, in \u001b[0;36m<cell line: 1>\u001b[1;34m()\u001b[0m\n\u001b[1;32m----> 1\u001b[0m fixture_link \u001b[38;5;241m=\u001b[39m \u001b[43mdriver\u001b[49m\u001b[38;5;241;43m.\u001b[39;49m\u001b[43mfind_element_by_link_text\u001b[49m(\u001b[38;5;124m\"\u001b[39m\u001b[38;5;124mFixtures\u001b[39m\u001b[38;5;124m\"\u001b[39m)\u001b[38;5;241m.\u001b[39mget_attribute(\u001b[38;5;124m\"\u001b[39m\u001b[38;5;124mhref\u001b[39m\u001b[38;5;124m\"\u001b[39m)\n\u001b[0;32m      2\u001b[0m driver\u001b[38;5;241m.\u001b[39mget(fixture_link)\n",
      "\u001b[1;31mAttributeError\u001b[0m: 'WebDriver' object has no attribute 'find_element_by_link_text'"
     ]
    }
   ],
   "source": [
    "fixture_link = driver.find_element_by_link_text(\"Fixtures\").get_attribute(\"href\")\n",
    "driver.get(fixture_link)"
   ]
  },
  {
   "cell_type": "code",
   "execution_count": null,
   "id": "3f1e3a26",
   "metadata": {},
   "outputs": [],
   "source": [
    "upcoming_tab = driver.find_element_by_xpath(\"//a[@data-tab='itinerary']\")\n",
    "upcoming_tab.click()"
   ]
  },
  {
   "cell_type": "code",
   "execution_count": null,
   "id": "c054d7ff",
   "metadata": {},
   "outputs": [],
   "source": [
    "match_cards = driver.find_elements_by_xpath(\"//div[@class='js-list']/a\")"
   ]
  },
  {
   "cell_type": "code",
   "execution_count": null,
   "id": "83e71b84",
   "metadata": {},
   "outputs": [],
   "source": [
    "for card in match_cards:\n",
    "    try:\n",
    "        title = card.find_element_by_xpath(\".//strong\").text.strip()\n",
    "        series = card.find_element_by_xpath(\".//span[1]\").text.strip()\n",
    "        place = card.find_element_by_xpath(\".//p/span[2]\").text.strip()\n",
    "        date = card.find_element_by_xpath(\".//div/span[1]\").text.strip()\n",
    "        time = card.find_element_by_xpath(\".//span[2]\").text.strip()\n",
    "        print(title, series, place, date, time)\n",
    "    except NoSuchElementException:\n",
    "        continue"
   ]
  },
  {
   "cell_type": "code",
   "execution_count": null,
   "id": "df94857c",
   "metadata": {},
   "outputs": [],
   "source": [
    "driver.close()"
   ]
  },
  {
   "cell_type": "code",
   "execution_count": null,
   "id": "c338a9b0",
   "metadata": {},
   "outputs": [],
   "source": [
    "## 3 Scrape the details of State-wise GDP ofIndia fromstatisticstime.com.\n",
    "# Url = http://statisticstimes.com/\n",
    "# You have to find following details:\n",
    "# A) Rank\n",
    "# B) State\n",
    "# C) GSDP(18-19)- at current prices\n",
    "# D) GSDP(19-20)- at current prices\n",
    "# E) Share(18-19)\n",
    "# F) GDP($ billion)\n",
    "#vNote: - From statisticstimes home page you have to reach to economy page through code."
   ]
  },
  {
   "cell_type": "code",
   "execution_count": 77,
   "id": "669b9e48",
   "metadata": {},
   "outputs": [],
   "source": [
    "from selenium import webdriver\n",
    "from selenium.common.exceptions import NoSuchElementException"
   ]
  },
  {
   "cell_type": "code",
   "execution_count": 78,
   "id": "52d16628",
   "metadata": {},
   "outputs": [
    {
     "name": "stderr",
     "output_type": "stream",
     "text": [
      "C:\\Users\\DELL\\AppData\\Local\\Temp\\ipykernel_10020\\3118156031.py:1: DeprecationWarning: executable_path has been deprecated, please pass in a Service object\n",
      "  driver=webdriver.Chrome(r\"C:\\Users\\DELL\\Downloads\\chromedriver_win32.zip/chromedriver.exe\")\n"
     ]
    }
   ],
   "source": [
    "driver=webdriver.Chrome(r\"C:\\Users\\DELL\\Downloads\\chromedriver_win32.zip/chromedriver.exe\")"
   ]
  },
  {
   "cell_type": "code",
   "execution_count": 79,
   "id": "1ccdc7e0",
   "metadata": {},
   "outputs": [],
   "source": [
    "driver.get(\"https://statisticstimes.com/\")"
   ]
  },
  {
   "cell_type": "code",
   "execution_count": 80,
   "id": "43f86c03",
   "metadata": {},
   "outputs": [],
   "source": [
    "options = webdriver.ChromeOptions()\n",
    "options.add_argument('--ignore-certificate-errors')\n",
    "options.add_argument('--incognito')\n",
    "options.add_argument('--headless')\n",
    "driver = webdriver.Chrome(options=options)"
   ]
  },
  {
   "cell_type": "code",
   "execution_count": 81,
   "id": "36b4a74b",
   "metadata": {},
   "outputs": [
    {
     "ename": "SyntaxError",
     "evalue": "invalid syntax (2314288390.py, line 5)",
     "output_type": "error",
     "traceback": [
      "\u001b[1;36m  Input \u001b[1;32mIn [81]\u001b[1;36m\u001b[0m\n\u001b[1;33m    gdp = driver.find_element_by_xpath('//ul[@style=\"list-style-type:none;margin-left:20px;\"]/li[1]/a')\u001b[0m\n\u001b[1;37m    ^\u001b[0m\n\u001b[1;31mSyntaxError\u001b[0m\u001b[1;31m:\u001b[0m invalid syntax\n"
     ]
    }
   ],
   "source": [
    "try:\n",
    "    economy = driver.find_element_by_xpath('//div[@class=\"navbar\"]/div/a[3]')\n",
    "    driver.get(economy.get_attribute('href'))\n",
    "\n",
    "gdp = driver.find_element_by_xpath('//ul[@style=\"list-style-type:none;margin-left:20px;\"]/li[1]/a')\n",
    "driver.get(gdp.get_attribute('href'))\n",
    "\n",
    "data = []\n",
    "table = driver.find_element_by_xpath('//table[@id=\"table_id\"]/tbody')\n",
    "rows = table.find_elements_by_tag_name('tr')\n",
    "for row in rows:\n",
    "    row_data = []\n",
    "    cells = row.find_elements_by_tag_name('td')\n",
    "    for cell in cells:\n",
    "        row_data.append(cell.text)\n",
    "    if row_data:\n",
    "        data.append(row_data)\n",
    "        \n",
    "print(data)\n",
    "\n",
    "except NoSuchElementException as e:\n",
    "    print(\"Element not found:\", e)\n",
    "\n",
    "finally:"
   ]
  },
  {
   "cell_type": "code",
   "execution_count": null,
   "id": "96314ac2",
   "metadata": {},
   "outputs": [],
   "source": [
    "driver.close()"
   ]
  },
  {
   "cell_type": "code",
   "execution_count": 82,
   "id": "713b57b1",
   "metadata": {},
   "outputs": [],
   "source": [
    "## 4 Scrape the details of trending repositories on Github.com.\n",
    "# Url = https://github.com/\n",
    "# You have to find the following details:\n",
    "# A) Repository title\n",
    "# B) Repository description\n",
    "# C) Contributors count\n",
    "# D) Language used"
   ]
  },
  {
   "cell_type": "code",
   "execution_count": 83,
   "id": "7f8e4f19",
   "metadata": {},
   "outputs": [],
   "source": [
    "from selenium import webdriver\n",
    "from selenium.common.exceptions import NoSuchElementException"
   ]
  },
  {
   "cell_type": "code",
   "execution_count": null,
   "id": "d6098604",
   "metadata": {},
   "outputs": [],
   "source": [
    "driver=webdriver.Chrome(r\"C:\\Users\\DELL\\Downloads\\chromedriver_win32.zip/chromedriver.exe\")"
   ]
  },
  {
   "cell_type": "code",
   "execution_count": null,
   "id": "934c0a27",
   "metadata": {},
   "outputs": [],
   "source": [
    "driver.get(\"https:////github.com//\")"
   ]
  },
  {
   "cell_type": "code",
   "execution_count": null,
   "id": "16ec6d7c",
   "metadata": {},
   "outputs": [],
   "source": [
    "options = webdriver.ChromeOptions()\n",
    "options.add_argument('--ignore-certificate-errors')\n",
    "options.add_argument('--incognito')\n",
    "options.add_argument('--headless')\n",
    "driver = webdriver.Chrome(options=options)"
   ]
  },
  {
   "cell_type": "code",
   "execution_count": null,
   "id": "5147a992",
   "metadata": {},
   "outputs": [],
   "source": [
    "try:\n",
    "    trending = driver.find_element_by_xpath('//ul[@class=\"list-style-none mb-3\"]/li[3]/a')\n",
    "    driver.get(trending.get_attribute('href'))"
   ]
  },
  {
   "cell_type": "code",
   "execution_count": null,
   "id": "99171af2",
   "metadata": {},
   "outputs": [],
   "source": [
    "data = []\n",
    "repos = driver.find_elements_by_xpath('//article[@class=\"Box-row\"]')\n",
    "for repo in repos:\n",
    "    title = repo.find_element_by_xpath('.//h1/a').text.strip()\n",
    "    desc = repo.find_element_by_xpath('.//p').text.strip()\n",
    "    lang = repo.find_element_by_xpath('.//span[@class=\"d-inline-block ml-0 mr-3\"]/span[2]').text\n",
    "    contributors = repo.find_element_by_xpath('.//a[contains(@href, \"/network/members\")]')\n",
    "    count = contributors.text.strip()\n",
    "    data.append([title, desc, count, lang])\n",
    "\n",
    "print(data)\n",
    "\n",
    "except NoSuchElementException as e:\n",
    "    print(\"Element not found:\", e)\n",
    "\n",
    "finally:"
   ]
  },
  {
   "cell_type": "code",
   "execution_count": 1,
   "id": "bcf5bb8b",
   "metadata": {},
   "outputs": [
    {
     "ename": "NameError",
     "evalue": "name 'driver' is not defined",
     "output_type": "error",
     "traceback": [
      "\u001b[1;31m---------------------------------------------------------------------------\u001b[0m",
      "\u001b[1;31mNameError\u001b[0m                                 Traceback (most recent call last)",
      "Input \u001b[1;32mIn [1]\u001b[0m, in \u001b[0;36m<cell line: 1>\u001b[1;34m()\u001b[0m\n\u001b[1;32m----> 1\u001b[0m \u001b[43mdriver\u001b[49m\u001b[38;5;241m.\u001b[39mclose()\n",
      "\u001b[1;31mNameError\u001b[0m: name 'driver' is not defined"
     ]
    }
   ],
   "source": [
    "driver.close()"
   ]
  },
  {
   "cell_type": "code",
   "execution_count": 2,
   "id": "ec0803f1",
   "metadata": {},
   "outputs": [],
   "source": [
    "## 5 Scrape the details of top 100 songs on billiboard.com.\n",
    "## Url = https:/www.billboard.com/\n",
    "## You have to find the following details:\n",
    "## A) Song name\n",
    "## B) Artist name\n",
    "## C) Last week rank\n",
    "## D) Peak rank\n",
    "## E) Weeks on board\n",
    "## Note: - From the home page you have to click on the charts option then hot 100-page link through code"
   ]
  },
  {
   "cell_type": "code",
   "execution_count": 3,
   "id": "8c370f55",
   "metadata": {},
   "outputs": [],
   "source": [
    "from selenium import webdriver\n",
    "from selenium.webdriver.common.by import By\n",
    "from selenium.webdriver.support.ui import WebDriverWait\n",
    "from selenium.webdriver.support import expected_conditions as EC"
   ]
  },
  {
   "cell_type": "code",
   "execution_count": 4,
   "id": "53ff922d",
   "metadata": {},
   "outputs": [],
   "source": [
    "driver = webdriver.Chrome()\n",
    "driver.get(\"https://www.billboard.com/\")"
   ]
  },
  {
   "cell_type": "code",
   "execution_count": 5,
   "id": "dfafe4c4",
   "metadata": {},
   "outputs": [
    {
     "name": "stdout",
     "output_type": "stream",
     "text": [
      "Unable to locate Charts or Hot 100 link\n"
     ]
    }
   ],
   "source": [
    "try:\n",
    "    WebDriverWait(driver, 10).until(EC.presence_of_element_located((By.LINK_TEXT, \"Charts\"))).click()\n",
    "    WebDriverWait(driver, 10).until(EC.presence_of_element_located((By.LINK_TEXT, \"Hot 100\"))).click()\n",
    "except:\n",
    "    print(\"Unable to locate Charts or Hot 100 link\")"
   ]
  },
  {
   "cell_type": "code",
   "execution_count": 6,
   "id": "39f79623",
   "metadata": {},
   "outputs": [
    {
     "name": "stdout",
     "output_type": "stream",
     "text": [
      "Unable to locate top 100 songs or their details\n"
     ]
    }
   ],
   "source": [
    "try:\n",
    "    top_100_songs = WebDriverWait(driver, 10).until(EC.presence_of_all_elements_located((By.CSS_SELECTOR, \"li > button > span.chart-element__information\")))\n",
    "    top_100_ranks = WebDriverWait(driver, 10).until(EC.presence_of_all_elements_located((By.CSS_SELECTOR, \"li > button > span.chart-element__rank__number\")))\n",
    "except:\n",
    "    print(\"Unable to locate top 100 songs or their details\")"
   ]
  },
  {
   "cell_type": "code",
   "execution_count": 7,
   "id": "e233cfc9",
   "metadata": {},
   "outputs": [
    {
     "ename": "NameError",
     "evalue": "name 'top_100_songs' is not defined",
     "output_type": "error",
     "traceback": [
      "\u001b[1;31m---------------------------------------------------------------------------\u001b[0m",
      "\u001b[1;31mNameError\u001b[0m                                 Traceback (most recent call last)",
      "Input \u001b[1;32mIn [7]\u001b[0m, in \u001b[0;36m<cell line: 1>\u001b[1;34m()\u001b[0m\n\u001b[0;32m      1\u001b[0m \u001b[38;5;28;01mfor\u001b[39;00m i \u001b[38;5;129;01min\u001b[39;00m \u001b[38;5;28mrange\u001b[39m(\u001b[38;5;241m100\u001b[39m):\n\u001b[1;32m----> 2\u001b[0m     song_details \u001b[38;5;241m=\u001b[39m \u001b[43mtop_100_songs\u001b[49m[i]\u001b[38;5;241m.\u001b[39mtext\u001b[38;5;241m.\u001b[39msplit(\u001b[38;5;124m\"\u001b[39m\u001b[38;5;130;01m\\n\u001b[39;00m\u001b[38;5;124m\"\u001b[39m)\n\u001b[0;32m      3\u001b[0m     song_name \u001b[38;5;241m=\u001b[39m song_details[\u001b[38;5;241m0\u001b[39m]\n\u001b[0;32m      4\u001b[0m     artist_name \u001b[38;5;241m=\u001b[39m song_details[\u001b[38;5;241m1\u001b[39m]\n",
      "\u001b[1;31mNameError\u001b[0m: name 'top_100_songs' is not defined"
     ]
    }
   ],
   "source": [
    "for i in range(100):\n",
    "    song_details = top_100_songs[i].text.split(\"\\n\")\n",
    "    song_name = song_details[0]\n",
    "    artist_name = song_details[1]\n",
    "    last_week_rank = song_details[2]\n",
    "    peak_rank = song_details[3]\n",
    "    weeks_on_board = song_details[4]\n",
    "    current_rank = top_100_ranks[i].text"
   ]
  },
  {
   "cell_type": "code",
   "execution_count": 8,
   "id": "edc573fe",
   "metadata": {},
   "outputs": [
    {
     "ename": "IndentationError",
     "evalue": "unexpected indent (3379171477.py, line 2)",
     "output_type": "error",
     "traceback": [
      "\u001b[1;36m  Input \u001b[1;32mIn [8]\u001b[1;36m\u001b[0m\n\u001b[1;33m    print(\"Song: \" + song_name)\u001b[0m\n\u001b[1;37m    ^\u001b[0m\n\u001b[1;31mIndentationError\u001b[0m\u001b[1;31m:\u001b[0m unexpected indent\n"
     ]
    }
   ],
   "source": [
    "print(\"Rank: \" + current_rank)\n",
    "    print(\"Song: \" + song_name)\n",
    "    print(\"Artist: \" + artist_name)\n",
    "    print(\"Last Week Rank: \" + last_week_rank)\n",
    "    print(\"Peak Rank: \" + peak_rank)\n",
    "    print(\"Weeks on Board: \" + weeks_on_board)\n",
    "    print()"
   ]
  },
  {
   "cell_type": "code",
   "execution_count": 9,
   "id": "099f6e5f",
   "metadata": {},
   "outputs": [],
   "source": [
    "driver.close()"
   ]
  },
  {
   "cell_type": "code",
   "execution_count": 10,
   "id": "41f1761a",
   "metadata": {},
   "outputs": [],
   "source": [
    "## 6 Scrape the details of Highest sellingnovels.\n",
    "## Url = https://www.theguardian.com/news/datablog/2012/aug/09/best-selling-books-all-time-fifty-shades-greycompare/\n",
    "## You have to find the following details:\n",
    "## A) Book name\n",
    "## B) Author name\n",
    "## C) Volumes sold\n",
    "## D) Publisher\n",
    "## E) Genre\n"
   ]
  },
  {
   "cell_type": "code",
   "execution_count": 11,
   "id": "90cb72d3",
   "metadata": {},
   "outputs": [],
   "source": [
    "from selenium import webdriver\n",
    "from selenium.webdriver.common.by import By\n",
    "from selenium.webdriver.support.ui import WebDriverWait\n",
    "from selenium.webdriver.support import expected_conditions as EC"
   ]
  },
  {
   "cell_type": "code",
   "execution_count": 12,
   "id": "659695d6",
   "metadata": {},
   "outputs": [],
   "source": [
    "driver = webdriver.Chrome()\n",
    "driver.get(\"https://www.theguardian.com/news/datablog/2012/aug/09/best-selling-books-all-time-fifty-shades-greycompare/\")"
   ]
  },
  {
   "cell_type": "code",
   "execution_count": 13,
   "id": "2e630f97",
   "metadata": {},
   "outputs": [
    {
     "name": "stdout",
     "output_type": "stream",
     "text": [
      "Unable to locate book details\n"
     ]
    }
   ],
   "source": [
    "try:\n",
    "    book_details = WebDriverWait(driver, 10).until(EC.presence_of_all_elements_located((By.CSS_SELECTOR, \"table > tbody > tr\")))\n",
    "except:\n",
    "    print(\"Unable to locate book details\")"
   ]
  },
  {
   "cell_type": "code",
   "execution_count": 14,
   "id": "cc5a10a9",
   "metadata": {},
   "outputs": [
    {
     "ename": "NameError",
     "evalue": "name 'book_details' is not defined",
     "output_type": "error",
     "traceback": [
      "\u001b[1;31m---------------------------------------------------------------------------\u001b[0m",
      "\u001b[1;31mNameError\u001b[0m                                 Traceback (most recent call last)",
      "Input \u001b[1;32mIn [14]\u001b[0m, in \u001b[0;36m<cell line: 1>\u001b[1;34m()\u001b[0m\n\u001b[1;32m----> 1\u001b[0m \u001b[38;5;28;01mfor\u001b[39;00m book \u001b[38;5;129;01min\u001b[39;00m \u001b[43mbook_details\u001b[49m:\n\u001b[0;32m      2\u001b[0m     book_name \u001b[38;5;241m=\u001b[39m book\u001b[38;5;241m.\u001b[39mfind_element_by_css_selector(\u001b[38;5;124m\"\u001b[39m\u001b[38;5;124mtd:nth-child(2)\u001b[39m\u001b[38;5;124m\"\u001b[39m)\u001b[38;5;241m.\u001b[39mtext\n\u001b[0;32m      3\u001b[0m     author_name \u001b[38;5;241m=\u001b[39m book\u001b[38;5;241m.\u001b[39mfind_element_by_css_selector(\u001b[38;5;124m\"\u001b[39m\u001b[38;5;124mtd:nth-child(3)\u001b[39m\u001b[38;5;124m\"\u001b[39m)\u001b[38;5;241m.\u001b[39mtext\n",
      "\u001b[1;31mNameError\u001b[0m: name 'book_details' is not defined"
     ]
    }
   ],
   "source": [
    "for book in book_details:\n",
    "    book_name = book.find_element_by_css_selector(\"td:nth-child(2)\").text\n",
    "    author_name = book.find_element_by_css_selector(\"td:nth-child(3)\").text\n",
    "    volumes_sold = book.find_element_by_css_selector(\"td:nth-child(4)\").text\n",
    "    publisher = book.find_element_by_css_selector(\"td:nth-child(5)\").text\n",
    "    genre = book.find_element_by_css_selector(\"td:nth-child(6)\").text"
   ]
  },
  {
   "cell_type": "code",
   "execution_count": 15,
   "id": "9ee07867",
   "metadata": {},
   "outputs": [
    {
     "ename": "NameError",
     "evalue": "name 'book_name' is not defined",
     "output_type": "error",
     "traceback": [
      "\u001b[1;31m---------------------------------------------------------------------------\u001b[0m",
      "\u001b[1;31mNameError\u001b[0m                                 Traceback (most recent call last)",
      "Input \u001b[1;32mIn [15]\u001b[0m, in \u001b[0;36m<cell line: 1>\u001b[1;34m()\u001b[0m\n\u001b[1;32m----> 1\u001b[0m \u001b[38;5;28mprint\u001b[39m(\u001b[38;5;124m\"\u001b[39m\u001b[38;5;124mBook: \u001b[39m\u001b[38;5;124m\"\u001b[39m \u001b[38;5;241m+\u001b[39m \u001b[43mbook_name\u001b[49m)\n\u001b[0;32m      2\u001b[0m \u001b[38;5;28mprint\u001b[39m(\u001b[38;5;124m\"\u001b[39m\u001b[38;5;124mAuthor: \u001b[39m\u001b[38;5;124m\"\u001b[39m \u001b[38;5;241m+\u001b[39m author_name)\n\u001b[0;32m      3\u001b[0m \u001b[38;5;28mprint\u001b[39m(\u001b[38;5;124m\"\u001b[39m\u001b[38;5;124mVolumes sold: \u001b[39m\u001b[38;5;124m\"\u001b[39m \u001b[38;5;241m+\u001b[39m volumes_sold)\n",
      "\u001b[1;31mNameError\u001b[0m: name 'book_name' is not defined"
     ]
    }
   ],
   "source": [
    "print(\"Book: \" + book_name)\n",
    "print(\"Author: \" + author_name)\n",
    "print(\"Volumes sold: \" + volumes_sold)\n",
    "print(\"Publisher: \" + publisher)\n",
    "print(\"Genre: \" + genre)\n",
    "print()"
   ]
  },
  {
   "cell_type": "code",
   "execution_count": 16,
   "id": "62dbe04c",
   "metadata": {},
   "outputs": [],
   "source": [
    "driver.quit()"
   ]
  },
  {
   "cell_type": "code",
   "execution_count": 17,
   "id": "cf98db2b",
   "metadata": {},
   "outputs": [],
   "source": [
    "## 7. Scrape the details most watched tv series of all time from imdb.com.\n",
    "# Url = https://www.imdb.com/list/ls095964455/\n",
    "# You have to find the following details:\n",
    "# A) Name\n",
    "# B) Year span\n",
    "# C) Genre\n",
    "# D) Run time\n",
    "# E) Ratings\n",
    "# F) Votes"
   ]
  },
  {
   "cell_type": "code",
   "execution_count": 18,
   "id": "0927a52b",
   "metadata": {},
   "outputs": [],
   "source": [
    "from selenium import webdriver\n",
    "from selenium.webdriver.common.by import By\n",
    "from selenium.webdriver.support.ui import WebDriverWait\n",
    "from selenium.webdriver.support import expected_conditions as EC"
   ]
  },
  {
   "cell_type": "code",
   "execution_count": 19,
   "id": "7bbaba1f",
   "metadata": {},
   "outputs": [],
   "source": [
    "driver = webdriver.Chrome()\n",
    "driver.get(\"https://www.imdb.com/list/ls095964455/\")"
   ]
  },
  {
   "cell_type": "code",
   "execution_count": 20,
   "id": "ffb83861",
   "metadata": {},
   "outputs": [],
   "source": [
    "try:\n",
    "    tv_series = WebDriverWait(driver, 10).until(EC.presence_of_all_elements_located((By.CSS_SELECTOR, \"div.lister-item-content\")))\n",
    "except:\n",
    "    print(\"Unable to locate TV series details\")"
   ]
  },
  {
   "cell_type": "code",
   "execution_count": 21,
   "id": "9dd3e38b",
   "metadata": {},
   "outputs": [
    {
     "ename": "AttributeError",
     "evalue": "'WebElement' object has no attribute 'find_element_by_css_selector'",
     "output_type": "error",
     "traceback": [
      "\u001b[1;31m---------------------------------------------------------------------------\u001b[0m",
      "\u001b[1;31mAttributeError\u001b[0m                            Traceback (most recent call last)",
      "Input \u001b[1;32mIn [21]\u001b[0m, in \u001b[0;36m<cell line: 1>\u001b[1;34m()\u001b[0m\n\u001b[0;32m      1\u001b[0m \u001b[38;5;28;01mfor\u001b[39;00m series \u001b[38;5;129;01min\u001b[39;00m tv_series:\n\u001b[1;32m----> 2\u001b[0m     name \u001b[38;5;241m=\u001b[39m \u001b[43mseries\u001b[49m\u001b[38;5;241;43m.\u001b[39;49m\u001b[43mfind_element_by_css_selector\u001b[49m(\u001b[38;5;124m\"\u001b[39m\u001b[38;5;124mh3 > a\u001b[39m\u001b[38;5;124m\"\u001b[39m)\u001b[38;5;241m.\u001b[39mtext\n\u001b[0;32m      3\u001b[0m     year_span \u001b[38;5;241m=\u001b[39m series\u001b[38;5;241m.\u001b[39mfind_element_by_css_selector(\u001b[38;5;124m\"\u001b[39m\u001b[38;5;124mspan.lister-item-year\u001b[39m\u001b[38;5;124m\"\u001b[39m)\u001b[38;5;241m.\u001b[39mtext\n\u001b[0;32m      4\u001b[0m     genre \u001b[38;5;241m=\u001b[39m series\u001b[38;5;241m.\u001b[39mfind_element_by_css_selector(\u001b[38;5;124m\"\u001b[39m\u001b[38;5;124mspan.genre\u001b[39m\u001b[38;5;124m\"\u001b[39m)\u001b[38;5;241m.\u001b[39mtext\n",
      "\u001b[1;31mAttributeError\u001b[0m: 'WebElement' object has no attribute 'find_element_by_css_selector'"
     ]
    }
   ],
   "source": [
    "for series in tv_series:\n",
    "    name = series.find_element_by_css_selector(\"h3 > a\").text\n",
    "    year_span = series.find_element_by_css_selector(\"span.lister-item-year\").text\n",
    "    genre = series.find_element_by_css_selector(\"span.genre\").text\n",
    "    run_time = series.find_element_by_css_selector(\"span.runtime\").text\n",
    "    ratings = series.find_element_by_css_selector(\"div.ratings-bar > div.inline-block.ratings-imdb-rating\").text.strip()\n",
    "    votes = series.find_element_by_css_selector(\"p.sort-num_votes-visible > span:nth-child(2)\").text"
   ]
  },
  {
   "cell_type": "code",
   "execution_count": 22,
   "id": "53c73daa",
   "metadata": {},
   "outputs": [
    {
     "ename": "NameError",
     "evalue": "name 'name' is not defined",
     "output_type": "error",
     "traceback": [
      "\u001b[1;31m---------------------------------------------------------------------------\u001b[0m",
      "\u001b[1;31mNameError\u001b[0m                                 Traceback (most recent call last)",
      "Input \u001b[1;32mIn [22]\u001b[0m, in \u001b[0;36m<cell line: 1>\u001b[1;34m()\u001b[0m\n\u001b[1;32m----> 1\u001b[0m \u001b[38;5;28mprint\u001b[39m(\u001b[38;5;124m\"\u001b[39m\u001b[38;5;124mName: \u001b[39m\u001b[38;5;124m\"\u001b[39m \u001b[38;5;241m+\u001b[39m \u001b[43mname\u001b[49m)\n\u001b[0;32m      2\u001b[0m \u001b[38;5;28mprint\u001b[39m(\u001b[38;5;124m\"\u001b[39m\u001b[38;5;124mYear span: \u001b[39m\u001b[38;5;124m\"\u001b[39m \u001b[38;5;241m+\u001b[39m year_span)\n\u001b[0;32m      3\u001b[0m \u001b[38;5;28mprint\u001b[39m(\u001b[38;5;124m\"\u001b[39m\u001b[38;5;124mGenre: \u001b[39m\u001b[38;5;124m\"\u001b[39m \u001b[38;5;241m+\u001b[39m genre)\n",
      "\u001b[1;31mNameError\u001b[0m: name 'name' is not defined"
     ]
    }
   ],
   "source": [
    "print(\"Name: \" + name)\n",
    "print(\"Year span: \" + year_span)\n",
    "print(\"Genre: \" + genre)\n",
    "print(\"Run time: \" + run_time)\n",
    "print(\"Ratings: \" + ratings)\n",
    "print(\"Votes: \" + votes)\n",
    "print()"
   ]
  },
  {
   "cell_type": "code",
   "execution_count": 23,
   "id": "95616198",
   "metadata": {},
   "outputs": [],
   "source": [
    "driver.quit()"
   ]
  },
  {
   "cell_type": "code",
   "execution_count": 24,
   "id": "d42f7460",
   "metadata": {},
   "outputs": [],
   "source": [
    "## Details of Datasets from UCI machine learning repositories.\n",
    "## Url = https://archive.ics.uci.edu/\n",
    "## You have to find the following details:\n",
    "## A) Dataset name\n",
    "## B) Data type\n",
    "## C) Task\n",
    "## D) Attribute type\n",
    "## E) No of instances\n",
    "## F) No of attribute\n",
    "## G) Year\n",
    "## Note: - from the home page you have to go to the ShowAllDataset page through code."
   ]
  },
  {
   "cell_type": "code",
   "execution_count": 25,
   "id": "d834db91",
   "metadata": {},
   "outputs": [],
   "source": [
    "from selenium import webdriver\n",
    "from selenium.webdriver.common.by import By\n",
    "from selenium.webdriver.support.ui import WebDriverWait\n",
    "from selenium.webdriver.support import expected_conditions as EC"
   ]
  },
  {
   "cell_type": "code",
   "execution_count": 26,
   "id": "b178d789",
   "metadata": {},
   "outputs": [],
   "source": [
    "driver = webdriver.Chrome()\n",
    "driver.get(\"https://archive.ics.uci.edu/\")"
   ]
  },
  {
   "cell_type": "code",
   "execution_count": 27,
   "id": "ef38808f",
   "metadata": {},
   "outputs": [
    {
     "name": "stdout",
     "output_type": "stream",
     "text": [
      "Unable to locate the 'View All Data Sets' link\n"
     ]
    }
   ],
   "source": [
    "try:\n",
    "    view_all_data_sets = WebDriverWait(driver, 10).until(EC.presence_of_element_located((By.LINK_TEXT, \"View All Data Sets\")))\n",
    "    view_all_data_sets.click()\n",
    "except:\n",
    "    print(\"Unable to locate the 'View All Data Sets' link\")"
   ]
  },
  {
   "cell_type": "code",
   "execution_count": 28,
   "id": "6143fcae",
   "metadata": {},
   "outputs": [
    {
     "name": "stdout",
     "output_type": "stream",
     "text": [
      "Unable to locate dataset details\n"
     ]
    }
   ],
   "source": [
    "try:\n",
    "    dataset_table = WebDriverWait(driver, 10).until(EC.presence_of_element_located((By.CSS_SELECTOR, \"table\")))\n",
    "    dataset_rows = dataset_table.find_elements_by_css_selector(\"tr\")\n",
    "except:\n",
    "    print(\"Unable to locate dataset details\")"
   ]
  },
  {
   "cell_type": "code",
   "execution_count": 29,
   "id": "b36c4c8b",
   "metadata": {},
   "outputs": [
    {
     "ename": "SyntaxError",
     "evalue": "unexpected EOF while parsing (2474792048.py, line 10)",
     "output_type": "error",
     "traceback": [
      "\u001b[1;36m  Input \u001b[1;32mIn [29]\u001b[1;36m\u001b[0m\n\u001b[1;33m    year = columns[6].text\u001b[0m\n\u001b[1;37m                          ^\u001b[0m\n\u001b[1;31mSyntaxError\u001b[0m\u001b[1;31m:\u001b[0m unexpected EOF while parsing\n"
     ]
    }
   ],
   "source": [
    "for row in dataset_rows:\n",
    "    try:\n",
    "        columns = row.find_elements_by_css_selector(\"td\")\n",
    "        dataset_name = columns[0].find_element_by_css_selector(\"a\").text\n",
    "        data_type = columns[1].text\n",
    "        task = columns[2].text\n",
    "        attribute_type = columns[3].text\n",
    "        num_instances = columns[4].text\n",
    "        num_attributes = columns[5].text\n",
    "        year = columns[6].text"
   ]
  },
  {
   "cell_type": "code",
   "execution_count": 32,
   "id": "ecf73b29",
   "metadata": {},
   "outputs": [
    {
     "ename": "IndentationError",
     "evalue": "unexpected indent (1387885161.py, line 2)",
     "output_type": "error",
     "traceback": [
      "\u001b[1;36m  Input \u001b[1;32mIn [32]\u001b[1;36m\u001b[0m\n\u001b[1;33m    print(\"Data type: \" + data_type)\u001b[0m\n\u001b[1;37m    ^\u001b[0m\n\u001b[1;31mIndentationError\u001b[0m\u001b[1;31m:\u001b[0m unexpected indent\n"
     ]
    }
   ],
   "source": [
    "print(\"Dataset name: \" + dataset_name)\n",
    "    print(\"Data type: \" + data_type)\n",
    "    print(\"Task: \" + task)\n",
    "    print(\"Attribute type: \" + attribute_type)\n",
    "    print(\"Number of instances: \" + num_instances)\n",
    "    print(\"Number of attributes: \" + num_attributes)\n",
    "    print(\"Year: \" + year)\n",
    "    print()\n",
    "except:\n",
    "    continue"
   ]
  },
  {
   "cell_type": "code",
   "execution_count": 33,
   "id": "622a7446",
   "metadata": {},
   "outputs": [],
   "source": [
    "driver.close()"
   ]
  },
  {
   "cell_type": "code",
   "execution_count": null,
   "id": "b3f995a2",
   "metadata": {},
   "outputs": [],
   "source": []
  }
 ],
 "metadata": {
  "kernelspec": {
   "display_name": "Python 3 (ipykernel)",
   "language": "python",
   "name": "python3"
  },
  "language_info": {
   "codemirror_mode": {
    "name": "ipython",
    "version": 3
   },
   "file_extension": ".py",
   "mimetype": "text/x-python",
   "name": "python",
   "nbconvert_exporter": "python",
   "pygments_lexer": "ipython3",
   "version": "3.9.12"
  }
 },
 "nbformat": 4,
 "nbformat_minor": 5
}
