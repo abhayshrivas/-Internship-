{
 "cells": [
  {
   "cell_type": "code",
   "execution_count": 1,
   "id": "90579945",
   "metadata": {},
   "outputs": [],
   "source": [
    "import time\n",
    "import csv\n",
    "import pandas as pd\n",
    "from selenium import webdriver\n",
    "from selenium.webdriver.common.keys import Keys\n",
    "from selenium.webdriver.common.by import By\n",
    "from selenium.webdriver.support.ui import WebDriverWait\n",
    "from selenium.webdriver.support import expected_conditions as EC"
   ]
  },
  {
   "cell_type": "code",
   "execution_count": 2,
   "id": "ca84aa24",
   "metadata": {},
   "outputs": [
    {
     "name": "stderr",
     "output_type": "stream",
     "text": [
      "C:\\Users\\DELL\\AppData\\Local\\Temp\\ipykernel_5172\\3118156031.py:1: DeprecationWarning: executable_path has been deprecated, please pass in a Service object\n",
      "  driver=webdriver.Chrome(r\"C:\\Users\\DELL\\Downloads\\chromedriver_win32.zip/chromedriver.exe\")\n"
     ]
    }
   ],
   "source": [
    "driver=webdriver.Chrome(r\"C:\\Users\\DELL\\Downloads\\chromedriver_win32.zip/chromedriver.exe\")"
   ]
  },
  {
   "cell_type": "code",
   "execution_count": 3,
   "id": "0db57179",
   "metadata": {},
   "outputs": [],
   "source": [
    "driver.get(\"https://www.amazon.in./\")"
   ]
  },
  {
   "cell_type": "code",
   "execution_count": 4,
   "id": "2b9fc156",
   "metadata": {},
   "outputs": [
    {
     "name": "stdout",
     "output_type": "stream",
     "text": [
      "Enter the product name to search on Amazon: guitar\n"
     ]
    }
   ],
   "source": [
    "search_term = input(\"Enter the product name to search on Amazon: \")\n"
   ]
  },
  {
   "cell_type": "code",
   "execution_count": 5,
   "id": "bc43a6e3",
   "metadata": {},
   "outputs": [
    {
     "ename": "AttributeError",
     "evalue": "'WebDriver' object has no attribute 'find_element_by_id'",
     "output_type": "error",
     "traceback": [
      "\u001b[1;31m---------------------------------------------------------------------------\u001b[0m",
      "\u001b[1;31mAttributeError\u001b[0m                            Traceback (most recent call last)",
      "Input \u001b[1;32mIn [5]\u001b[0m, in \u001b[0;36m<cell line: 1>\u001b[1;34m()\u001b[0m\n\u001b[1;32m----> 1\u001b[0m search_box \u001b[38;5;241m=\u001b[39m \u001b[43mdriver\u001b[49m\u001b[38;5;241;43m.\u001b[39;49m\u001b[43mfind_element_by_id\u001b[49m(\u001b[38;5;124m\"\u001b[39m\u001b[38;5;124mtwotabsearchtextbox\u001b[39m\u001b[38;5;124m\"\u001b[39m)\n\u001b[0;32m      2\u001b[0m search_box\u001b[38;5;241m.\u001b[39mclear()\n\u001b[0;32m      3\u001b[0m search_box\u001b[38;5;241m.\u001b[39msend_keys(search_term)\n",
      "\u001b[1;31mAttributeError\u001b[0m: 'WebDriver' object has no attribute 'find_element_by_id'"
     ]
    }
   ],
   "source": [
    "search_box = driver.find_element_by_id(\"twotabsearchtextbox\")\n",
    "search_box.clear()\n",
    "search_box.send_keys(search_term)\n",
    "search_box.send_keys(Keys.RETURN)"
   ]
  },
  {
   "cell_type": "code",
   "execution_count": 6,
   "id": "4f4a4400",
   "metadata": {},
   "outputs": [
    {
     "ename": "TimeoutException",
     "evalue": "Message: \nStacktrace:\nBacktrace:\n\t(No symbol) [0x00E26643]\n\t(No symbol) [0x00DBBE21]\n\t(No symbol) [0x00CBDA9D]\n\t(No symbol) [0x00CF1342]\n\t(No symbol) [0x00CF147B]\n\t(No symbol) [0x00D28DC2]\n\t(No symbol) [0x00D0FDC4]\n\t(No symbol) [0x00D26B09]\n\t(No symbol) [0x00D0FB76]\n\t(No symbol) [0x00CE49C1]\n\t(No symbol) [0x00CE5E5D]\n\tGetHandleVerifier [0x0109A142+2497106]\n\tGetHandleVerifier [0x010C85D3+2686691]\n\tGetHandleVerifier [0x010CBB9C+2700460]\n\tGetHandleVerifier [0x00ED3B10+635936]\n\t(No symbol) [0x00DC4A1F]\n\t(No symbol) [0x00DCA418]\n\t(No symbol) [0x00DCA505]\n\t(No symbol) [0x00DD508B]\n\tBaseThreadInitThunk [0x75246A14+36]\n\tRtlInitializeExceptionChain [0x7717A9FF+143]\n\tRtlInitializeExceptionChain [0x7717A9CA+90]\n",
     "output_type": "error",
     "traceback": [
      "\u001b[1;31m---------------------------------------------------------------------------\u001b[0m",
      "\u001b[1;31mTimeoutException\u001b[0m                          Traceback (most recent call last)",
      "Input \u001b[1;32mIn [6]\u001b[0m, in \u001b[0;36m<cell line: 2>\u001b[1;34m()\u001b[0m\n\u001b[0;32m      1\u001b[0m wait \u001b[38;5;241m=\u001b[39m WebDriverWait(driver, \u001b[38;5;241m10\u001b[39m)\n\u001b[1;32m----> 2\u001b[0m \u001b[43mwait\u001b[49m\u001b[38;5;241;43m.\u001b[39;49m\u001b[43muntil\u001b[49m\u001b[43m(\u001b[49m\u001b[43mEC\u001b[49m\u001b[38;5;241;43m.\u001b[39;49m\u001b[43mpresence_of_element_located\u001b[49m\u001b[43m(\u001b[49m\u001b[43m(\u001b[49m\u001b[43mBy\u001b[49m\u001b[38;5;241;43m.\u001b[39;49m\u001b[43mID\u001b[49m\u001b[43m,\u001b[49m\u001b[43m \u001b[49m\u001b[38;5;124;43m\"\u001b[39;49m\u001b[38;5;124;43ms-result-count\u001b[39;49m\u001b[38;5;124;43m\"\u001b[39;49m\u001b[43m)\u001b[49m\u001b[43m)\u001b[49m\u001b[43m)\u001b[49m\n",
      "File \u001b[1;32m~\\anaconda3\\lib\\site-packages\\selenium\\webdriver\\support\\wait.py:95\u001b[0m, in \u001b[0;36mWebDriverWait.until\u001b[1;34m(self, method, message)\u001b[0m\n\u001b[0;32m     93\u001b[0m     \u001b[38;5;28;01mif\u001b[39;00m time\u001b[38;5;241m.\u001b[39mmonotonic() \u001b[38;5;241m>\u001b[39m end_time:\n\u001b[0;32m     94\u001b[0m         \u001b[38;5;28;01mbreak\u001b[39;00m\n\u001b[1;32m---> 95\u001b[0m \u001b[38;5;28;01mraise\u001b[39;00m TimeoutException(message, screen, stacktrace)\n",
      "\u001b[1;31mTimeoutException\u001b[0m: Message: \nStacktrace:\nBacktrace:\n\t(No symbol) [0x00E26643]\n\t(No symbol) [0x00DBBE21]\n\t(No symbol) [0x00CBDA9D]\n\t(No symbol) [0x00CF1342]\n\t(No symbol) [0x00CF147B]\n\t(No symbol) [0x00D28DC2]\n\t(No symbol) [0x00D0FDC4]\n\t(No symbol) [0x00D26B09]\n\t(No symbol) [0x00D0FB76]\n\t(No symbol) [0x00CE49C1]\n\t(No symbol) [0x00CE5E5D]\n\tGetHandleVerifier [0x0109A142+2497106]\n\tGetHandleVerifier [0x010C85D3+2686691]\n\tGetHandleVerifier [0x010CBB9C+2700460]\n\tGetHandleVerifier [0x00ED3B10+635936]\n\t(No symbol) [0x00DC4A1F]\n\t(No symbol) [0x00DCA418]\n\t(No symbol) [0x00DCA505]\n\t(No symbol) [0x00DD508B]\n\tBaseThreadInitThunk [0x75246A14+36]\n\tRtlInitializeExceptionChain [0x7717A9FF+143]\n\tRtlInitializeExceptionChain [0x7717A9CA+90]\n"
     ]
    }
   ],
   "source": [
    "wait = WebDriverWait(driver, 10)\n",
    "wait.until(EC.presence_of_element_located((By.ID, \"s-result-count\")))"
   ]
  },
  {
   "cell_type": "code",
   "execution_count": 8,
   "id": "9ba8d9f6",
   "metadata": {},
   "outputs": [
    {
     "ename": "SyntaxError",
     "evalue": "unexpected EOF while parsing (2728027792.py, line 37)",
     "output_type": "error",
     "traceback": [
      "\u001b[1;36m  Input \u001b[1;32mIn [8]\u001b[1;36m\u001b[0m\n\u001b[1;33m    next_button = driver.find\u001b[0m\n\u001b[1;37m                             ^\u001b[0m\n\u001b[1;31mSyntaxError\u001b[0m\u001b[1;31m:\u001b[0m unexpected EOF while parsing\n"
     ]
    }
   ],
   "source": [
    "products = []\n",
    "try:\n",
    "    for page in range(3):\n",
    "        product_cards = driver.find_elements_by_css_selector(\"div.s-result-item\")\n",
    "        for card in product_cards:\n",
    "            product = {}\n",
    "            try:\n",
    "                product[\"Brand Name\"] = card.find_element_by_css_selector(\"span.a-size-medium.a-color-secondary\").text\n",
    "            except:\n",
    "                product[\"Brand Name\"] = \"-\"\n",
    "            try:\n",
    "                product[\"Name of the Product\"] = card.find_element_by_css_selector(\"span.a-size-medium.a-text-normal\").text\n",
    "            except:\n",
    "                product[\"Name of the Product\"] = \"-\"\n",
    "            try:\n",
    "                product[\"Price\"] = card.find_element_by_css_selector(\"span.a-offscreen\").text\n",
    "            except:\n",
    "                product[\"Price\"] = \"-\"\n",
    "            try:\n",
    "                product[\"Return/Exchange\"] = card.find_element_by_css_selector(\"span.a-size-base.a-color-secondary\").text\n",
    "            except:\n",
    "                product[\"Return/Exchange\"] = \"-\"\n",
    "            try:\n",
    "                product[\"Expected Delivery\"] = card.find_element_by_css_selector(\"span.a-size-base.a-color-secondary\").text\n",
    "            except:\n",
    "                product[\"Expected Delivery\"] = \"-\"\n",
    "            try:\n",
    "                product[\"Availability\"] = card.find_element_by_css_selector(\"span.a-size-base.a-color-secondary\").text\n",
    "            except:\n",
    "                product[\"Availability\"] = \"-\"\n",
    "            try:\n",
    "                product[\"Product URL\"] = card.find_element_by_css_selector(\"a.a-link-normal.a-text-normal\").get_attribute(\"href\")\n",
    "            except:\n",
    "                product[\"Product URL\"] = \"-\"\n",
    "            products.append(product)\n",
    "        try:\n",
    "            next_button = driver.find"
   ]
  },
  {
   "cell_type": "code",
   "execution_count": 1,
   "id": "0e9bbccb",
   "metadata": {},
   "outputs": [],
   "source": [
    "### Write a python program to access the search bar and search button on images.google.com and scrape 10 images each for keywords ‘fruits’, ‘cars’ and ‘Machine Learning’, ‘Guitar’, ‘Cakes’."
   ]
  },
  {
   "cell_type": "code",
   "execution_count": 2,
   "id": "7047d6fb",
   "metadata": {},
   "outputs": [],
   "source": [
    "import time\n",
    "import requests\n",
    "from bs4 import BeautifulSoup\n",
    "from selenium import webdriver\n",
    "from selenium.webdriver.common.keys import Keys"
   ]
  },
  {
   "cell_type": "code",
   "execution_count": 3,
   "id": "321cf557",
   "metadata": {},
   "outputs": [
    {
     "name": "stderr",
     "output_type": "stream",
     "text": [
      "C:\\Users\\DELL\\AppData\\Local\\Temp\\ipykernel_2424\\3118156031.py:1: DeprecationWarning: executable_path has been deprecated, please pass in a Service object\n",
      "  driver=webdriver.Chrome(r\"C:\\Users\\DELL\\Downloads\\chromedriver_win32.zip/chromedriver.exe\")\n"
     ]
    }
   ],
   "source": [
    "driver=webdriver.Chrome(r\"C:\\Users\\DELL\\Downloads\\chromedriver_win32.zip/chromedriver.exe\")"
   ]
  },
  {
   "cell_type": "code",
   "execution_count": 4,
   "id": "9b659a62",
   "metadata": {},
   "outputs": [],
   "source": [
    "driver.get(\"https://images.google.com/\")"
   ]
  },
  {
   "cell_type": "code",
   "execution_count": 7,
   "id": "01f41864",
   "metadata": {},
   "outputs": [
    {
     "ename": "AttributeError",
     "evalue": "'WebDriver' object has no attribute 'find_element_by_name'",
     "output_type": "error",
     "traceback": [
      "\u001b[1;31m---------------------------------------------------------------------------\u001b[0m",
      "\u001b[1;31mAttributeError\u001b[0m                            Traceback (most recent call last)",
      "Input \u001b[1;32mIn [7]\u001b[0m, in \u001b[0;36m<cell line: 2>\u001b[1;34m()\u001b[0m\n\u001b[0;32m      1\u001b[0m keywords \u001b[38;5;241m=\u001b[39m [\u001b[38;5;124m'\u001b[39m\u001b[38;5;124mfruits\u001b[39m\u001b[38;5;124m'\u001b[39m, \u001b[38;5;124m'\u001b[39m\u001b[38;5;124mcars\u001b[39m\u001b[38;5;124m'\u001b[39m, \u001b[38;5;124m'\u001b[39m\u001b[38;5;124mMachine Learning\u001b[39m\u001b[38;5;124m'\u001b[39m, \u001b[38;5;124m'\u001b[39m\u001b[38;5;124mGuitar\u001b[39m\u001b[38;5;124m'\u001b[39m, \u001b[38;5;124m'\u001b[39m\u001b[38;5;124mCakes\u001b[39m\u001b[38;5;124m'\u001b[39m]\n\u001b[0;32m      2\u001b[0m \u001b[38;5;28;01mfor\u001b[39;00m keyword \u001b[38;5;129;01min\u001b[39;00m keywords:\n\u001b[1;32m----> 3\u001b[0m     search_box \u001b[38;5;241m=\u001b[39m \u001b[43mdriver\u001b[49m\u001b[38;5;241;43m.\u001b[39;49m\u001b[43mfind_element_by_name\u001b[49m(\u001b[38;5;124m\"\u001b[39m\u001b[38;5;124mq\u001b[39m\u001b[38;5;124m\"\u001b[39m)\n\u001b[0;32m      4\u001b[0m     search_box\u001b[38;5;241m.\u001b[39mclear()\n\u001b[0;32m      5\u001b[0m     search_box\u001b[38;5;241m.\u001b[39msend_keys(keyword)\n",
      "\u001b[1;31mAttributeError\u001b[0m: 'WebDriver' object has no attribute 'find_element_by_name'"
     ]
    }
   ],
   "source": [
    "keywords = ['fruits', 'cars', 'Machine Learning', 'Guitar', 'Cakes']\n",
    "for keyword in keywords:\n",
    "    search_box = driver.find_element_by_name(\"q\")\n",
    "    search_box.clear()\n",
    "    search_box.send_keys(keyword)\n",
    "    search_box.send_keys(Keys.RETURN)"
   ]
  },
  {
   "cell_type": "code",
   "execution_count": 8,
   "id": "b42b8f8d",
   "metadata": {},
   "outputs": [],
   "source": [
    " time.sleep(3)"
   ]
  },
  {
   "cell_type": "code",
   "execution_count": 10,
   "id": "3b9463e7",
   "metadata": {},
   "outputs": [
    {
     "ename": "IndentationError",
     "evalue": "unexpected indent (555004814.py, line 2)",
     "output_type": "error",
     "traceback": [
      "\u001b[1;36m  Input \u001b[1;32mIn [10]\u001b[1;36m\u001b[0m\n\u001b[1;33m    try:\u001b[0m\n\u001b[1;37m    ^\u001b[0m\n\u001b[1;31mIndentationError\u001b[0m\u001b[1;31m:\u001b[0m unexpected indent\n"
     ]
    }
   ],
   "source": [
    "images = []\n",
    "    try:\n",
    "        image_cards = driver.find_elements_by_css_selector(\"img.rg_i\")\n",
    "        for i, card in enumerate(image_cards[:10]):\n",
    "            try:\n",
    "                src = card.get_attribute(\"src\")\n",
    "                if src:\n",
    "                    images.append(requests.get(src).content)\n",
    "                else:\n",
    "                    src = card.get_attribute(\"data-src\")\n",
    "                    images.append(requests.get(src).content)\n",
    "            except:\n",
    "                continue\n",
    "    except:\n",
    "        continue"
   ]
  },
  {
   "cell_type": "code",
   "execution_count": 11,
   "id": "b4023171",
   "metadata": {},
   "outputs": [
    {
     "ename": "NameError",
     "evalue": "name 'images' is not defined",
     "output_type": "error",
     "traceback": [
      "\u001b[1;31m---------------------------------------------------------------------------\u001b[0m",
      "\u001b[1;31mNameError\u001b[0m                                 Traceback (most recent call last)",
      "Input \u001b[1;32mIn [11]\u001b[0m, in \u001b[0;36m<cell line: 1>\u001b[1;34m()\u001b[0m\n\u001b[1;32m----> 1\u001b[0m \u001b[38;5;28;01mfor\u001b[39;00m i, image \u001b[38;5;129;01min\u001b[39;00m \u001b[38;5;28menumerate\u001b[39m(\u001b[43mimages\u001b[49m):\n\u001b[0;32m      2\u001b[0m         \u001b[38;5;28;01mwith\u001b[39;00m \u001b[38;5;28mopen\u001b[39m(\u001b[38;5;124mf\u001b[39m\u001b[38;5;124m\"\u001b[39m\u001b[38;5;132;01m{\u001b[39;00mkeyword\u001b[38;5;132;01m}\u001b[39;00m\u001b[38;5;124m_\u001b[39m\u001b[38;5;132;01m{\u001b[39;00mi\u001b[38;5;132;01m}\u001b[39;00m\u001b[38;5;124m.jpg\u001b[39m\u001b[38;5;124m\"\u001b[39m, \u001b[38;5;124m\"\u001b[39m\u001b[38;5;124mwb\u001b[39m\u001b[38;5;124m\"\u001b[39m) \u001b[38;5;28;01mas\u001b[39;00m f:\n\u001b[0;32m      3\u001b[0m             f\u001b[38;5;241m.\u001b[39mwrite(image)\n",
      "\u001b[1;31mNameError\u001b[0m: name 'images' is not defined"
     ]
    }
   ],
   "source": [
    "for i, image in enumerate(images):\n",
    "        with open(f\"{keyword}_{i}.jpg\", \"wb\") as f:\n",
    "            f.write(image)"
   ]
  },
  {
   "cell_type": "code",
   "execution_count": 12,
   "id": "1f60f6e3",
   "metadata": {},
   "outputs": [],
   "source": [
    "driver.close()"
   ]
  },
  {
   "cell_type": "code",
   "execution_count": 13,
   "id": "55d514d5",
   "metadata": {},
   "outputs": [],
   "source": [
    "### Write a python program to search for a smartphone(e.g.: Oneplus Nord, pixel 4A, etc.) on www.flipkart.com and scrape following details for all the search results displayed on 1st page. Details to be scraped: “Brand Name”, “Smartphone name”, “Colour”, “RAM”, “Storage(ROM)”, “Primary Camera”, “Secondary Camera”, “Display Size”, “Battery Capacity”, “Price”, “Product URL”. Incase if any of the details is missing then replace it by “- “. Save your results in a dataframe and CSV."
   ]
  },
  {
   "cell_type": "code",
   "execution_count": 1,
   "id": "918c9d09",
   "metadata": {},
   "outputs": [],
   "source": [
    "from selenium import webdriver\n",
    "from selenium.webdriver.common.keys import Keys\n",
    "import pandas as pd"
   ]
  },
  {
   "cell_type": "code",
   "execution_count": 2,
   "id": "598969c1",
   "metadata": {},
   "outputs": [
    {
     "name": "stderr",
     "output_type": "stream",
     "text": [
      "C:\\Users\\DELL\\AppData\\Local\\Temp\\ipykernel_12240\\3118156031.py:1: DeprecationWarning: executable_path has been deprecated, please pass in a Service object\n",
      "  driver=webdriver.Chrome(r\"C:\\Users\\DELL\\Downloads\\chromedriver_win32.zip/chromedriver.exe\")\n"
     ]
    }
   ],
   "source": [
    "driver=webdriver.Chrome(r\"C:\\Users\\DELL\\Downloads\\chromedriver_win32.zip/chromedriver.exe\")"
   ]
  },
  {
   "cell_type": "code",
   "execution_count": 3,
   "id": "640548b3",
   "metadata": {},
   "outputs": [],
   "source": [
    "driver.get(\"https://www.flipkart.com/\")"
   ]
  },
  {
   "cell_type": "code",
   "execution_count": 4,
   "id": "bfd14f24",
   "metadata": {},
   "outputs": [
    {
     "ename": "NameError",
     "evalue": "name 'browser' is not defined",
     "output_type": "error",
     "traceback": [
      "\u001b[1;31m---------------------------------------------------------------------------\u001b[0m",
      "\u001b[1;31mNameError\u001b[0m                                 Traceback (most recent call last)",
      "Input \u001b[1;32mIn [4]\u001b[0m, in \u001b[0;36m<cell line: 1>\u001b[1;34m()\u001b[0m\n\u001b[1;32m----> 1\u001b[0m search_box \u001b[38;5;241m=\u001b[39m \u001b[43mbrowser\u001b[49m\u001b[38;5;241m.\u001b[39mfind_element_by_name(\u001b[38;5;124m'\u001b[39m\u001b[38;5;124mq\u001b[39m\u001b[38;5;124m'\u001b[39m)\n\u001b[0;32m      2\u001b[0m search_box\u001b[38;5;241m.\u001b[39msend_keys(\u001b[38;5;124m'\u001b[39m\u001b[38;5;124mOneplus Nord\u001b[39m\u001b[38;5;124m'\u001b[39m)\n\u001b[0;32m      3\u001b[0m search_box\u001b[38;5;241m.\u001b[39msend_keys(Keys\u001b[38;5;241m.\u001b[39mRETURN)\n",
      "\u001b[1;31mNameError\u001b[0m: name 'browser' is not defined"
     ]
    }
   ],
   "source": [
    "search_box = browser.find_element_by_name('q')\n",
    "search_box.send_keys('Oneplus Nord')\n",
    "search_box.send_keys(Keys.RETURN)"
   ]
  },
  {
   "cell_type": "code",
   "execution_count": 8,
   "id": "1f12e90d",
   "metadata": {},
   "outputs": [
    {
     "ename": "AttributeError",
     "evalue": "'WebDriver' object has no attribute 'find_elements_by_class_name'",
     "output_type": "error",
     "traceback": [
      "\u001b[1;31m---------------------------------------------------------------------------\u001b[0m",
      "\u001b[1;31mAttributeError\u001b[0m                            Traceback (most recent call last)",
      "Input \u001b[1;32mIn [8]\u001b[0m, in \u001b[0;36m<cell line: 2>\u001b[1;34m()\u001b[0m\n\u001b[0;32m      1\u001b[0m product_list \u001b[38;5;241m=\u001b[39m []\n\u001b[1;32m----> 2\u001b[0m products \u001b[38;5;241m=\u001b[39m \u001b[43mdriver\u001b[49m\u001b[38;5;241;43m.\u001b[39;49m\u001b[43mfind_elements_by_class_name\u001b[49m(\u001b[38;5;124m'\u001b[39m\u001b[38;5;124m_2kHMtA\u001b[39m\u001b[38;5;124m'\u001b[39m)\n",
      "\u001b[1;31mAttributeError\u001b[0m: 'WebDriver' object has no attribute 'find_elements_by_class_name'"
     ]
    }
   ],
   "source": [
    "product_list = []\n",
    "products = driver.find_elements_by_class_name('_2kHMtA')"
   ]
  },
  {
   "cell_type": "code",
   "execution_count": 5,
   "id": "3850427b",
   "metadata": {},
   "outputs": [
    {
     "ename": "SyntaxError",
     "evalue": "unexpected EOF while parsing (3906573675.py, line 9)",
     "output_type": "error",
     "traceback": [
      "\u001b[1;36m  Input \u001b[1;32mIn [5]\u001b[1;36m\u001b[0m\n\u001b[1;33m    product_list.append([brand, name, color, ram, storage, primary_cam, secondary_cam, display, battery, price, url]\u001b[0m\n\u001b[1;37m                                                                                                                    ^\u001b[0m\n\u001b[1;31mSyntaxError\u001b[0m\u001b[1;31m:\u001b[0m unexpected EOF while parsing\n"
     ]
    }
   ],
   "source": [
    "for product in products:\n",
    "    details = product.text.split('\\n')\n",
    "    name = details[0]\n",
    "    url = product.find_element_by_tag_name('a').get_attribute('href')\n",
    "    if len(details) == 9:\n",
    "        brand, color, ram, storage, primary_cam, secondary_cam, display, battery, price = details\n",
    "    else:\n",
    "        brand, color, ram, storage, primary_cam, secondary_cam, display, battery, _, price = details\n",
    "    product_list.append([brand, name, color, ram, storage, primary_cam, secondary_cam, display, battery, price, url]"
   ]
  },
  {
   "cell_type": "code",
   "execution_count": 6,
   "id": "a119e5ad",
   "metadata": {},
   "outputs": [
    {
     "ename": "NameError",
     "evalue": "name 'product_list' is not defined",
     "output_type": "error",
     "traceback": [
      "\u001b[1;31m---------------------------------------------------------------------------\u001b[0m",
      "\u001b[1;31mNameError\u001b[0m                                 Traceback (most recent call last)",
      "Input \u001b[1;32mIn [6]\u001b[0m, in \u001b[0;36m<cell line: 1>\u001b[1;34m()\u001b[0m\n\u001b[1;32m----> 1\u001b[0m df \u001b[38;5;241m=\u001b[39m pd\u001b[38;5;241m.\u001b[39mDataFrame(\u001b[43mproduct_list\u001b[49m, columns\u001b[38;5;241m=\u001b[39m[\u001b[38;5;124m'\u001b[39m\u001b[38;5;124mBrand Name\u001b[39m\u001b[38;5;124m'\u001b[39m, \u001b[38;5;124m'\u001b[39m\u001b[38;5;124mSmartphone Name\u001b[39m\u001b[38;5;124m'\u001b[39m, \u001b[38;5;124m'\u001b[39m\u001b[38;5;124mColour\u001b[39m\u001b[38;5;124m'\u001b[39m, \u001b[38;5;124m'\u001b[39m\u001b[38;5;124mRAM\u001b[39m\u001b[38;5;124m'\u001b[39m, \u001b[38;5;124m'\u001b[39m\u001b[38;5;124mStorage(ROM)\u001b[39m\u001b[38;5;124m'\u001b[39m, \u001b[38;5;124m'\u001b[39m\u001b[38;5;124mPrimary Camera\u001b[39m\u001b[38;5;124m'\u001b[39m, \u001b[38;5;124m'\u001b[39m\u001b[38;5;124mSecondary Camera\u001b[39m\u001b[38;5;124m'\u001b[39m, \u001b[38;5;124m'\u001b[39m\u001b[38;5;124mDisplay Size\u001b[39m\u001b[38;5;124m'\u001b[39m, \u001b[38;5;124m'\u001b[39m\u001b[38;5;124mBattery Capacity\u001b[39m\u001b[38;5;124m'\u001b[39m, \u001b[38;5;124m'\u001b[39m\u001b[38;5;124mPrice\u001b[39m\u001b[38;5;124m'\u001b[39m, \u001b[38;5;124m'\u001b[39m\u001b[38;5;124mProduct URL\u001b[39m\u001b[38;5;124m'\u001b[39m])\n\u001b[0;32m      2\u001b[0m df\u001b[38;5;241m.\u001b[39mto_csv(\u001b[38;5;124m'\u001b[39m\u001b[38;5;124msmartphone_search_results.csv\u001b[39m\u001b[38;5;124m'\u001b[39m, index\u001b[38;5;241m=\u001b[39m\u001b[38;5;28;01mFalse\u001b[39;00m)\n",
      "\u001b[1;31mNameError\u001b[0m: name 'product_list' is not defined"
     ]
    }
   ],
   "source": [
    "df = pd.DataFrame(product_list, columns=['Brand Name', 'Smartphone Name', 'Colour', 'RAM', 'Storage(ROM)', 'Primary Camera', 'Secondary Camera', 'Display Size', 'Battery Capacity', 'Price', 'Product URL'])\n",
    "df.to_csv('smartphone_search_results.csv', index=False)"
   ]
  },
  {
   "cell_type": "code",
   "execution_count": 9,
   "id": "9e950827",
   "metadata": {},
   "outputs": [],
   "source": [
    "driver.close()"
   ]
  },
  {
   "cell_type": "code",
   "execution_count": null,
   "id": "4d76a15c",
   "metadata": {},
   "outputs": [],
   "source": [
    "### Write a program to scrap geospatial coordinates (latitude, longitude) of a city searched on google maps."
   ]
  },
  {
   "cell_type": "code",
   "execution_count": 10,
   "id": "3ec58063",
   "metadata": {},
   "outputs": [],
   "source": [
    "from selenium import webdriver\n",
    "from selenium.common.exceptions import NoSuchElementException\n",
    "import time"
   ]
  },
  {
   "cell_type": "code",
   "execution_count": 11,
   "id": "b020f509",
   "metadata": {},
   "outputs": [
    {
     "name": "stderr",
     "output_type": "stream",
     "text": [
      "C:\\Users\\DELL\\AppData\\Local\\Temp\\ipykernel_12240\\3118156031.py:1: DeprecationWarning: executable_path has been deprecated, please pass in a Service object\n",
      "  driver=webdriver.Chrome(r\"C:\\Users\\DELL\\Downloads\\chromedriver_win32.zip/chromedriver.exe\")\n"
     ]
    }
   ],
   "source": [
    "driver=webdriver.Chrome(r\"C:\\Users\\DELL\\Downloads\\chromedriver_win32.zip/chromedriver.exe\")"
   ]
  },
  {
   "cell_type": "code",
   "execution_count": 14,
   "id": "a7aa2ff6",
   "metadata": {},
   "outputs": [],
   "source": [
    "driver.get(\"https://www.google.com/maps/\")"
   ]
  },
  {
   "cell_type": "code",
   "execution_count": 16,
   "id": "50cbb43a",
   "metadata": {},
   "outputs": [
    {
     "ename": "AttributeError",
     "evalue": "'WebDriver' object has no attribute 'find_element_by_id'",
     "output_type": "error",
     "traceback": [
      "\u001b[1;31m---------------------------------------------------------------------------\u001b[0m",
      "\u001b[1;31mAttributeError\u001b[0m                            Traceback (most recent call last)",
      "Input \u001b[1;32mIn [16]\u001b[0m, in \u001b[0;36m<cell line: 1>\u001b[1;34m()\u001b[0m\n\u001b[1;32m----> 1\u001b[0m search_box \u001b[38;5;241m=\u001b[39m \u001b[43mdriver\u001b[49m\u001b[38;5;241;43m.\u001b[39;49m\u001b[43mfind_element_by_id\u001b[49m(\u001b[38;5;124m'\u001b[39m\u001b[38;5;124msearchboxinput\u001b[39m\u001b[38;5;124m'\u001b[39m)\n\u001b[0;32m      2\u001b[0m search_box\u001b[38;5;241m.\u001b[39msend_keys(\u001b[38;5;124m'\u001b[39m\u001b[38;5;124mNew York\u001b[39m\u001b[38;5;124m'\u001b[39m)\n\u001b[0;32m      3\u001b[0m search_box\u001b[38;5;241m.\u001b[39msubmit()\n",
      "\u001b[1;31mAttributeError\u001b[0m: 'WebDriver' object has no attribute 'find_element_by_id'"
     ]
    }
   ],
   "source": [
    "search_box = driver.find_element_by_id('searchboxinput')\n",
    "search_box.send_keys('New York')\n",
    "search_box.submit()\n",
    "time.sleep(5)"
   ]
  },
  {
   "cell_type": "code",
   "execution_count": 18,
   "id": "d9d14afe",
   "metadata": {},
   "outputs": [
    {
     "ename": "AttributeError",
     "evalue": "'WebDriver' object has no attribute 'find_element_by_css_selector'",
     "output_type": "error",
     "traceback": [
      "\u001b[1;31m---------------------------------------------------------------------------\u001b[0m",
      "\u001b[1;31mAttributeError\u001b[0m                            Traceback (most recent call last)",
      "Input \u001b[1;32mIn [18]\u001b[0m, in \u001b[0;36m<cell line: 1>\u001b[1;34m()\u001b[0m\n\u001b[0;32m      1\u001b[0m \u001b[38;5;28;01mtry\u001b[39;00m:\n\u001b[1;32m----> 2\u001b[0m     more_info_button \u001b[38;5;241m=\u001b[39m \u001b[43mdriver\u001b[49m\u001b[38;5;241;43m.\u001b[39;49m\u001b[43mfind_element_by_css_selector\u001b[49m(\u001b[38;5;124m'\u001b[39m\u001b[38;5;124mbutton[jsaction=\u001b[39m\u001b[38;5;124m\"\u001b[39m\u001b[38;5;124mpane.moreInfo\u001b[39m\u001b[38;5;124m\"\u001b[39m\u001b[38;5;124m]\u001b[39m\u001b[38;5;124m'\u001b[39m)\n\u001b[0;32m      3\u001b[0m     more_info_button\u001b[38;5;241m.\u001b[39mclick()\n\u001b[0;32m      4\u001b[0m     time\u001b[38;5;241m.\u001b[39msleep(\u001b[38;5;241m2\u001b[39m)\n",
      "\u001b[1;31mAttributeError\u001b[0m: 'WebDriver' object has no attribute 'find_element_by_css_selector'"
     ]
    }
   ],
   "source": [
    "try:\n",
    "    more_info_button = driver.find_element_by_css_selector('button[jsaction=\"pane.moreInfo\"]')\n",
    "    more_info_button.click()\n",
    "    time.sleep(2)\n",
    "except NoSuchElementException:\n",
    "    pass"
   ]
  },
  {
   "cell_type": "code",
   "execution_count": 20,
   "id": "a8ea9c3a",
   "metadata": {},
   "outputs": [
    {
     "ename": "AttributeError",
     "evalue": "'WebDriver' object has no attribute 'find_element_by_css_selector'",
     "output_type": "error",
     "traceback": [
      "\u001b[1;31m---------------------------------------------------------------------------\u001b[0m",
      "\u001b[1;31mAttributeError\u001b[0m                            Traceback (most recent call last)",
      "Input \u001b[1;32mIn [20]\u001b[0m, in \u001b[0;36m<cell line: 1>\u001b[1;34m()\u001b[0m\n\u001b[0;32m      1\u001b[0m \u001b[38;5;28;01mtry\u001b[39;00m:\n\u001b[1;32m----> 2\u001b[0m     directions_button \u001b[38;5;241m=\u001b[39m \u001b[43mdriver\u001b[49m\u001b[38;5;241;43m.\u001b[39;49m\u001b[43mfind_element_by_css_selector\u001b[49m(\u001b[38;5;124m'\u001b[39m\u001b[38;5;124mbutton[jsaction=\u001b[39m\u001b[38;5;124m\"\u001b[39m\u001b[38;5;124mpane.directions\u001b[39m\u001b[38;5;124m\"\u001b[39m\u001b[38;5;124m]\u001b[39m\u001b[38;5;124m'\u001b[39m)\n\u001b[0;32m      3\u001b[0m     directions_button\u001b[38;5;241m.\u001b[39mclick()\n\u001b[0;32m      4\u001b[0m     time\u001b[38;5;241m.\u001b[39msleep(\u001b[38;5;241m2\u001b[39m)\n",
      "\u001b[1;31mAttributeError\u001b[0m: 'WebDriver' object has no attribute 'find_element_by_css_selector'"
     ]
    }
   ],
   "source": [
    "try:\n",
    "    directions_button = driver.find_element_by_css_selector('button[jsaction=\"pane.directions\"]')\n",
    "    directions_button.click()\n",
    "    time.sleep(2)\n",
    "except NoSuchElementException:\n",
    "    pass"
   ]
  },
  {
   "cell_type": "code",
   "execution_count": 22,
   "id": "a1921595",
   "metadata": {},
   "outputs": [],
   "source": [
    "url = driver.current_url\n",
    "lat_lng_index = url.index('@') + 1\n",
    "lat_lng_str = url[lat_lng_index:].split(',')[0:2]\n",
    "lat, lng = float(lat_lng_str[0]), float(lat_lng_str[1])\n"
   ]
  },
  {
   "cell_type": "code",
   "execution_count": 23,
   "id": "1ae95801",
   "metadata": {},
   "outputs": [
    {
     "name": "stdout",
     "output_type": "stream",
     "text": [
      "Latitude: 24.5631661\n",
      "Longitude: 80.7990178\n"
     ]
    }
   ],
   "source": [
    "print(f'Latitude: {lat}')\n",
    "print(f'Longitude: {lng}')"
   ]
  },
  {
   "cell_type": "code",
   "execution_count": 25,
   "id": "bad0033f",
   "metadata": {},
   "outputs": [],
   "source": [
    "driver.close()"
   ]
  },
  {
   "cell_type": "code",
   "execution_count": 26,
   "id": "35229a1a",
   "metadata": {},
   "outputs": [],
   "source": [
    "### Write a program to scrap details of all the funding deals for second quarter (i.e Jan 21 – March 21) from trak.in."
   ]
  },
  {
   "cell_type": "code",
   "execution_count": 27,
   "id": "b830d3c0",
   "metadata": {},
   "outputs": [],
   "source": [
    "from selenium import webdriver\n",
    "from selenium.common.exceptions import NoSuchElementException\n",
    "import time\n",
    "import pandas as pd"
   ]
  },
  {
   "cell_type": "code",
   "execution_count": 28,
   "id": "33387acd",
   "metadata": {},
   "outputs": [
    {
     "name": "stderr",
     "output_type": "stream",
     "text": [
      "C:\\Users\\DELL\\AppData\\Local\\Temp\\ipykernel_12240\\3118156031.py:1: DeprecationWarning: executable_path has been deprecated, please pass in a Service object\n",
      "  driver=webdriver.Chrome(r\"C:\\Users\\DELL\\Downloads\\chromedriver_win32.zip/chromedriver.exe\")\n"
     ]
    }
   ],
   "source": [
    "driver=webdriver.Chrome(r\"C:\\Users\\DELL\\Downloads\\chromedriver_win32.zip/chromedriver.exe\")"
   ]
  },
  {
   "cell_type": "code",
   "execution_count": 29,
   "id": "0474e6a7",
   "metadata": {},
   "outputs": [],
   "source": [
    "driver.get(\"https://trak.in/india-startup-funding-investment-2015/\")"
   ]
  },
  {
   "cell_type": "code",
   "execution_count": 30,
   "id": "ff33dc7d",
   "metadata": {},
   "outputs": [
    {
     "ename": "NameError",
     "evalue": "name 'browser' is not defined",
     "output_type": "error",
     "traceback": [
      "\u001b[1;31m---------------------------------------------------------------------------\u001b[0m",
      "\u001b[1;31mNameError\u001b[0m                                 Traceback (most recent call last)",
      "Input \u001b[1;32mIn [30]\u001b[0m, in \u001b[0;36m<cell line: 2>\u001b[1;34m()\u001b[0m\n\u001b[0;32m      1\u001b[0m \u001b[38;5;28;01mwhile\u001b[39;00m \u001b[38;5;28;01mTrue\u001b[39;00m:\n\u001b[0;32m      2\u001b[0m     \u001b[38;5;28;01mtry\u001b[39;00m:\n\u001b[1;32m----> 3\u001b[0m         load_more_button \u001b[38;5;241m=\u001b[39m \u001b[43mbrowser\u001b[49m\u001b[38;5;241m.\u001b[39mfind_element_by_id(\u001b[38;5;124m'\u001b[39m\u001b[38;5;124mbtn-loadmore\u001b[39m\u001b[38;5;124m'\u001b[39m)\n\u001b[0;32m      4\u001b[0m         load_more_button\u001b[38;5;241m.\u001b[39mclick()\n\u001b[0;32m      5\u001b[0m         time\u001b[38;5;241m.\u001b[39msleep(\u001b[38;5;241m2\u001b[39m)\n",
      "\u001b[1;31mNameError\u001b[0m: name 'browser' is not defined"
     ]
    }
   ],
   "source": [
    "while True:\n",
    "    try:\n",
    "        load_more_button = driver.find_element_by_id('btn-loadmore')\n",
    "        load_more_button.click()\n",
    "        time.sleep(2)\n",
    "    except NoSuchElementException:\n",
    "        break"
   ]
  },
  {
   "cell_type": "code",
   "execution_count": 32,
   "id": "97d4b48b",
   "metadata": {},
   "outputs": [
    {
     "ename": "AttributeError",
     "evalue": "'WebDriver' object has no attribute 'find_elements_by_css_selector'",
     "output_type": "error",
     "traceback": [
      "\u001b[1;31m---------------------------------------------------------------------------\u001b[0m",
      "\u001b[1;31mAttributeError\u001b[0m                            Traceback (most recent call last)",
      "Input \u001b[1;32mIn [32]\u001b[0m, in \u001b[0;36m<cell line: 2>\u001b[1;34m()\u001b[0m\n\u001b[0;32m      1\u001b[0m deals \u001b[38;5;241m=\u001b[39m []\n\u001b[1;32m----> 2\u001b[0m table_rows \u001b[38;5;241m=\u001b[39m \u001b[43mdriver\u001b[49m\u001b[38;5;241;43m.\u001b[39;49m\u001b[43mfind_elements_by_css_selector\u001b[49m(\u001b[38;5;124m'\u001b[39m\u001b[38;5;124mtable#tablepress-48 tbody tr\u001b[39m\u001b[38;5;124m'\u001b[39m)\n\u001b[0;32m      3\u001b[0m \u001b[38;5;28;01mfor\u001b[39;00m row \u001b[38;5;129;01min\u001b[39;00m table_rows:\n\u001b[0;32m      4\u001b[0m     date \u001b[38;5;241m=\u001b[39m row\u001b[38;5;241m.\u001b[39mfind_element_by_css_selector(\u001b[38;5;124m'\u001b[39m\u001b[38;5;124mtd.column-2\u001b[39m\u001b[38;5;124m'\u001b[39m)\u001b[38;5;241m.\u001b[39mtext\n",
      "\u001b[1;31mAttributeError\u001b[0m: 'WebDriver' object has no attribute 'find_elements_by_css_selector'"
     ]
    }
   ],
   "source": [
    "deals = []\n",
    "table_rows = driver.find_elements_by_css_selector('table#tablepress-48 tbody tr')\n",
    "for row in table_rows:\n",
    "    date = row.find_element_by_css_selector('td.column-2').text\n",
    "    if 'Jan' in date or 'Feb' in date or 'Mar' in date:\n",
    "        deal = {\n",
    "            'Date': date,\n",
    "            'Startup Name': row.find_element_by_css_selector('td.column-3').text,\n",
    "            'Industry / Vertical': row.find_element_by_css_selector('td.column-4').text,\n",
    "            'Sub-Vertical': row.find_element_by_css_selector('td.column-5').text,\n",
    "            'City / Location': row.find_element_by_css_selector('td.column-6').text,\n",
    "            'Investor Name': row.find_element_by_css_selector('td.column-7').text,\n",
    "            'Investment Type': row.find_element_by_css_selector('td.column-8').text,\n",
    "            'Amount in USD': row.find_element_by_css_selector('td.column-9').text\n",
    "        }\n",
    "        deals.append(deal)"
   ]
  },
  {
   "cell_type": "code",
   "execution_count": 33,
   "id": "54dd3af8",
   "metadata": {},
   "outputs": [],
   "source": [
    "df = pd.DataFrame(deals)\n",
    "df.to_csv('trak_in_funding_deals_Q2_2021.csv', index=False)"
   ]
  },
  {
   "cell_type": "code",
   "execution_count": 34,
   "id": "2c35bea8",
   "metadata": {},
   "outputs": [],
   "source": [
    "driver.close()"
   ]
  },
  {
   "cell_type": "code",
   "execution_count": 35,
   "id": "3105c865",
   "metadata": {},
   "outputs": [],
   "source": [
    "## Write a program to scrap all the available details of best gaming laptops from digit.in."
   ]
  },
  {
   "cell_type": "code",
   "execution_count": 36,
   "id": "1a04d658",
   "metadata": {},
   "outputs": [],
   "source": [
    "from selenium import webdriver\n",
    "from selenium.webdriver.common.by import By\n",
    "from selenium.webdriver.support.ui import WebDriverWait\n",
    "from selenium.webdriver.support import expected_conditions as EC"
   ]
  },
  {
   "cell_type": "code",
   "execution_count": 37,
   "id": "6d299e81",
   "metadata": {},
   "outputs": [
    {
     "name": "stderr",
     "output_type": "stream",
     "text": [
      "C:\\Users\\DELL\\AppData\\Local\\Temp\\ipykernel_12240\\3118156031.py:1: DeprecationWarning: executable_path has been deprecated, please pass in a Service object\n",
      "  driver=webdriver.Chrome(r\"C:\\Users\\DELL\\Downloads\\chromedriver_win32.zip/chromedriver.exe\")\n"
     ]
    }
   ],
   "source": [
    "driver=webdriver.Chrome(r\"C:\\Users\\DELL\\Downloads\\chromedriver_win32.zip/chromedriver.exe\")"
   ]
  },
  {
   "cell_type": "code",
   "execution_count": 38,
   "id": "4772b85e",
   "metadata": {},
   "outputs": [],
   "source": [
    "driver.get(\"https://www.digit.in/top-products/best-gaming-laptops-40.html\")"
   ]
  },
  {
   "cell_type": "code",
   "execution_count": 39,
   "id": "e01fc3c9",
   "metadata": {},
   "outputs": [
    {
     "ename": "TimeoutException",
     "evalue": "Message: \nStacktrace:\nBacktrace:\n\t(No symbol) [0x01056643]\n\t(No symbol) [0x00FEBE21]\n\t(No symbol) [0x00EEDA9D]\n\t(No symbol) [0x00F21342]\n\t(No symbol) [0x00F2147B]\n\t(No symbol) [0x00F58DC2]\n\t(No symbol) [0x00F3FDC4]\n\t(No symbol) [0x00F56B09]\n\t(No symbol) [0x00F3FB76]\n\t(No symbol) [0x00F149C1]\n\t(No symbol) [0x00F15E5D]\n\tGetHandleVerifier [0x012CA142+2497106]\n\tGetHandleVerifier [0x012F85D3+2686691]\n\tGetHandleVerifier [0x012FBB9C+2700460]\n\tGetHandleVerifier [0x01103B10+635936]\n\t(No symbol) [0x00FF4A1F]\n\t(No symbol) [0x00FFA418]\n\t(No symbol) [0x00FFA505]\n\t(No symbol) [0x0100508B]\n\tBaseThreadInitThunk [0x75246A14+36]\n\tRtlInitializeExceptionChain [0x7717A9FF+143]\n\tRtlInitializeExceptionChain [0x7717A9CA+90]\n",
     "output_type": "error",
     "traceback": [
      "\u001b[1;31m---------------------------------------------------------------------------\u001b[0m",
      "\u001b[1;31mTimeoutException\u001b[0m                          Traceback (most recent call last)",
      "Input \u001b[1;32mIn [39]\u001b[0m, in \u001b[0;36m<cell line: 2>\u001b[1;34m()\u001b[0m\n\u001b[0;32m      1\u001b[0m wait \u001b[38;5;241m=\u001b[39m WebDriverWait(driver, \u001b[38;5;241m10\u001b[39m)\n\u001b[1;32m----> 2\u001b[0m cookie_button \u001b[38;5;241m=\u001b[39m \u001b[43mwait\u001b[49m\u001b[38;5;241;43m.\u001b[39;49m\u001b[43muntil\u001b[49m\u001b[43m(\u001b[49m\u001b[43mEC\u001b[49m\u001b[38;5;241;43m.\u001b[39;49m\u001b[43melement_to_be_clickable\u001b[49m\u001b[43m(\u001b[49m\u001b[43m(\u001b[49m\u001b[43mBy\u001b[49m\u001b[38;5;241;43m.\u001b[39;49m\u001b[43mID\u001b[49m\u001b[43m,\u001b[49m\u001b[43m \u001b[49m\u001b[38;5;124;43m\"\u001b[39;49m\u001b[38;5;124;43mcookie_action_close_header\u001b[39;49m\u001b[38;5;124;43m\"\u001b[39;49m\u001b[43m)\u001b[49m\u001b[43m)\u001b[49m\u001b[43m)\u001b[49m\n\u001b[0;32m      3\u001b[0m cookie_button\u001b[38;5;241m.\u001b[39mclick()\n",
      "File \u001b[1;32m~\\anaconda3\\lib\\site-packages\\selenium\\webdriver\\support\\wait.py:95\u001b[0m, in \u001b[0;36mWebDriverWait.until\u001b[1;34m(self, method, message)\u001b[0m\n\u001b[0;32m     93\u001b[0m     \u001b[38;5;28;01mif\u001b[39;00m time\u001b[38;5;241m.\u001b[39mmonotonic() \u001b[38;5;241m>\u001b[39m end_time:\n\u001b[0;32m     94\u001b[0m         \u001b[38;5;28;01mbreak\u001b[39;00m\n\u001b[1;32m---> 95\u001b[0m \u001b[38;5;28;01mraise\u001b[39;00m TimeoutException(message, screen, stacktrace)\n",
      "\u001b[1;31mTimeoutException\u001b[0m: Message: \nStacktrace:\nBacktrace:\n\t(No symbol) [0x01056643]\n\t(No symbol) [0x00FEBE21]\n\t(No symbol) [0x00EEDA9D]\n\t(No symbol) [0x00F21342]\n\t(No symbol) [0x00F2147B]\n\t(No symbol) [0x00F58DC2]\n\t(No symbol) [0x00F3FDC4]\n\t(No symbol) [0x00F56B09]\n\t(No symbol) [0x00F3FB76]\n\t(No symbol) [0x00F149C1]\n\t(No symbol) [0x00F15E5D]\n\tGetHandleVerifier [0x012CA142+2497106]\n\tGetHandleVerifier [0x012F85D3+2686691]\n\tGetHandleVerifier [0x012FBB9C+2700460]\n\tGetHandleVerifier [0x01103B10+635936]\n\t(No symbol) [0x00FF4A1F]\n\t(No symbol) [0x00FFA418]\n\t(No symbol) [0x00FFA505]\n\t(No symbol) [0x0100508B]\n\tBaseThreadInitThunk [0x75246A14+36]\n\tRtlInitializeExceptionChain [0x7717A9FF+143]\n\tRtlInitializeExceptionChain [0x7717A9CA+90]\n"
     ]
    }
   ],
   "source": [
    "wait = WebDriverWait(driver, 10)\n",
    "cookie_button = wait.until(EC.element_to_be_clickable((By.ID, \"cookie_action_close_header\")))\n",
    "cookie_button.click()"
   ]
  },
  {
   "cell_type": "code",
   "execution_count": 40,
   "id": "47f622f2",
   "metadata": {},
   "outputs": [],
   "source": [
    "while True:\n",
    "    try:\n",
    "        load_more_button = wait.until(EC.element_to_be_clickable((By.ID, \"to-more-btn\")))\n",
    "        load_more_button.click()\n",
    "    except:\n",
    "        break"
   ]
  },
  {
   "cell_type": "code",
   "execution_count": 41,
   "id": "7ef60908",
   "metadata": {},
   "outputs": [
    {
     "ename": "AttributeError",
     "evalue": "'WebDriver' object has no attribute 'find_elements_by_css_selector'",
     "output_type": "error",
     "traceback": [
      "\u001b[1;31m---------------------------------------------------------------------------\u001b[0m",
      "\u001b[1;31mAttributeError\u001b[0m                            Traceback (most recent call last)",
      "Input \u001b[1;32mIn [41]\u001b[0m, in \u001b[0;36m<cell line: 2>\u001b[1;34m()\u001b[0m\n\u001b[0;32m      1\u001b[0m laptop_details \u001b[38;5;241m=\u001b[39m []\n\u001b[1;32m----> 2\u001b[0m laptops \u001b[38;5;241m=\u001b[39m \u001b[43mdriver\u001b[49m\u001b[38;5;241;43m.\u001b[39;49m\u001b[43mfind_elements_by_css_selector\u001b[49m(\u001b[38;5;124m\"\u001b[39m\u001b[38;5;124mdiv.top-block\u001b[39m\u001b[38;5;124m\"\u001b[39m)\n\u001b[0;32m      3\u001b[0m \u001b[38;5;28;01mfor\u001b[39;00m laptop \u001b[38;5;129;01min\u001b[39;00m laptops:\n\u001b[0;32m      4\u001b[0m     name \u001b[38;5;241m=\u001b[39m laptop\u001b[38;5;241m.\u001b[39mfind_element_by_css_selector(\u001b[38;5;124m\"\u001b[39m\u001b[38;5;124mdiv.top-sell-heading h3\u001b[39m\u001b[38;5;124m\"\u001b[39m)\u001b[38;5;241m.\u001b[39mtext\n",
      "\u001b[1;31mAttributeError\u001b[0m: 'WebDriver' object has no attribute 'find_elements_by_css_selector'"
     ]
    }
   ],
   "source": [
    "laptop_details = []\n",
    "laptops = driver.find_elements_by_css_selector(\"div.top-block\")\n",
    "for laptop in laptops:\n",
    "    name = laptop.find_element_by_css_selector(\"div.top-sell-heading h3\").text\n",
    "    specs = laptop.find_element_by_css_selector(\"div.specs\").text\n",
    "    price = laptop.find_element_by_css_selector(\"div.digit-price\").text\n",
    "    rating = laptop.find_element_by_css_selector(\"div.user-rating span\").text\n",
    "    laptop_details.append({\"name\": name, \"specs\": specs, \"price\": price, \"rating\": rating})\n"
   ]
  },
  {
   "cell_type": "code",
   "execution_count": 42,
   "id": "a0b6cb94",
   "metadata": {},
   "outputs": [],
   "source": [
    "for laptop in laptop_details:\n",
    "    print(laptop)"
   ]
  },
  {
   "cell_type": "code",
   "execution_count": 43,
   "id": "dcd1305c",
   "metadata": {},
   "outputs": [],
   "source": [
    "driver.close()"
   ]
  },
  {
   "cell_type": "code",
   "execution_count": 44,
   "id": "75ffdefa",
   "metadata": {},
   "outputs": [],
   "source": [
    "### 8 Write a python program to scrape the details for all billionaires from www.forbes.com. Details to be scrapped: “Rank”, “Name”, “Net worth”, “Age”, “Citizenship”, “Source”, “Industry”."
   ]
  },
  {
   "cell_type": "code",
   "execution_count": 45,
   "id": "2fe69589",
   "metadata": {},
   "outputs": [],
   "source": [
    "from selenium import webdriver\n",
    "from selenium.webdriver.common.by import By\n",
    "from selenium.webdriver.support.ui import WebDriverWait\n",
    "from selenium.webdriver.support import expected_conditions as EC"
   ]
  },
  {
   "cell_type": "code",
   "execution_count": 46,
   "id": "61b5d0fd",
   "metadata": {},
   "outputs": [
    {
     "name": "stderr",
     "output_type": "stream",
     "text": [
      "C:\\Users\\DELL\\AppData\\Local\\Temp\\ipykernel_12240\\3118156031.py:1: DeprecationWarning: executable_path has been deprecated, please pass in a Service object\n",
      "  driver=webdriver.Chrome(r\"C:\\Users\\DELL\\Downloads\\chromedriver_win32.zip/chromedriver.exe\")\n"
     ]
    }
   ],
   "source": [
    "driver=webdriver.Chrome(r\"C:\\Users\\DELL\\Downloads\\chromedriver_win32.zip/chromedriver.exe\")"
   ]
  },
  {
   "cell_type": "code",
   "execution_count": 48,
   "id": "e985fdde",
   "metadata": {},
   "outputs": [],
   "source": [
    "driver.get(\"https://www.forbes.com/billionaires/\")"
   ]
  },
  {
   "cell_type": "code",
   "execution_count": 49,
   "id": "d8686122",
   "metadata": {},
   "outputs": [
    {
     "ename": "TimeoutException",
     "evalue": "Message: \nStacktrace:\nBacktrace:\n\t(No symbol) [0x01056643]\n\t(No symbol) [0x00FEBE21]\n\t(No symbol) [0x00EEDA9D]\n\t(No symbol) [0x00F21342]\n\t(No symbol) [0x00F2147B]\n\t(No symbol) [0x00F58DC2]\n\t(No symbol) [0x00F3FDC4]\n\t(No symbol) [0x00F56B09]\n\t(No symbol) [0x00F3FB76]\n\t(No symbol) [0x00F149C1]\n\t(No symbol) [0x00F15E5D]\n\tGetHandleVerifier [0x012CA142+2497106]\n\tGetHandleVerifier [0x012F85D3+2686691]\n\tGetHandleVerifier [0x012FBB9C+2700460]\n\tGetHandleVerifier [0x01103B10+635936]\n\t(No symbol) [0x00FF4A1F]\n\t(No symbol) [0x00FFA418]\n\t(No symbol) [0x00FFA505]\n\t(No symbol) [0x0100508B]\n\tBaseThreadInitThunk [0x75246A14+36]\n\tRtlInitializeExceptionChain [0x7717A9FF+143]\n\tRtlInitializeExceptionChain [0x7717A9CA+90]\n",
     "output_type": "error",
     "traceback": [
      "\u001b[1;31m---------------------------------------------------------------------------\u001b[0m",
      "\u001b[1;31mTimeoutException\u001b[0m                          Traceback (most recent call last)",
      "Input \u001b[1;32mIn [49]\u001b[0m, in \u001b[0;36m<cell line: 2>\u001b[1;34m()\u001b[0m\n\u001b[0;32m      1\u001b[0m wait \u001b[38;5;241m=\u001b[39m WebDriverWait(driver, \u001b[38;5;241m10\u001b[39m)\n\u001b[1;32m----> 2\u001b[0m cookie_button \u001b[38;5;241m=\u001b[39m \u001b[43mwait\u001b[49m\u001b[38;5;241;43m.\u001b[39;49m\u001b[43muntil\u001b[49m\u001b[43m(\u001b[49m\u001b[43mEC\u001b[49m\u001b[38;5;241;43m.\u001b[39;49m\u001b[43melement_to_be_clickable\u001b[49m\u001b[43m(\u001b[49m\u001b[43m(\u001b[49m\u001b[43mBy\u001b[49m\u001b[38;5;241;43m.\u001b[39;49m\u001b[43mCSS_SELECTOR\u001b[49m\u001b[43m,\u001b[49m\u001b[43m \u001b[49m\u001b[38;5;124;43m\"\u001b[39;49m\u001b[38;5;124;43mbutton[aria-label=\u001b[39;49m\u001b[38;5;124;43m'\u001b[39;49m\u001b[38;5;124;43mAccept\u001b[39;49m\u001b[38;5;124;43m'\u001b[39;49m\u001b[38;5;124;43m]\u001b[39;49m\u001b[38;5;124;43m\"\u001b[39;49m\u001b[43m)\u001b[49m\u001b[43m)\u001b[49m\u001b[43m)\u001b[49m\n\u001b[0;32m      3\u001b[0m cookie_button\u001b[38;5;241m.\u001b[39mclick()\n",
      "File \u001b[1;32m~\\anaconda3\\lib\\site-packages\\selenium\\webdriver\\support\\wait.py:95\u001b[0m, in \u001b[0;36mWebDriverWait.until\u001b[1;34m(self, method, message)\u001b[0m\n\u001b[0;32m     93\u001b[0m     \u001b[38;5;28;01mif\u001b[39;00m time\u001b[38;5;241m.\u001b[39mmonotonic() \u001b[38;5;241m>\u001b[39m end_time:\n\u001b[0;32m     94\u001b[0m         \u001b[38;5;28;01mbreak\u001b[39;00m\n\u001b[1;32m---> 95\u001b[0m \u001b[38;5;28;01mraise\u001b[39;00m TimeoutException(message, screen, stacktrace)\n",
      "\u001b[1;31mTimeoutException\u001b[0m: Message: \nStacktrace:\nBacktrace:\n\t(No symbol) [0x01056643]\n\t(No symbol) [0x00FEBE21]\n\t(No symbol) [0x00EEDA9D]\n\t(No symbol) [0x00F21342]\n\t(No symbol) [0x00F2147B]\n\t(No symbol) [0x00F58DC2]\n\t(No symbol) [0x00F3FDC4]\n\t(No symbol) [0x00F56B09]\n\t(No symbol) [0x00F3FB76]\n\t(No symbol) [0x00F149C1]\n\t(No symbol) [0x00F15E5D]\n\tGetHandleVerifier [0x012CA142+2497106]\n\tGetHandleVerifier [0x012F85D3+2686691]\n\tGetHandleVerifier [0x012FBB9C+2700460]\n\tGetHandleVerifier [0x01103B10+635936]\n\t(No symbol) [0x00FF4A1F]\n\t(No symbol) [0x00FFA418]\n\t(No symbol) [0x00FFA505]\n\t(No symbol) [0x0100508B]\n\tBaseThreadInitThunk [0x75246A14+36]\n\tRtlInitializeExceptionChain [0x7717A9FF+143]\n\tRtlInitializeExceptionChain [0x7717A9CA+90]\n"
     ]
    }
   ],
   "source": [
    "wait = WebDriverWait(driver, 10)\n",
    "cookie_button = wait.until(EC.element_to_be_clickable((By.CSS_SELECTOR, \"button[aria-label='Accept']\")))\n",
    "cookie_button.click()"
   ]
  },
  {
   "cell_type": "code",
   "execution_count": null,
   "id": "559b7ad7",
   "metadata": {},
   "outputs": [],
   "source": [
    "while True:\n",
    "    try:\n",
    "        load_more_button = wait.until(EC.element_to_be_clickable((By.CSS_SELECTOR, \"button[data-test='load-more']\")))\n",
    "        load_more_button.click()\n",
    "    except:\n",
    "        break"
   ]
  },
  {
   "cell_type": "code",
   "execution_count": null,
   "id": "dab76de5",
   "metadata": {},
   "outputs": [],
   "source": [
    "billionaires_details = []\n",
    "billionaires = driver.find_elements_by_css_selector(\"div[data-test='list-item']\")\n",
    "for billionaire in billionaires:\n",
    "    rank = billionaire.find_element_by_css_selector(\"div.rank\").text\n",
    "    name = billionaire.find_element_by_css_selector(\"div.personName\").text\n",
    "    net_worth = billionaire.find_element_by_css_selector(\"div.netWorth\").text\n",
    "    age = billionaire.find_element_by_css_selector(\"div.age\").text\n",
    "    citizenship = billionaire.find_element_by_css_selector(\"div.countryOfCitizenship\").text\n",
    "    source = billionaire.find_element_by_css_selector(\"div.source\").text\n",
    "    industry = billionaire.find_element_by_css_selector(\"div.category\").text\n",
    "    billionaires_details.append({\"rank\": rank, \"name\": name, \"net_worth\": net_worth, \"age\": age, \"citizenship\": citizenship, \"source\": source, \"industry\": industry})"
   ]
  },
  {
   "cell_type": "code",
   "execution_count": 50,
   "id": "7696e7c3",
   "metadata": {},
   "outputs": [
    {
     "ename": "NameError",
     "evalue": "name 'billionaires_details' is not defined",
     "output_type": "error",
     "traceback": [
      "\u001b[1;31m---------------------------------------------------------------------------\u001b[0m",
      "\u001b[1;31mNameError\u001b[0m                                 Traceback (most recent call last)",
      "Input \u001b[1;32mIn [50]\u001b[0m, in \u001b[0;36m<cell line: 1>\u001b[1;34m()\u001b[0m\n\u001b[1;32m----> 1\u001b[0m \u001b[38;5;28;01mfor\u001b[39;00m billionaire \u001b[38;5;129;01min\u001b[39;00m \u001b[43mbillionaires_details\u001b[49m:\n\u001b[0;32m      2\u001b[0m     \u001b[38;5;28mprint\u001b[39m(billionaire)\n",
      "\u001b[1;31mNameError\u001b[0m: name 'billionaires_details' is not defined"
     ]
    }
   ],
   "source": [
    "for billionaire in billionaires_details:\n",
    "    print(billionaire)"
   ]
  },
  {
   "cell_type": "code",
   "execution_count": 51,
   "id": "a685aafc",
   "metadata": {},
   "outputs": [],
   "source": [
    "driver.close()"
   ]
  },
  {
   "cell_type": "code",
   "execution_count": 52,
   "id": "2f26d351",
   "metadata": {},
   "outputs": [],
   "source": [
    "### 9 Write a program to extract at least 500 Comments, Comment upvote and time when comment was posted from any YouTube Video"
   ]
  },
  {
   "cell_type": "code",
   "execution_count": 53,
   "id": "8b1f7e51",
   "metadata": {},
   "outputs": [],
   "source": [
    "from selenium import webdriver\n",
    "from selenium.common.exceptions import NoSuchElementException, TimeoutException\n",
    "from selenium.webdriver.common.by import By\n",
    "from selenium.webdriver.support.ui import WebDriverWait\n",
    "from selenium.webdriver.support import expected_conditions as EC\n",
    "import time"
   ]
  },
  {
   "cell_type": "code",
   "execution_count": 54,
   "id": "95acc4f7",
   "metadata": {},
   "outputs": [
    {
     "name": "stderr",
     "output_type": "stream",
     "text": [
      "C:\\Users\\DELL\\AppData\\Local\\Temp\\ipykernel_12240\\3118156031.py:1: DeprecationWarning: executable_path has been deprecated, please pass in a Service object\n",
      "  driver=webdriver.Chrome(r\"C:\\Users\\DELL\\Downloads\\chromedriver_win32.zip/chromedriver.exe\")\n"
     ]
    }
   ],
   "source": [
    "driver=webdriver.Chrome(r\"C:\\Users\\DELL\\Downloads\\chromedriver_win32.zip/chromedriver.exe\")"
   ]
  },
  {
   "cell_type": "code",
   "execution_count": 55,
   "id": "0c482383",
   "metadata": {},
   "outputs": [],
   "source": [
    "driver.get(\"https://www.youtube.com/watch?v=<VIDEO_ID>\")"
   ]
  },
  {
   "cell_type": "code",
   "execution_count": 57,
   "id": "ba4c475e",
   "metadata": {},
   "outputs": [
    {
     "ename": "SyntaxError",
     "evalue": "unexpected EOF while parsing (2949486599.py, line 5)",
     "output_type": "error",
     "traceback": [
      "\u001b[1;36m  Input \u001b[1;32mIn [57]\u001b[1;36m\u001b[0m\n\u001b[1;33m    show_more_button.click()\u001b[0m\n\u001b[1;37m                            ^\u001b[0m\n\u001b[1;31mSyntaxError\u001b[0m\u001b[1;31m:\u001b[0m unexpected EOF while parsing\n"
     ]
    }
   ],
   "source": [
    "while True:\n",
    "    try:\n",
    "        show_more_button = WebDriverWait(driver, 10).until(EC.element_to_be_clickable((By.XPATH, '//yt-formatted-string[@class=\"more-button style-scope ytd-comment-renderer\"]'))\n",
    "        )\n",
    "        show_more_button.click()"
   ]
  },
  {
   "cell_type": "code",
   "execution_count": 61,
   "id": "534168d6",
   "metadata": {},
   "outputs": [
    {
     "ename": "IndentationError",
     "evalue": "unexpected indent (4287289144.py, line 2)",
     "output_type": "error",
     "traceback": [
      "\u001b[1;36m  Input \u001b[1;32mIn [61]\u001b[1;36m\u001b[0m\n\u001b[1;33m    except (NoSuchElementException, TimeoutException):\u001b[0m\n\u001b[1;37m    ^\u001b[0m\n\u001b[1;31mIndentationError\u001b[0m\u001b[1;31m:\u001b[0m unexpected indent\n"
     ]
    }
   ],
   "source": [
    "time.sleep(2)\n",
    "    except (NoSuchElementException, TimeoutException):\n",
    "        break"
   ]
  },
  {
   "cell_type": "code",
   "execution_count": 62,
   "id": "5ac4fdee",
   "metadata": {},
   "outputs": [
    {
     "ename": "AttributeError",
     "evalue": "'WebDriver' object has no attribute 'find_elements_by_xpath'",
     "output_type": "error",
     "traceback": [
      "\u001b[1;31m---------------------------------------------------------------------------\u001b[0m",
      "\u001b[1;31mAttributeError\u001b[0m                            Traceback (most recent call last)",
      "Input \u001b[1;32mIn [62]\u001b[0m, in \u001b[0;36m<cell line: 1>\u001b[1;34m()\u001b[0m\n\u001b[1;32m----> 1\u001b[0m comment_elements \u001b[38;5;241m=\u001b[39m \u001b[43mdriver\u001b[49m\u001b[38;5;241;43m.\u001b[39;49m\u001b[43mfind_elements_by_xpath\u001b[49m(\u001b[38;5;124m'\u001b[39m\u001b[38;5;124m//div[@id=\u001b[39m\u001b[38;5;124m\"\u001b[39m\u001b[38;5;124mcomment\u001b[39m\u001b[38;5;124m\"\u001b[39m\u001b[38;5;124m]\u001b[39m\u001b[38;5;124m'\u001b[39m)\n\u001b[0;32m      3\u001b[0m count \u001b[38;5;241m=\u001b[39m \u001b[38;5;241m0\u001b[39m\n\u001b[0;32m      4\u001b[0m \u001b[38;5;28;01mfor\u001b[39;00m comment_element \u001b[38;5;129;01min\u001b[39;00m comment_elements:\n",
      "\u001b[1;31mAttributeError\u001b[0m: 'WebDriver' object has no attribute 'find_elements_by_xpath'"
     ]
    }
   ],
   "source": [
    "comment_elements = driver.find_elements_by_xpath('//div[@id=\"comment\"]')\n",
    "\n",
    "count = 0\n",
    "for comment_element in comment_elements:\n",
    "    try:\n",
    "        comment_text = comment_element.find_element_by_id(\"content-text\").text\n",
    "\n",
    "        comment_upvotes = comment_element.find_element_by_xpath('.//span[@class=\"style-scope ytd-comment-action-buttons-renderer\"]//span[@class=\"style-scope ytd-comment-action-buttons-renderer\"]').text\n",
    "\n",
    "        comment_time = comment_element.find_element_by_xpath('.//yt-formatted-string[@class=\"published-time-text above-comment style-scope ytd-comment-renderer\"]').text\n",
    "\n",
    "        print(f\"{comment_text} | {comment_upvotes} upvotes | {comment_time}\")\n",
    "\n",
    "        count += 1\n",
    "        if count >= 500:\n",
    "            break\n",
    "\n",
    "    except (NoSuchElementException, TimeoutException):\n",
    "        continue"
   ]
  },
  {
   "cell_type": "code",
   "execution_count": 63,
   "id": "13ab094c",
   "metadata": {},
   "outputs": [],
   "source": [
    "driver.close()"
   ]
  },
  {
   "cell_type": "code",
   "execution_count": 64,
   "id": "31bd1081",
   "metadata": {},
   "outputs": [],
   "source": [
    "### 10 Write a python program to scrape a data for all available Hostels from https://www.hostelworld.com/ in “London” location. You have to scrape hostel name, distance from city centre, ratings, total reviews, overall reviews, privates from price, dorms from price, facilities and property description."
   ]
  },
  {
   "cell_type": "code",
   "execution_count": 65,
   "id": "a2d3c843",
   "metadata": {},
   "outputs": [],
   "source": [
    "from selenium import webdriver\n",
    "from selenium.common.exceptions import NoSuchElementException, TimeoutException\n",
    "from selenium.webdriver.common.by import By\n",
    "from selenium.webdriver.support.ui import WebDriverWait\n",
    "from selenium.webdriver.support import expected_conditions as EC"
   ]
  },
  {
   "cell_type": "code",
   "execution_count": 66,
   "id": "db3d5f76",
   "metadata": {},
   "outputs": [
    {
     "name": "stderr",
     "output_type": "stream",
     "text": [
      "C:\\Users\\DELL\\AppData\\Local\\Temp\\ipykernel_12240\\3118156031.py:1: DeprecationWarning: executable_path has been deprecated, please pass in a Service object\n",
      "  driver=webdriver.Chrome(r\"C:\\Users\\DELL\\Downloads\\chromedriver_win32.zip/chromedriver.exe\")\n"
     ]
    }
   ],
   "source": [
    "driver=webdriver.Chrome(r\"C:\\Users\\DELL\\Downloads\\chromedriver_win32.zip/chromedriver.exe\")"
   ]
  },
  {
   "cell_type": "code",
   "execution_count": 67,
   "id": "a9127b37",
   "metadata": {},
   "outputs": [],
   "source": [
    "driver.get(\"https://www.hostelworld.com/hostels/London\")"
   ]
  },
  {
   "cell_type": "code",
   "execution_count": 68,
   "id": "8e1293f1",
   "metadata": {},
   "outputs": [],
   "source": [
    "hostel_elements = WebDriverWait(driver, 10).until(EC.presence_of_all_elements_located((By.CLASS_NAME, \"property-card\")))"
   ]
  },
  {
   "cell_type": "code",
   "execution_count": 69,
   "id": "7a8bdea3",
   "metadata": {},
   "outputs": [
    {
     "ename": "SyntaxError",
     "evalue": "unexpected EOF while parsing (3774607618.py, line 19)",
     "output_type": "error",
     "traceback": [
      "\u001b[1;36m  Input \u001b[1;32mIn [69]\u001b[1;36m\u001b[0m\n\u001b[1;33m    property_desc = hostel_element.find_element_by_class_name(\"description\").text\u001b[0m\n\u001b[1;37m                                                                                 ^\u001b[0m\n\u001b[1;31mSyntaxError\u001b[0m\u001b[1;31m:\u001b[0m unexpected EOF while parsing\n"
     ]
    }
   ],
   "source": [
    "for hostel_element in hostel_elements:\n",
    "    try:\n",
    "        hostel_name = hostel_element.find_element_by_class_name(\"title\").text\n",
    "\n",
    "        distance = hostel_element.find_element_by_class_name(\"distance\").text\n",
    "\n",
    "        ratings = hostel_element.find_element_by_class_name(\"score\").text\n",
    "\n",
    "        total_reviews = hostel_element.find_element_by_class_name(\"reviews\").text\n",
    "\n",
    "        overall_reviews = hostel_element.find_element_by_class_name(\"rating-summary\").text\n",
    "        \n",
    "        privates_from_price = hostel_element.find_element_by_class_name(\"price\").text\n",
    "\n",
    "        dorms_from_price = hostel_element.find_element_by_class_name(\"price\").text\n",
    "\n",
    "        facilities = hostel_element.find_element_by_class_name(\"facilities-label\").text\n",
    "\n",
    "        property_desc = hostel_element.find_element_by_class_name(\"description\").text"
   ]
  },
  {
   "cell_type": "code",
   "execution_count": 71,
   "id": "d391d922",
   "metadata": {},
   "outputs": [
    {
     "ename": "IndentationError",
     "evalue": "unindent does not match any outer indentation level (<tokenize>, line 10)",
     "output_type": "error",
     "traceback": [
      "\u001b[1;36m  File \u001b[1;32m<tokenize>:10\u001b[1;36m\u001b[0m\n\u001b[1;33m    except (NoSuchElementException, TimeoutException):\u001b[0m\n\u001b[1;37m    ^\u001b[0m\n\u001b[1;31mIndentationError\u001b[0m\u001b[1;31m:\u001b[0m unindent does not match any outer indentation level\n"
     ]
    }
   ],
   "source": [
    " print(hostel_name)\n",
    "        print(distance)\n",
    "        print(ratings)\n",
    "        print(total_reviews)\n",
    "        print(overall_reviews)\n",
    "        print(privates_from_price)\n",
    "        print(dorms_from_price)\n",
    "        print(facilities)\n",
    "        print(property_desc)\n",
    "    except (NoSuchElementException, TimeoutException):\n",
    "        continue"
   ]
  },
  {
   "cell_type": "code",
   "execution_count": 72,
   "id": "46da10a1",
   "metadata": {},
   "outputs": [],
   "source": [
    "driver.close()"
   ]
  },
  {
   "cell_type": "code",
   "execution_count": null,
   "id": "89eccd3e",
   "metadata": {},
   "outputs": [],
   "source": []
  }
 ],
 "metadata": {
  "kernelspec": {
   "display_name": "Python 3 (ipykernel)",
   "language": "python",
   "name": "python3"
  },
  "language_info": {
   "codemirror_mode": {
    "name": "ipython",
    "version": 3
   },
   "file_extension": ".py",
   "mimetype": "text/x-python",
   "name": "python",
   "nbconvert_exporter": "python",
   "pygments_lexer": "ipython3",
   "version": "3.9.12"
  }
 },
 "nbformat": 4,
 "nbformat_minor": 5
}
