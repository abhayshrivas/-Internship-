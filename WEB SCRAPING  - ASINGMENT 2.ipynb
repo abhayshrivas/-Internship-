{
 "cells": [
  {
   "cell_type": "code",
   "execution_count": 50,
   "id": "86f46bc8",
   "metadata": {},
   "outputs": [
    {
     "name": "stdout",
     "output_type": "stream",
     "text": [
      "Requirement already satisfied: selenium in c:\\users\\dell\\anaconda3\\lib\\site-packages (4.7.2)\n",
      "Requirement already satisfied: trio~=0.17 in c:\\users\\dell\\anaconda3\\lib\\site-packages (from selenium) (0.22.0)\n",
      "Requirement already satisfied: urllib3[socks]~=1.26 in c:\\users\\dell\\anaconda3\\lib\\site-packages (from selenium) (1.26.9)\n",
      "Requirement already satisfied: trio-websocket~=0.9 in c:\\users\\dell\\anaconda3\\lib\\site-packages (from selenium) (0.9.2)\n",
      "Requirement already satisfied: certifi>=2021.10.8 in c:\\users\\dell\\anaconda3\\lib\\site-packages (from selenium) (2022.6.15)\n",
      "Requirement already satisfied: cffi>=1.14 in c:\\users\\dell\\anaconda3\\lib\\site-packages (from trio~=0.17->selenium) (1.15.0)\n",
      "Requirement already satisfied: sortedcontainers in c:\\users\\dell\\anaconda3\\lib\\site-packages (from trio~=0.17->selenium) (2.4.0)\n",
      "Requirement already satisfied: sniffio in c:\\users\\dell\\anaconda3\\lib\\site-packages (from trio~=0.17->selenium) (1.2.0)\n",
      "Requirement already satisfied: async-generator>=1.9 in c:\\users\\dell\\anaconda3\\lib\\site-packages (from trio~=0.17->selenium) (1.10)\n",
      "Requirement already satisfied: outcome in c:\\users\\dell\\anaconda3\\lib\\site-packages (from trio~=0.17->selenium) (1.2.0)\n",
      "Requirement already satisfied: idna in c:\\users\\dell\\anaconda3\\lib\\site-packages (from trio~=0.17->selenium) (3.3)\n",
      "Requirement already satisfied: attrs>=19.2.0 in c:\\users\\dell\\anaconda3\\lib\\site-packages (from trio~=0.17->selenium) (21.4.0)\n",
      "Requirement already satisfied: exceptiongroup>=1.0.0rc9 in c:\\users\\dell\\anaconda3\\lib\\site-packages (from trio~=0.17->selenium) (1.1.0)\n",
      "Requirement already satisfied: pycparser in c:\\users\\dell\\anaconda3\\lib\\site-packages (from cffi>=1.14->trio~=0.17->selenium) (2.21)\n",
      "Requirement already satisfied: wsproto>=0.14 in c:\\users\\dell\\anaconda3\\lib\\site-packages (from trio-websocket~=0.9->selenium) (1.2.0)\n",
      "Requirement already satisfied: PySocks!=1.5.7,<2.0,>=1.5.6 in c:\\users\\dell\\anaconda3\\lib\\site-packages (from urllib3[socks]~=1.26->selenium) (1.7.1)\n",
      "Requirement already satisfied: h11<1,>=0.9.0 in c:\\users\\dell\\anaconda3\\lib\\site-packages (from wsproto>=0.14->trio-websocket~=0.9->selenium) (0.14.0)\n"
     ]
    }
   ],
   "source": [
    "!pip install selenium"
   ]
  },
  {
   "cell_type": "code",
   "execution_count": 168,
   "id": "36c5d5d8",
   "metadata": {},
   "outputs": [],
   "source": [
    "import selenium \n",
    "import pandas as pd\n",
    "from selenium import webdriver\n",
    "import warnings\n",
    "warnings.filterwarnings('ignore')\n",
    "from selenium.webdriver.common.by import By\n",
    "import time"
   ]
  },
  {
   "cell_type": "code",
   "execution_count": 171,
   "id": "88995aa5",
   "metadata": {},
   "outputs": [],
   "source": [
    "driver=webdriver.Chrome(r\"C:\\Users\\DELL\\Downloads\\chromedriver_win32.zip/chromedriver.exe\")"
   ]
  },
  {
   "cell_type": "code",
   "execution_count": 172,
   "id": "ad31d1cc",
   "metadata": {},
   "outputs": [],
   "source": [
    "driver.get(\"https://www.naukri.com/\")"
   ]
  },
  {
   "cell_type": "code",
   "execution_count": 173,
   "id": "1db4932d",
   "metadata": {},
   "outputs": [],
   "source": [
    "designation=driver.find_element(By.CLASS_NAME,\"suggestor-input\")\n",
    "designation.send_keys('Data Analyst')"
   ]
  },
  {
   "cell_type": "code",
   "execution_count": 159,
   "id": "cb88b01b",
   "metadata": {},
   "outputs": [],
   "source": [
    "location=driver.find_element(By.XPATH,\"/html/body/div[1]/div[6]/div/div/div[5]/div/div/div/input\")\n",
    "location.send_keys('Bangalore')"
   ]
  },
  {
   "cell_type": "code",
   "execution_count": 160,
   "id": "79424ea6",
   "metadata": {},
   "outputs": [],
   "source": [
    "search=driver.find_element(By.CLASS_NAME,\"qsbSubmit\")\n",
    "search.click()"
   ]
  },
  {
   "cell_type": "code",
   "execution_count": 161,
   "id": "43511b3c",
   "metadata": {},
   "outputs": [],
   "source": [
    "job_title=[]\n",
    "job_location=[]\n",
    "company_name=[]\n",
    "experience_required=[]"
   ]
  },
  {
   "cell_type": "code",
   "execution_count": 162,
   "id": "26e0a872",
   "metadata": {},
   "outputs": [],
   "source": [
    "title_tags=driver.find_elements(By.XPATH,'//a[@class=\"title ellipsis\"]')\n",
    "for i in title_tags[0:10]:\n",
    "    title=i.text\n",
    "    job_title.append(title)"
   ]
  },
  {
   "cell_type": "code",
   "execution_count": 163,
   "id": "dfceb103",
   "metadata": {},
   "outputs": [],
   "source": [
    "location_tags=driver.find_elements(By.XPATH,'//span[@class=\"ellipsis fleft locWdth\"]')\n",
    "for i in location_tags[0:10]:\n",
    "    location=i.text\n",
    "    job_location.append(location)"
   ]
  },
  {
   "cell_type": "code",
   "execution_count": 164,
   "id": "f75264b9",
   "metadata": {},
   "outputs": [],
   "source": [
    "company_tags=driver.find_elements(By.XPATH,'//a[@class=\"subTitle ellipsis fleft\"]')\n",
    "for i in company_tags[0:10]:\n",
    "    company=i.text\n",
    "    company_name.append(company)"
   ]
  },
  {
   "cell_type": "code",
   "execution_count": 165,
   "id": "2bbdf3aa",
   "metadata": {},
   "outputs": [],
   "source": [
    "experience_tags=driver.find_elements(By.XPATH,'//span[@class=\"ellipsis fleft expwdth\"]')\n",
    "for i in experience_tags[0:10]:\n",
    "    exp=i.text\n",
    "    experience_required.append(exp)"
   ]
  },
  {
   "cell_type": "code",
   "execution_count": 166,
   "id": "0a92ffc2",
   "metadata": {},
   "outputs": [
    {
     "name": "stdout",
     "output_type": "stream",
     "text": [
      "10 10 10 10\n"
     ]
    }
   ],
   "source": [
    "print(len(job_title),len(job_location),len(company_name),len(experience_required))"
   ]
  },
  {
   "cell_type": "code",
   "execution_count": 167,
   "id": "4dd7b026",
   "metadata": {},
   "outputs": [
    {
     "data": {
      "text/html": [
       "<div>\n",
       "<style scoped>\n",
       "    .dataframe tbody tr th:only-of-type {\n",
       "        vertical-align: middle;\n",
       "    }\n",
       "\n",
       "    .dataframe tbody tr th {\n",
       "        vertical-align: top;\n",
       "    }\n",
       "\n",
       "    .dataframe thead th {\n",
       "        text-align: right;\n",
       "    }\n",
       "</style>\n",
       "<table border=\"1\" class=\"dataframe\">\n",
       "  <thead>\n",
       "    <tr style=\"text-align: right;\">\n",
       "      <th></th>\n",
       "      <th>Title</th>\n",
       "      <th>Location</th>\n",
       "      <th>Company_name</th>\n",
       "      <th>Experience</th>\n",
       "    </tr>\n",
       "  </thead>\n",
       "  <tbody>\n",
       "    <tr>\n",
       "      <th>0</th>\n",
       "      <td>Data Analyst / Senior Analyst - R / SQL / Python</td>\n",
       "      <td>Bangalore/Bengaluru, Kolkata, Mumbai, Hyderaba...</td>\n",
       "      <td>The Nikharv Consultancy</td>\n",
       "      <td>3-6 Yrs</td>\n",
       "    </tr>\n",
       "    <tr>\n",
       "      <th>1</th>\n",
       "      <td>Data Analyst/Senior Analyst - R/SQL/Python</td>\n",
       "      <td>Temp. WFH - Bangalore/Bengaluru, Kolkata, Mumb...</td>\n",
       "      <td>The Nikharv Consultancy</td>\n",
       "      <td>3-6 Yrs</td>\n",
       "    </tr>\n",
       "    <tr>\n",
       "      <th>2</th>\n",
       "      <td>Data Analyst</td>\n",
       "      <td>Bangalore/Bengaluru</td>\n",
       "      <td>Target</td>\n",
       "      <td>2-4 Yrs</td>\n",
       "    </tr>\n",
       "    <tr>\n",
       "      <th>3</th>\n",
       "      <td>data analyst / data analytics - US MNC (analyt...</td>\n",
       "      <td>Temp. WFH - Bangalore/Bengaluru, Gurgaon/Gurugram</td>\n",
       "      <td>Aspyra Hr Services</td>\n",
       "      <td>3-8 Yrs</td>\n",
       "    </tr>\n",
       "    <tr>\n",
       "      <th>4</th>\n",
       "      <td>Business Data Analyst (Sr Exe / Asst Manager)</td>\n",
       "      <td>Bangalore/Bengaluru</td>\n",
       "      <td>Talentleads</td>\n",
       "      <td>3-5 Yrs</td>\n",
       "    </tr>\n",
       "    <tr>\n",
       "      <th>5</th>\n",
       "      <td>Junior Data Analyst/ Scientist- Fresher Position</td>\n",
       "      <td>Hybrid - Bangalore/Bengaluru, New Delhi, Mumba...</td>\n",
       "      <td>Sejal Consulting Hub</td>\n",
       "      <td>0-5 Yrs</td>\n",
       "    </tr>\n",
       "    <tr>\n",
       "      <th>6</th>\n",
       "      <td>Staff Data Analyst</td>\n",
       "      <td>Bangalore/Bengaluru</td>\n",
       "      <td>Walmart</td>\n",
       "      <td>10-14 Yrs</td>\n",
       "    </tr>\n",
       "    <tr>\n",
       "      <th>7</th>\n",
       "      <td>Reference Data Analyst</td>\n",
       "      <td>Bangalore/Bengaluru</td>\n",
       "      <td>Deutsche Bank</td>\n",
       "      <td>6-8 Yrs</td>\n",
       "    </tr>\n",
       "    <tr>\n",
       "      <th>8</th>\n",
       "      <td>Sr Data Analyst</td>\n",
       "      <td>Hybrid - Bangalore/Bengaluru</td>\n",
       "      <td>Amolitalents</td>\n",
       "      <td>6-9 Yrs</td>\n",
       "    </tr>\n",
       "    <tr>\n",
       "      <th>9</th>\n",
       "      <td>Job Opportunity with Leading MNC - Senior Data...</td>\n",
       "      <td>Bangalore/Bengaluru</td>\n",
       "      <td>Enrich And Enlight Business Consulting</td>\n",
       "      <td>5-7 Yrs</td>\n",
       "    </tr>\n",
       "  </tbody>\n",
       "</table>\n",
       "</div>"
      ],
      "text/plain": [
       "                                               Title  \\\n",
       "0   Data Analyst / Senior Analyst - R / SQL / Python   \n",
       "1         Data Analyst/Senior Analyst - R/SQL/Python   \n",
       "2                                       Data Analyst   \n",
       "3  data analyst / data analytics - US MNC (analyt...   \n",
       "4      Business Data Analyst (Sr Exe / Asst Manager)   \n",
       "5   Junior Data Analyst/ Scientist- Fresher Position   \n",
       "6                                 Staff Data Analyst   \n",
       "7                             Reference Data Analyst   \n",
       "8                                    Sr Data Analyst   \n",
       "9  Job Opportunity with Leading MNC - Senior Data...   \n",
       "\n",
       "                                            Location  \\\n",
       "0  Bangalore/Bengaluru, Kolkata, Mumbai, Hyderaba...   \n",
       "1  Temp. WFH - Bangalore/Bengaluru, Kolkata, Mumb...   \n",
       "2                                Bangalore/Bengaluru   \n",
       "3  Temp. WFH - Bangalore/Bengaluru, Gurgaon/Gurugram   \n",
       "4                                Bangalore/Bengaluru   \n",
       "5  Hybrid - Bangalore/Bengaluru, New Delhi, Mumba...   \n",
       "6                                Bangalore/Bengaluru   \n",
       "7                                Bangalore/Bengaluru   \n",
       "8                       Hybrid - Bangalore/Bengaluru   \n",
       "9                                Bangalore/Bengaluru   \n",
       "\n",
       "                             Company_name Experience  \n",
       "0                 The Nikharv Consultancy    3-6 Yrs  \n",
       "1                 The Nikharv Consultancy    3-6 Yrs  \n",
       "2                                  Target    2-4 Yrs  \n",
       "3                      Aspyra Hr Services    3-8 Yrs  \n",
       "4                             Talentleads    3-5 Yrs  \n",
       "5                    Sejal Consulting Hub    0-5 Yrs  \n",
       "6                                 Walmart  10-14 Yrs  \n",
       "7                           Deutsche Bank    6-8 Yrs  \n",
       "8                            Amolitalents    6-9 Yrs  \n",
       "9  Enrich And Enlight Business Consulting    5-7 Yrs  "
      ]
     },
     "execution_count": 167,
     "metadata": {},
     "output_type": "execute_result"
    }
   ],
   "source": [
    "import pandas as pd\n",
    "df=pd.DataFrame({'Title':job_title,'Location':job_location,'Company_name':company_name,'Experience':experience_required})\n",
    "df"
   ]
  },
  {
   "cell_type": "code",
   "execution_count": null,
   "id": "6c2529c8",
   "metadata": {},
   "outputs": [],
   "source": [
    "search_bar = driver.find_element_by_xpath('//*[@id=\"qsb-keyskill-sugg\"]')\n",
    "search_bar.send_keys(\"Data Scientist\")\n",
    "search_button = driver.find_element_by_xpath('//*[@id=\"qsbFormBtn\"]')\n",
    "search_button.click()"
   ]
  },
  {
   "cell_type": "code",
   "execution_count": null,
   "id": "a3d240cb",
   "metadata": {},
   "outputs": [],
   "source": [
    "location_dropdown = driver.find_element_by_xpath('//*[@id=\"location\"]')\n",
    "location_dropdown.click()\n",
    "location_filter = driver.find_element_by_xpath('//*[@id=\"location\"]/div[2]/ul/li[7]/label/input')\n",
    "location_filter.click()"
   ]
  },
  {
   "cell_type": "code",
   "execution_count": null,
   "id": "e7c92a85",
   "metadata": {},
   "outputs": [],
   "source": [
    "salary_dropdown = driver.find_element_by_xpath('//*[@id=\"salary\"]')\n",
    "salary_dropdown.click()\n",
    "salary_filter = driver.find_element_by_xpath('//*[@id=\"salary\"]/div[2]/ul/li[3]/label/input')\n",
    "salary_filter.click()"
   ]
  },
  {
   "cell_type": "code",
   "execution_count": null,
   "id": "4a6490bc",
   "metadata": {},
   "outputs": [],
   "source": [
    "jobs = driver.find_elements_by_xpath('//*[@id=\"job-result\"]/div')\n",
    "data = []\n",
    "for job in jobs[:10]:\n",
    "    title = job.find_element_by_xpath('.//a/div[1]/h3').text\n",
    "    location = job.find_element_by_xpath('.//a/div[2]/div[1]/span[2]').text\n",
    "    company = job.find_element_by_xpath('.//a/div[2]/div[2]/span[1]').text\n",
    "    experience = job.find_element_by_xpath('.//a/div[2]/div[3]/span[1]').text\n",
    "    data.append({'title':title, 'location':location, 'company':company, 'experience':experience})"
   ]
  },
  {
   "cell_type": "code",
   "execution_count": null,
   "id": "647941cd",
   "metadata": {},
   "outputs": [],
   "source": [
    "df = pd.DataFrame(data)"
   ]
  },
  {
   "cell_type": "code",
   "execution_count": null,
   "id": "9ba87bf0",
   "metadata": {},
   "outputs": [],
   "source": [
    "driver.close()"
   ]
  },
  {
   "cell_type": "code",
   "execution_count": null,
   "id": "a47c3a9d",
   "metadata": {},
   "outputs": [],
   "source": [
    "driver.get(\"https://www.flipkart.com/\")"
   ]
  },
  {
   "cell_type": "code",
   "execution_count": null,
   "id": "250aefeb",
   "metadata": {},
   "outputs": [],
   "source": [
    "Product=driver.find_element(By.CLASS_NAME,\"_3704LK\")\n",
    "Product.send_keys('Sunglasses')"
   ]
  },
  {
   "cell_type": "code",
   "execution_count": null,
   "id": "d0d22ce8",
   "metadata": {},
   "outputs": [],
   "source": [
    "search=driver.find_element(By.CLASS_NAME,\"L0Z3Pu\")\n",
    "search.click()"
   ]
  },
  {
   "cell_type": "code",
   "execution_count": null,
   "id": "48789901",
   "metadata": {},
   "outputs": [],
   "source": [
    "Brand_title=[]\n",
    "Product_Description=[]\n",
    "Product_Price=[]\n",
    "Product_off=[]"
   ]
  },
  {
   "cell_type": "code",
   "execution_count": null,
   "id": "69e35984",
   "metadata": {},
   "outputs": [],
   "source": [
    "title_tags=driver.find_elements(By.XPATH,'//div[@class=\"_2WkVRV\"]')\n",
    "for i in title_tags[0:100]:\n",
    "    title=i.text\n",
    "    Brand_title.append(title)"
   ]
  },
  {
   "cell_type": "code",
   "execution_count": null,
   "id": "0e40a200",
   "metadata": {},
   "outputs": [],
   "source": [
    "Description_tags=driver.find_elements(By.XPATH,'//a[@class=\"IRpwTa\"]')\n",
    "for i in Description_tags[0:100]:\n",
    "    Description=i.text\n",
    "    Product_Description.append(Description)"
   ]
  },
  {
   "cell_type": "code",
   "execution_count": null,
   "id": "1029ef4a",
   "metadata": {},
   "outputs": [],
   "source": [
    "Price_tags=driver.find_elements(By.XPATH,'//div[@class=\"_30jeq3\"]')\n",
    "for i in Price_tags[0:100]:\n",
    "    Price=i.text\n",
    "    Product_Price.append(Price)"
   ]
  },
  {
   "cell_type": "code",
   "execution_count": null,
   "id": "ecdd43ea",
   "metadata": {},
   "outputs": [],
   "source": [
    "off_tags=driver.find_elements(By.XPATH,'//div[@class=\"_3Ay6Sb\"]')\n",
    "for i in off_tags[0:100]:\n",
    "    off=i.text\n",
    "    Product_off.append(off)"
   ]
  },
  {
   "cell_type": "code",
   "execution_count": null,
   "id": "64f15137",
   "metadata": {},
   "outputs": [],
   "source": [
    "next_button = driver.find_element_by_xpath('//*[@id=\"container\"]/div/div[3]/div[1]/div[2]/div[2]/div[2]/div[1]/div/nav/a[2]')\n",
    "next_button.click()"
   ]
  },
  {
   "cell_type": "code",
   "execution_count": null,
   "id": "715f7a8f",
   "metadata": {},
   "outputs": [],
   "source": [
    "df = pd.DataFrame(data)"
   ]
  },
  {
   "cell_type": "code",
   "execution_count": null,
   "id": "92613657",
   "metadata": {},
   "outputs": [],
   "source": [
    "driver.close()"
   ]
  },
  {
   "cell_type": "code",
   "execution_count": null,
   "id": "e449eda8",
   "metadata": {},
   "outputs": [],
   "source": [
    "Brand_title=[]\n",
    "Product_Description=[]\n",
    "Product_Price=[]\n",
    "Product_off=[]"
   ]
  },
  {
   "cell_type": "code",
   "execution_count": null,
   "id": "f130a8c6",
   "metadata": {},
   "outputs": [],
   "source": [
    "title_tags=driver.find_elements(By.XPATH,'//div[@class=\"_2WkVRV\"]')\n",
    "for i in title_tags[0:100]:\n",
    "    title=i.text\n",
    "    Brand_title.append(title)"
   ]
  },
  {
   "cell_type": "code",
   "execution_count": null,
   "id": "1d2a7a27",
   "metadata": {},
   "outputs": [],
   "source": [
    "Description_tags=driver.find_elements(By.XPATH,'//a[@class=\"IRpwTa\"]')\n",
    "for i in Description_tags[0:100]:\n",
    "    Description=i.text\n",
    "    Product_Description.append(Description)"
   ]
  },
  {
   "cell_type": "code",
   "execution_count": null,
   "id": "60d7c197",
   "metadata": {},
   "outputs": [],
   "source": [
    "Price_tags=driver.find_elements(By.XPATH,'//div[@class=\"_30jeq3\"]')\n",
    "for i in Price_tags[0:100]:\n",
    "    Price=i.text\n",
    "    Product_Price.append(Price)"
   ]
  },
  {
   "cell_type": "code",
   "execution_count": null,
   "id": "5ef15e1e",
   "metadata": {},
   "outputs": [],
   "source": [
    "off_tags=driver.find_elements(By.XPATH,'//div[@class=\"_3Ay6Sb\"]')\n",
    "for i in off_tags[0:100]:\n",
    "    off=i.text\n",
    "    Product_off.append(off)"
   ]
  },
  {
   "cell_type": "code",
   "execution_count": null,
   "id": "9da5be4c",
   "metadata": {},
   "outputs": [],
   "source": [
    "next_button = driver.find_element_by_xpath('//*[@id=\"container\"]/div/div[3]/div[1]/div[2]/div[2]/div[2]/div[1]/div/nav/a[2]')\n",
    "next_button.click()"
   ]
  },
  {
   "cell_type": "code",
   "execution_count": null,
   "id": "7e4939be",
   "metadata": {},
   "outputs": [],
   "source": [
    "df = pd.DataFrame(data)"
   ]
  },
  {
   "cell_type": "code",
   "execution_count": null,
   "id": "2dfbd03b",
   "metadata": {},
   "outputs": [],
   "source": [
    "driver.close()"
   ]
  },
  {
   "cell_type": "code",
   "execution_count": null,
   "id": "810d40f3",
   "metadata": {},
   "outputs": [],
   "source": [
    "driver.get(\"https://www.flipkart.com/apple-iphone-11-black-64-gb-includes-earpods-power-adapter/product-reviews/itm0f37c2240b217?pid=MOBFKCTSVZAXUHGR&lid=LSTMOBFKCTSVZAXUHGREPBFGI&marketplace=FLIPKART\")"
   ]
  },
  {
   "cell_type": "code",
   "execution_count": null,
   "id": "ec70dbef",
   "metadata": {},
   "outputs": [],
   "source": [
    "reviews = driver.find_elements_by_xpath('//div[@class=\"_2xg6Ul\"]')\n",
    "data = []\n",
    "for review in reviews:\n",
    "    title = review.find_element_by_xpath('.//p[@class=\"_2xg6Ul\"]').text\n",
    "    rating = review.find_element_by_xpath('.//div[@class=\"hGSR34_2beYZw\"]').text\n",
    "    author = review.find_element_by_xpath('.//p[@class=\"_3LYOAd _3sxSiS\"]').text\n",
    "    data.append({'title':title, 'rating':rating, 'author':author})"
   ]
  },
  {
   "cell_type": "code",
   "execution_count": null,
   "id": "de07180b",
   "metadata": {},
   "outputs": [],
   "source": [
    "next_button = driver.find_element_by_xpath('//a[@class=\"_3fVaIS\"]')\n",
    "next_button.click()"
   ]
  },
  {
   "cell_type": "code",
   "execution_count": null,
   "id": "81aff6ba",
   "metadata": {},
   "outputs": [],
   "source": [
    "reviews = []"
   ]
  },
  {
   "cell_type": "code",
   "execution_count": null,
   "id": "d38e0d23",
   "metadata": {},
   "outputs": [],
   "source": [
    "for i in range(5):"
   ]
  },
  {
   "cell_type": "code",
   "execution_count": null,
   "id": "449c5688",
   "metadata": {},
   "outputs": [],
   "source": [
    "driver.implicitly_wait(10)"
   ]
  },
  {
   "cell_type": "code",
   "execution_count": null,
   "id": "95bab365",
   "metadata": {},
   "outputs": [],
   "source": [
    "reviews_elements = driver.find_elements(By.XPATH, '//div[@class=\"_2fyjv_\"]')\n",
    "    for element in reviews_elements:\n",
    "        review = {}\n",
    "        review[\"rating\"] = element.find_element(By.XPATH, './/div[@class=\"_2xg6Ul\"]').text\n",
    "        review[\"review_summary\"] = element.find_element(By.XPATH, './/div[@class=\"qwjRop\"]').text\n",
    "        review[\"review_full\"] = element.find_element(By.XPATH, './/div[@class=\"_3gijNv col-12-12\"]').text\n",
    "        reviews.append(review)"
   ]
  },
  {
   "cell_type": "code",
   "execution_count": null,
   "id": "a4527dbd",
   "metadata": {},
   "outputs": [],
   "source": [
    "try:\n",
    "        next_button = driver.find_element(By.XPATH, '//a[@class=\"_3fVaIS\"]')\n",
    "        next_button.click()\n",
    "    except Exception as e:\n",
    "        break"
   ]
  },
  {
   "cell_type": "code",
   "execution_count": null,
   "id": "59ace078",
   "metadata": {},
   "outputs": [],
   "source": [
    "reviews_df = pd.DataFrame(reviews)"
   ]
  },
  {
   "cell_type": "code",
   "execution_count": null,
   "id": "511bac6a",
   "metadata": {},
   "outputs": [],
   "source": [
    "# Navigate to the URL of the homepage\n",
    "driver.get(\"https://www.flipkart.com/\")"
   ]
  },
  {
   "cell_type": "code",
   "execution_count": null,
   "id": "9960a239",
   "metadata": {},
   "outputs": [],
   "source": [
    "# Locate the search field, enter the search query and click the search button\n",
    "search_field = driver.find_element_by_xpath('//input[@name=\"q\"]')\n",
    "search_field.send_keys(\"sneakers\")\n",
    "search_field.submit()"
   ]
  },
  {
   "cell_type": "code",
   "execution_count": null,
   "id": "a22836b5",
   "metadata": {},
   "outputs": [],
   "source": [
    "sneakers = []\n"
   ]
  },
  {
   "cell_type": "code",
   "execution_count": null,
   "id": "7659aa0b",
   "metadata": {},
   "outputs": [],
   "source": [
    "while True:\n",
    "    # wait for the page to load\n",
    "    driver.implicitly_wait(10)\n",
    "    # Locate the sneakers listings and extract the data\n",
    "    sneakers_elements = driver.find_elements(By.XPATH, '//div[@class=\"_2kHMtA\"]')\n",
    "    for element in sneakers_elements:\n",
    "        sneakers_data = {}\n",
    "        sneakers_data[\"brand\"] = element.find_element(By.XPATH, './/div[@class=\"_2rQ-NK\"]').text\n",
    "        sneakers_data[\"product_description\"] = element.find_element(By.XPATH, './/div[@class=\"_2RngUh\"]').text\n",
    "        sneakers_data[\"price\"] = element.find_element(By.XPATH, './/div[@class=\"_30jeq3 _1_WHN1\"]').text\n",
    "        sneakers.append(sneakers_data)\n",
    "    if len(sneakers) >= 100:\n",
    "        break\n",
    "    # Locate the next button and click it\n",
    "    try:\n",
    "        next_button = driver.find_element(By.XPATH, '//a[@class=\"_3fVaIS\"]')\n",
    "        next_button.click()\n",
    "    except Exception as e:\n",
    "        break"
   ]
  },
  {
   "cell_type": "code",
   "execution_count": null,
   "id": "da9fdf57",
   "metadata": {},
   "outputs": [],
   "source": [
    "# Create a dataframe from the scraped data\n",
    "sneakers_df = pd.DataFrame(sneakers)"
   ]
  },
  {
   "cell_type": "code",
   "execution_count": null,
   "id": "c7ecc522",
   "metadata": {},
   "outputs": [],
   "source": [
    "# Close the webdriver\n",
    "driver.quit()"
   ]
  },
  {
   "cell_type": "code",
   "execution_count": null,
   "id": "c35b418c",
   "metadata": {},
   "outputs": [],
   "source": [
    "# Navigate to the URL of the Amazon homepage\n",
    "driver.get(\"https://www.amazon.in/\")"
   ]
  },
  {
   "cell_type": "code",
   "execution_count": null,
   "id": "0d8929b3",
   "metadata": {},
   "outputs": [],
   "source": [
    "# Locate the search field, enter the search query and click the search button\n",
    "search_field = driver.find_element_by_xpath('//input[@id=\"twotabsearchtextbox\"]')\n",
    "search_field.send_keys(\"Laptop\")\n",
    "search_field.submit()"
   ]
  },
  {
   "cell_type": "code",
   "execution_count": null,
   "id": "7c6113ec",
   "metadata": {},
   "outputs": [],
   "source": [
    "# Set the CPU Type filter to \"Intel Core i7\"\n",
    "driver.find_element(By.XPATH, '//span[text()=\"CPU Type\"]').click()\n",
    "driver.find_element(By.XPATH, '//span[text()=\"Intel Core i7\"]').click()"
   ]
  },
  {
   "cell_type": "code",
   "execution_count": null,
   "id": "3fd77fee",
   "metadata": {},
   "outputs": [],
   "source": [
    "laptops = []"
   ]
  },
  {
   "cell_type": "code",
   "execution_count": null,
   "id": "fcd7928f",
   "metadata": {},
   "outputs": [],
   "source": [
    "while True:\n",
    "    # wait for the page to load\n",
    "    driver.implicitly_wait(10)\n",
    "    # Locate the laptop listings and extract the data\n",
    "    laptop_elements = driver.find_elements(By.XPATH, '//div[@class=\"s-result-item s-result-card-for-container a-declarative\"]')\n",
    "    for element in laptop_elements:\n",
    "        laptop_data = {}\n",
    "        laptop_data[\"title\"] = element.find_element(By.XPATH, './/span[@class=\"a-size-medium a-color-base a-text-normal\"]').text\n",
    "        laptop_data[\"ratings\"] = element.find_element(By.XPATH, './/span[@class=\"a-icon-alt\"]').text\n",
    "        laptop_data[\"price\"] = element.find_element(By.XPATH, './/span[@class=\"a-price-whole\"]').text\n",
    "        laptops.append(laptop_data)\n",
    "    if len(laptops) >= 10:\n",
    "        break\n"
   ]
  },
  {
   "cell_type": "code",
   "execution_count": null,
   "id": "bc5663f7",
   "metadata": {},
   "outputs": [],
   "source": [
    "# Create a dataframe from the scraped data\n",
    "laptops_df = pd.DataFrame(laptops)\n"
   ]
  },
  {
   "cell_type": "code",
   "execution_count": null,
   "id": "e2c69739",
   "metadata": {},
   "outputs": [],
   "source": [
    "# Close the webdriver\n",
    "driver.quit()"
   ]
  },
  {
   "cell_type": "code",
   "execution_count": null,
   "id": "b296e44a",
   "metadata": {},
   "outputs": [],
   "source": [
    "# Navigate to the URL of the website\n",
    "driver.get(\"https://www.azquotes.com/\")"
   ]
  },
  {
   "cell_type": "code",
   "execution_count": null,
   "id": "0ba72024",
   "metadata": {},
   "outputs": [],
   "source": [
    "# Click on the Top Quotes button\n",
    "driver.find_element(By.XPATH, '//a[@href=\"/top-quotes\"]').click()"
   ]
  },
  {
   "cell_type": "code",
   "execution_count": null,
   "id": "21622b8e",
   "metadata": {},
   "outputs": [],
   "source": [
    "quotes = []"
   ]
  },
  {
   "cell_type": "code",
   "execution_count": null,
   "id": "ff8a6349",
   "metadata": {},
   "outputs": [],
   "source": [
    "while True:\n",
    "    # wait for the page to load\n",
    "    driver.implicitly_wait(10)\n",
    "    # Locate the quotes and extract the data\n",
    "    quote_elements = driver.find_elements(By.XPATH, '//div[@class=\"col-6 col-md-4 text-center margin-30px-bottom sm-margin-30px-top\"]')\n",
    "    for element in quote_elements:\n",
    "        quote_data = {}\n",
    "        quote_data[\"quote\"] = element.find_element(By.XPATH, './/a[@class=\"text-medium text-extra-dark-gray\"]').text\n",
    "        quote_data[\"author\"] = element.find_element(By.XPATH, './/a[@class=\"authorOrTitle\"]').text\n",
    "        quote_data[\"type_of_quote\"] = element.find_element(By.XPATH, './/a[@class=\"block text-medium-gray text-uppercase\"]').text\n",
    "        quotes.append(quote_data)\n",
    "    if len(quotes) >= 1000:\n",
    "        break\n",
    "    # Locate the next button and click it\n",
    "    try:\n",
    "        next_button = driver.find_element(By.XPATH, '//a[@class=\"next_page\"]')\n",
    "        next_button.click()\n",
    "    except Exception as e:\n",
    "        break"
   ]
  },
  {
   "cell_type": "code",
   "execution_count": null,
   "id": "31b4e1c5",
   "metadata": {},
   "outputs": [],
   "source": [
    "# Create a dataframe from the scraped data\n",
    "quotes_df = pd.DataFrame(quotes)"
   ]
  },
  {
   "cell_type": "code",
   "execution_count": null,
   "id": "c6fe0430",
   "metadata": {},
   "outputs": [],
   "source": [
    "# Close the webdriver\n",
    "driver.quit()"
   ]
  },
  {
   "cell_type": "code",
   "execution_count": null,
   "id": "bada9c56",
   "metadata": {},
   "outputs": [],
   "source": [
    "# Navigate to the URL of the website\n",
    "driver.get(\"https://www.jagranjosh.com/\")"
   ]
  },
  {
   "cell_type": "code",
   "execution_count": null,
   "id": "9662c89a",
   "metadata": {},
   "outputs": [],
   "source": [
    "# Click on the GK option\n",
    "driver.find_element(By.XPATH, '//a[@href=\"/general-knowledge\"]').click()"
   ]
  },
  {
   "cell_type": "code",
   "execution_count": null,
   "id": "c5ecfa91",
   "metadata": {},
   "outputs": [],
   "source": [
    "# Click on the List of all Prime Ministers of India\n",
    "driver.find_element(By.XPATH, '//a[@href=\"/general-knowledge/list-of-all-prime-ministers-of-india-135865\"]').click()"
   ]
  },
  {
   "cell_type": "code",
   "execution_count": null,
   "id": "067ea80b",
   "metadata": {},
   "outputs": [],
   "source": [
    "prime_ministers = []"
   ]
  },
  {
   "cell_type": "code",
   "execution_count": null,
   "id": "8d911fe2",
   "metadata": {},
   "outputs": [],
   "source": [
    "# wait for the page to load\n",
    "driver.implicitly_wait(10)"
   ]
  },
  {
   "cell_type": "code",
   "execution_count": null,
   "id": "cbf7375b",
   "metadata": {},
   "outputs": [],
   "source": [
    "# Locate the Prime Ministers and extract the data\n",
    "prime_ministers_elements = driver.find_elements(By.XPATH, '//table[@class=\"table table-striped\"]//tbody//tr')\n",
    "for element in prime_ministers_elements:\n",
    "    prime_ministers_data = {}\n",
    "    prime_ministers_data[\"Name\"] = element.find_element(By.XPATH, './/td[1]//a').text\n",
    "    prime_ministers_data[\"Born-Dead\"] = element.find_element(By.XPATH, './/td[2]').text\n",
    "    prime_ministers_data[\"Term of office\"] = element.find_element(By.XPATH, './/td[3]').text\n",
    "    prime_ministers_data[\"Remarks\"] = element.find_element(By.XPATH, './/td[4]').text\n",
    "    prime_ministers.append(prime_ministers_data)"
   ]
  },
  {
   "cell_type": "code",
   "execution_count": null,
   "id": "89be9a6f",
   "metadata": {},
   "outputs": [],
   "source": [
    "# Create a dataframe from the scraped data\n",
    "prime_ministers_df = pd.DataFrame(prime_ministers)"
   ]
  },
  {
   "cell_type": "code",
   "execution_count": null,
   "id": "22ec691f",
   "metadata": {},
   "outputs": [],
   "source": [
    "# Close the webdriver\n",
    "driver.quit()"
   ]
  },
  {
   "cell_type": "code",
   "execution_count": null,
   "id": "b054baa4",
   "metadata": {},
   "outputs": [],
   "source": [
    "# Navigate to the URL of the website\n",
    "driver.get(\"https://www.motor1.com/\")"
   ]
  },
  {
   "cell_type": "code",
   "execution_count": null,
   "id": "f4b2e1f8",
   "metadata": {},
   "outputs": [],
   "source": [
    "# Click on the List option from Dropdown menu on left side\n",
    "driver.find_element(By.XPATH, '//a[@href=\"/lists/\"]').click()"
   ]
  },
  {
   "cell_type": "code",
   "execution_count": null,
   "id": "031cab5e",
   "metadata": {},
   "outputs": [],
   "source": [
    "# Click on 50 most expensive cars in the world\n",
    "driver.find_element(By.XPATH, '//a[@href=\"/lists/50-most-expensive-cars-in-the-world/\"]').click()"
   ]
  },
  {
   "cell_type": "code",
   "execution_count": null,
   "id": "d2ddeeef",
   "metadata": {},
   "outputs": [],
   "source": [
    "cars = []"
   ]
  },
  {
   "cell_type": "code",
   "execution_count": null,
   "id": "056e99b1",
   "metadata": {},
   "outputs": [],
   "source": [
    "# wait for the page to load\n",
    "driver.implicitly_wait(10)"
   ]
  },
  {
   "cell_type": "code",
   "execution_count": null,
   "id": "5c07b75d",
   "metadata": {},
   "outputs": [],
   "source": [
    "# Locate the cars and extract the data\n",
    "car_elements = driver.find_elements(By.XPATH, '//div[@class=\"col-12 col-md-6 col-lg-4 text-center\"]')\n",
    "for element in car_elements:\n",
    "    car_data = {}\n",
    "    car_data[\"Car name\"] = element.find_element(By.XPATH, './/h2').text\n",
    "    car_data[\"Price\"] = element.find_element(By.XPATH, './/span[@class=\"price\"]').text\n",
    "    cars.append(car_data)"
   ]
  },
  {
   "cell_type": "code",
   "execution_count": null,
   "id": "231c1cac",
   "metadata": {},
   "outputs": [],
   "source": [
    "# Create a dataframe from the scraped data\n",
    "cars_df = pd.DataFrame(cars)"
   ]
  },
  {
   "cell_type": "code",
   "execution_count": null,
   "id": "c186a962",
   "metadata": {},
   "outputs": [],
   "source": [
    "# Close the webdriver\n",
    "driver.quit()"
   ]
  },
  {
   "cell_type": "code",
   "execution_count": null,
   "id": "11279d99",
   "metadata": {},
   "outputs": [],
   "source": []
  }
 ],
 "metadata": {
  "kernelspec": {
   "display_name": "Python 3 (ipykernel)",
   "language": "python",
   "name": "python3"
  },
  "language_info": {
   "codemirror_mode": {
    "name": "ipython",
    "version": 3
   },
   "file_extension": ".py",
   "mimetype": "text/x-python",
   "name": "python",
   "nbconvert_exporter": "python",
   "pygments_lexer": "ipython3",
   "version": "3.9.12"
  }
 },
 "nbformat": 4,
 "nbformat_minor": 5
}
