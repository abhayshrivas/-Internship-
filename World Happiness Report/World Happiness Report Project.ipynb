{
 "cells": [
  {
   "cell_type": "code",
   "execution_count": 4,
   "id": "cff1ec00",
   "metadata": {},
   "outputs": [],
   "source": [
    "import pandas as pd\n",
    "import numpy as np\n",
    "import matplotlib.pyplot as plt\n",
    "import seaborn as sns\n",
    "from sklearn.model_selection import train_test_split\n",
    "from sklearn.linear_model import LinearRegression\n",
    "from sklearn.metrics import mean_squared_error, r2_score\n",
    "import warnings\n",
    "warnings.filterwarnings ('ignore')"
   ]
  },
  {
   "cell_type": "code",
   "execution_count": 5,
   "id": "5eda88f2",
   "metadata": {},
   "outputs": [
    {
     "data": {
      "text/html": [
       "<div>\n",
       "<style scoped>\n",
       "    .dataframe tbody tr th:only-of-type {\n",
       "        vertical-align: middle;\n",
       "    }\n",
       "\n",
       "    .dataframe tbody tr th {\n",
       "        vertical-align: top;\n",
       "    }\n",
       "\n",
       "    .dataframe thead th {\n",
       "        text-align: right;\n",
       "    }\n",
       "</style>\n",
       "<table border=\"1\" class=\"dataframe\">\n",
       "  <thead>\n",
       "    <tr style=\"text-align: right;\">\n",
       "      <th></th>\n",
       "      <th>Country</th>\n",
       "      <th>Region</th>\n",
       "      <th>Happiness Rank</th>\n",
       "      <th>Happiness Score</th>\n",
       "      <th>Standard Error</th>\n",
       "      <th>Economy (GDP per Capita)</th>\n",
       "      <th>Family</th>\n",
       "      <th>Health (Life Expectancy)</th>\n",
       "      <th>Freedom</th>\n",
       "      <th>Trust (Government Corruption)</th>\n",
       "      <th>Generosity</th>\n",
       "      <th>Dystopia Residual</th>\n",
       "    </tr>\n",
       "  </thead>\n",
       "  <tbody>\n",
       "    <tr>\n",
       "      <th>0</th>\n",
       "      <td>Switzerland</td>\n",
       "      <td>Western Europe</td>\n",
       "      <td>1</td>\n",
       "      <td>7.587</td>\n",
       "      <td>0.03411</td>\n",
       "      <td>1.39651</td>\n",
       "      <td>1.34951</td>\n",
       "      <td>0.94143</td>\n",
       "      <td>0.66557</td>\n",
       "      <td>0.41978</td>\n",
       "      <td>0.29678</td>\n",
       "      <td>2.51738</td>\n",
       "    </tr>\n",
       "    <tr>\n",
       "      <th>1</th>\n",
       "      <td>Iceland</td>\n",
       "      <td>Western Europe</td>\n",
       "      <td>2</td>\n",
       "      <td>7.561</td>\n",
       "      <td>0.04884</td>\n",
       "      <td>1.30232</td>\n",
       "      <td>1.40223</td>\n",
       "      <td>0.94784</td>\n",
       "      <td>0.62877</td>\n",
       "      <td>0.14145</td>\n",
       "      <td>0.43630</td>\n",
       "      <td>2.70201</td>\n",
       "    </tr>\n",
       "    <tr>\n",
       "      <th>2</th>\n",
       "      <td>Denmark</td>\n",
       "      <td>Western Europe</td>\n",
       "      <td>3</td>\n",
       "      <td>7.527</td>\n",
       "      <td>0.03328</td>\n",
       "      <td>1.32548</td>\n",
       "      <td>1.36058</td>\n",
       "      <td>0.87464</td>\n",
       "      <td>0.64938</td>\n",
       "      <td>0.48357</td>\n",
       "      <td>0.34139</td>\n",
       "      <td>2.49204</td>\n",
       "    </tr>\n",
       "    <tr>\n",
       "      <th>3</th>\n",
       "      <td>Norway</td>\n",
       "      <td>Western Europe</td>\n",
       "      <td>4</td>\n",
       "      <td>7.522</td>\n",
       "      <td>0.03880</td>\n",
       "      <td>1.45900</td>\n",
       "      <td>1.33095</td>\n",
       "      <td>0.88521</td>\n",
       "      <td>0.66973</td>\n",
       "      <td>0.36503</td>\n",
       "      <td>0.34699</td>\n",
       "      <td>2.46531</td>\n",
       "    </tr>\n",
       "    <tr>\n",
       "      <th>4</th>\n",
       "      <td>Canada</td>\n",
       "      <td>North America</td>\n",
       "      <td>5</td>\n",
       "      <td>7.427</td>\n",
       "      <td>0.03553</td>\n",
       "      <td>1.32629</td>\n",
       "      <td>1.32261</td>\n",
       "      <td>0.90563</td>\n",
       "      <td>0.63297</td>\n",
       "      <td>0.32957</td>\n",
       "      <td>0.45811</td>\n",
       "      <td>2.45176</td>\n",
       "    </tr>\n",
       "  </tbody>\n",
       "</table>\n",
       "</div>"
      ],
      "text/plain": [
       "       Country          Region  Happiness Rank  Happiness Score  \\\n",
       "0  Switzerland  Western Europe               1            7.587   \n",
       "1      Iceland  Western Europe               2            7.561   \n",
       "2      Denmark  Western Europe               3            7.527   \n",
       "3       Norway  Western Europe               4            7.522   \n",
       "4       Canada   North America               5            7.427   \n",
       "\n",
       "   Standard Error  Economy (GDP per Capita)   Family  \\\n",
       "0         0.03411                   1.39651  1.34951   \n",
       "1         0.04884                   1.30232  1.40223   \n",
       "2         0.03328                   1.32548  1.36058   \n",
       "3         0.03880                   1.45900  1.33095   \n",
       "4         0.03553                   1.32629  1.32261   \n",
       "\n",
       "   Health (Life Expectancy)  Freedom  Trust (Government Corruption)  \\\n",
       "0                   0.94143  0.66557                        0.41978   \n",
       "1                   0.94784  0.62877                        0.14145   \n",
       "2                   0.87464  0.64938                        0.48357   \n",
       "3                   0.88521  0.66973                        0.36503   \n",
       "4                   0.90563  0.63297                        0.32957   \n",
       "\n",
       "   Generosity  Dystopia Residual  \n",
       "0     0.29678            2.51738  \n",
       "1     0.43630            2.70201  \n",
       "2     0.34139            2.49204  \n",
       "3     0.34699            2.46531  \n",
       "4     0.45811            2.45176  "
      ]
     },
     "execution_count": 5,
     "metadata": {},
     "output_type": "execute_result"
    }
   ],
   "source": [
    "df = pd.read_csv('https://raw.githubusercontent.com/dsrscientist/DSData/master/happiness_score_dataset.csv')\n",
    "\n",
    "df.head()"
   ]
  },
  {
   "cell_type": "code",
   "execution_count": 7,
   "id": "ce43652a",
   "metadata": {},
   "outputs": [
    {
     "name": "stdout",
     "output_type": "stream",
     "text": [
      "(158, 12)\n"
     ]
    }
   ],
   "source": [
    "# Check the shape of the dataset\n",
    "print(df.shape)"
   ]
  },
  {
   "cell_type": "code",
   "execution_count": 8,
   "id": "e075bd50",
   "metadata": {},
   "outputs": [
    {
     "name": "stdout",
     "output_type": "stream",
     "text": [
      "Country                           object\n",
      "Region                            object\n",
      "Happiness Rank                     int64\n",
      "Happiness Score                  float64\n",
      "Standard Error                   float64\n",
      "Economy (GDP per Capita)         float64\n",
      "Family                           float64\n",
      "Health (Life Expectancy)         float64\n",
      "Freedom                          float64\n",
      "Trust (Government Corruption)    float64\n",
      "Generosity                       float64\n",
      "Dystopia Residual                float64\n",
      "dtype: object\n"
     ]
    }
   ],
   "source": [
    "# Check the data types of the columns\n",
    "print(df.dtypes)"
   ]
  },
  {
   "cell_type": "code",
   "execution_count": 9,
   "id": "b0854813",
   "metadata": {},
   "outputs": [
    {
     "name": "stdout",
     "output_type": "stream",
     "text": [
      "Country                          0\n",
      "Region                           0\n",
      "Happiness Rank                   0\n",
      "Happiness Score                  0\n",
      "Standard Error                   0\n",
      "Economy (GDP per Capita)         0\n",
      "Family                           0\n",
      "Health (Life Expectancy)         0\n",
      "Freedom                          0\n",
      "Trust (Government Corruption)    0\n",
      "Generosity                       0\n",
      "Dystopia Residual                0\n",
      "dtype: int64\n"
     ]
    }
   ],
   "source": [
    "# Check the number of missing values in each column\n",
    "print(df.isnull().sum())"
   ]
  },
  {
   "cell_type": "code",
   "execution_count": 10,
   "id": "1e00fc90",
   "metadata": {},
   "outputs": [
    {
     "name": "stdout",
     "output_type": "stream",
     "text": [
      "       Happiness Rank  Happiness Score  Standard Error  \\\n",
      "count      158.000000       158.000000      158.000000   \n",
      "mean        79.493671         5.375734        0.047885   \n",
      "std         45.754363         1.145010        0.017146   \n",
      "min          1.000000         2.839000        0.018480   \n",
      "25%         40.250000         4.526000        0.037268   \n",
      "50%         79.500000         5.232500        0.043940   \n",
      "75%        118.750000         6.243750        0.052300   \n",
      "max        158.000000         7.587000        0.136930   \n",
      "\n",
      "       Economy (GDP per Capita)      Family  Health (Life Expectancy)  \\\n",
      "count                158.000000  158.000000                158.000000   \n",
      "mean                   0.846137    0.991046                  0.630259   \n",
      "std                    0.403121    0.272369                  0.247078   \n",
      "min                    0.000000    0.000000                  0.000000   \n",
      "25%                    0.545808    0.856823                  0.439185   \n",
      "50%                    0.910245    1.029510                  0.696705   \n",
      "75%                    1.158448    1.214405                  0.811013   \n",
      "max                    1.690420    1.402230                  1.025250   \n",
      "\n",
      "          Freedom  Trust (Government Corruption)  Generosity  \\\n",
      "count  158.000000                     158.000000  158.000000   \n",
      "mean     0.428615                       0.143422    0.237296   \n",
      "std      0.150693                       0.120034    0.126685   \n",
      "min      0.000000                       0.000000    0.000000   \n",
      "25%      0.328330                       0.061675    0.150553   \n",
      "50%      0.435515                       0.107220    0.216130   \n",
      "75%      0.549092                       0.180255    0.309883   \n",
      "max      0.669730                       0.551910    0.795880   \n",
      "\n",
      "       Dystopia Residual  \n",
      "count         158.000000  \n",
      "mean            2.098977  \n",
      "std             0.553550  \n",
      "min             0.328580  \n",
      "25%             1.759410  \n",
      "50%             2.095415  \n",
      "75%             2.462415  \n",
      "max             3.602140  \n"
     ]
    }
   ],
   "source": [
    "# Check the distribution of numerical columns\n",
    "print(df.describe())"
   ]
  },
  {
   "cell_type": "code",
   "execution_count": 11,
   "id": "63b28c4a",
   "metadata": {},
   "outputs": [
    {
     "name": "stdout",
     "output_type": "stream",
     "text": [
      "Switzerland    1\n",
      "Bangladesh     1\n",
      "Greece         1\n",
      "Lebanon        1\n",
      "Hungary        1\n",
      "              ..\n",
      "Kazakhstan     1\n",
      "Slovenia       1\n",
      "Lithuania      1\n",
      "Nicaragua      1\n",
      "Togo           1\n",
      "Name: Country, Length: 158, dtype: int64\n"
     ]
    }
   ],
   "source": [
    "# Check the distribution of categorical columns\n",
    "print(df['Country'].value_counts())"
   ]
  },
  {
   "cell_type": "code",
   "execution_count": 12,
   "id": "3e5f1842",
   "metadata": {},
   "outputs": [
    {
     "name": "stdout",
     "output_type": "stream",
     "text": [
      "                               Happiness Rank  Happiness Score  \\\n",
      "Happiness Rank                       1.000000        -0.992105   \n",
      "Happiness Score                     -0.992105         1.000000   \n",
      "Standard Error                       0.158516        -0.177254   \n",
      "Economy (GDP per Capita)            -0.785267         0.780966   \n",
      "Family                              -0.733644         0.740605   \n",
      "Health (Life Expectancy)            -0.735613         0.724200   \n",
      "Freedom                             -0.556886         0.568211   \n",
      "Trust (Government Corruption)       -0.372315         0.395199   \n",
      "Generosity                          -0.160142         0.180319   \n",
      "Dystopia Residual                   -0.521999         0.530474   \n",
      "\n",
      "                               Standard Error  Economy (GDP per Capita)  \\\n",
      "Happiness Rank                       0.158516                 -0.785267   \n",
      "Happiness Score                     -0.177254                  0.780966   \n",
      "Standard Error                       1.000000                 -0.217651   \n",
      "Economy (GDP per Capita)            -0.217651                  1.000000   \n",
      "Family                              -0.120728                  0.645299   \n",
      "Health (Life Expectancy)            -0.310287                  0.816478   \n",
      "Freedom                             -0.129773                  0.370300   \n",
      "Trust (Government Corruption)       -0.178325                  0.307885   \n",
      "Generosity                          -0.088439                 -0.010465   \n",
      "Dystopia Residual                    0.083981                  0.040059   \n",
      "\n",
      "                                 Family  Health (Life Expectancy)   Freedom  \\\n",
      "Happiness Rank                -0.733644                 -0.735613 -0.556886   \n",
      "Happiness Score                0.740605                  0.724200  0.568211   \n",
      "Standard Error                -0.120728                 -0.310287 -0.129773   \n",
      "Economy (GDP per Capita)       0.645299                  0.816478  0.370300   \n",
      "Family                         1.000000                  0.531104  0.441518   \n",
      "Health (Life Expectancy)       0.531104                  1.000000  0.360477   \n",
      "Freedom                        0.441518                  0.360477  1.000000   \n",
      "Trust (Government Corruption)  0.205605                  0.248335  0.493524   \n",
      "Generosity                     0.087513                  0.108335  0.373916   \n",
      "Dystopia Residual              0.148117                  0.018979  0.062783   \n",
      "\n",
      "                               Trust (Government Corruption)  Generosity  \\\n",
      "Happiness Rank                                     -0.372315   -0.160142   \n",
      "Happiness Score                                     0.395199    0.180319   \n",
      "Standard Error                                     -0.178325   -0.088439   \n",
      "Economy (GDP per Capita)                            0.307885   -0.010465   \n",
      "Family                                              0.205605    0.087513   \n",
      "Health (Life Expectancy)                            0.248335    0.108335   \n",
      "Freedom                                             0.493524    0.373916   \n",
      "Trust (Government Corruption)                       1.000000    0.276123   \n",
      "Generosity                                          0.276123    1.000000   \n",
      "Dystopia Residual                                  -0.033105   -0.101301   \n",
      "\n",
      "                               Dystopia Residual  \n",
      "Happiness Rank                         -0.521999  \n",
      "Happiness Score                         0.530474  \n",
      "Standard Error                          0.083981  \n",
      "Economy (GDP per Capita)                0.040059  \n",
      "Family                                  0.148117  \n",
      "Health (Life Expectancy)                0.018979  \n",
      "Freedom                                 0.062783  \n",
      "Trust (Government Corruption)          -0.033105  \n",
      "Generosity                             -0.101301  \n",
      "Dystopia Residual                       1.000000  \n"
     ]
    }
   ],
   "source": [
    "# Check for any correlations between the columns\n",
    "print(df.corr())"
   ]
  },
  {
   "cell_type": "code",
   "execution_count": 13,
   "id": "59070af0",
   "metadata": {},
   "outputs": [
    {
     "data": {
      "image/png": "[encoded data removed]",
      "text/plain": [
       "<Figure size 432x288 with 1 Axes>"
      ]
     },
     "metadata": {
      "needs_background": "light"
     },
     "output_type": "display_data"
    }
   ],
   "source": [
    "# Visualize the data using histograms\n",
    "import matplotlib.pyplot as plt\n",
    "plt.hist(df['Happiness Score'])\n",
    "plt.show()"
   ]
  },
  {
   "cell_type": "code",
   "execution_count": 15,
   "id": "07a6a8e4",
   "metadata": {},
   "outputs": [
    {
     "data": {
      "image/png": "[encoded data removed]",
      "text/plain": [
       "<Figure size 432x288 with 1 Axes>"
      ]
     },
     "metadata": {
      "needs_background": "light"
     },
     "output_type": "display_data"
    }
   ],
   "source": [
    "# Visualize the data using box plots\n",
    "plt.boxplot(df['Health (Life Expectancy)'])\n",
    "plt.show()"
   ]
  },
  {
   "cell_type": "code",
   "execution_count": 17,
   "id": "a461f032",
   "metadata": {},
   "outputs": [
    {
     "name": "stdout",
     "output_type": "stream",
     "text": [
      "       Happiness Rank  Happiness Score  Standard Error  \\\n",
      "count      158.000000       158.000000      158.000000   \n",
      "mean        79.493671         5.375734        0.047885   \n",
      "std         45.754363         1.145010        0.017146   \n",
      "min          1.000000         2.839000        0.018480   \n",
      "25%         40.250000         4.526000        0.037268   \n",
      "50%         79.500000         5.232500        0.043940   \n",
      "75%        118.750000         6.243750        0.052300   \n",
      "max        158.000000         7.587000        0.136930   \n",
      "\n",
      "       Economy (GDP per Capita)      Family  Health (Life Expectancy)  \\\n",
      "count                158.000000  158.000000                158.000000   \n",
      "mean                   0.846137    0.991046                  0.630259   \n",
      "std                    0.403121    0.272369                  0.247078   \n",
      "min                    0.000000    0.000000                  0.000000   \n",
      "25%                    0.545808    0.856823                  0.439185   \n",
      "50%                    0.910245    1.029510                  0.696705   \n",
      "75%                    1.158448    1.214405                  0.811013   \n",
      "max                    1.690420    1.402230                  1.025250   \n",
      "\n",
      "          Freedom  Trust (Government Corruption)  Generosity  \\\n",
      "count  158.000000                     158.000000  158.000000   \n",
      "mean     0.428615                       0.143422    0.237296   \n",
      "std      0.150693                       0.120034    0.126685   \n",
      "min      0.000000                       0.000000    0.000000   \n",
      "25%      0.328330                       0.061675    0.150553   \n",
      "50%      0.435515                       0.107220    0.216130   \n",
      "75%      0.549092                       0.180255    0.309883   \n",
      "max      0.669730                       0.551910    0.795880   \n",
      "\n",
      "       Dystopia Residual  \n",
      "count         158.000000  \n",
      "mean            2.098977  \n",
      "std             0.553550  \n",
      "min             0.328580  \n",
      "25%             1.759410  \n",
      "50%             2.095415  \n",
      "75%             2.462415  \n",
      "max             3.602140  \n"
     ]
    }
   ],
   "source": [
    "print(df.describe())"
   ]
  },
  {
   "cell_type": "code",
   "execution_count": 18,
   "id": "2830c447",
   "metadata": {},
   "outputs": [
    {
     "data": {
      "text/plain": [
       "Switzerland    1\n",
       "Bangladesh     1\n",
       "Greece         1\n",
       "Lebanon        1\n",
       "Hungary        1\n",
       "              ..\n",
       "Kazakhstan     1\n",
       "Slovenia       1\n",
       "Lithuania      1\n",
       "Nicaragua      1\n",
       "Togo           1\n",
       "Name: Country, Length: 158, dtype: int64"
      ]
     },
     "execution_count": 18,
     "metadata": {},
     "output_type": "execute_result"
    }
   ],
   "source": [
    "df['Country'].value_counts()"
   ]
  },
  {
   "cell_type": "code",
   "execution_count": 19,
   "id": "14ddaba6",
   "metadata": {},
   "outputs": [
    {
     "name": "stdout",
     "output_type": "stream",
     "text": [
      "                               Happiness Rank  Happiness Score  \\\n",
      "Happiness Rank                       1.000000        -0.992105   \n",
      "Happiness Score                     -0.992105         1.000000   \n",
      "Standard Error                       0.158516        -0.177254   \n",
      "Economy (GDP per Capita)            -0.785267         0.780966   \n",
      "Family                              -0.733644         0.740605   \n",
      "Health (Life Expectancy)            -0.735613         0.724200   \n",
      "Freedom                             -0.556886         0.568211   \n",
      "Trust (Government Corruption)       -0.372315         0.395199   \n",
      "Generosity                          -0.160142         0.180319   \n",
      "Dystopia Residual                   -0.521999         0.530474   \n",
      "\n",
      "                               Standard Error  Economy (GDP per Capita)  \\\n",
      "Happiness Rank                       0.158516                 -0.785267   \n",
      "Happiness Score                     -0.177254                  0.780966   \n",
      "Standard Error                       1.000000                 -0.217651   \n",
      "Economy (GDP per Capita)            -0.217651                  1.000000   \n",
      "Family                              -0.120728                  0.645299   \n",
      "Health (Life Expectancy)            -0.310287                  0.816478   \n",
      "Freedom                             -0.129773                  0.370300   \n",
      "Trust (Government Corruption)       -0.178325                  0.307885   \n",
      "Generosity                          -0.088439                 -0.010465   \n",
      "Dystopia Residual                    0.083981                  0.040059   \n",
      "\n",
      "                                 Family  Health (Life Expectancy)   Freedom  \\\n",
      "Happiness Rank                -0.733644                 -0.735613 -0.556886   \n",
      "Happiness Score                0.740605                  0.724200  0.568211   \n",
      "Standard Error                -0.120728                 -0.310287 -0.129773   \n",
      "Economy (GDP per Capita)       0.645299                  0.816478  0.370300   \n",
      "Family                         1.000000                  0.531104  0.441518   \n",
      "Health (Life Expectancy)       0.531104                  1.000000  0.360477   \n",
      "Freedom                        0.441518                  0.360477  1.000000   \n",
      "Trust (Government Corruption)  0.205605                  0.248335  0.493524   \n",
      "Generosity                     0.087513                  0.108335  0.373916   \n",
      "Dystopia Residual              0.148117                  0.018979  0.062783   \n",
      "\n",
      "                               Trust (Government Corruption)  Generosity  \\\n",
      "Happiness Rank                                     -0.372315   -0.160142   \n",
      "Happiness Score                                     0.395199    0.180319   \n",
      "Standard Error                                     -0.178325   -0.088439   \n",
      "Economy (GDP per Capita)                            0.307885   -0.010465   \n",
      "Family                                              0.205605    0.087513   \n",
      "Health (Life Expectancy)                            0.248335    0.108335   \n",
      "Freedom                                             0.493524    0.373916   \n",
      "Trust (Government Corruption)                       1.000000    0.276123   \n",
      "Generosity                                          0.276123    1.000000   \n",
      "Dystopia Residual                                  -0.033105   -0.101301   \n",
      "\n",
      "                               Dystopia Residual  \n",
      "Happiness Rank                         -0.521999  \n",
      "Happiness Score                         0.530474  \n",
      "Standard Error                          0.083981  \n",
      "Economy (GDP per Capita)                0.040059  \n",
      "Family                                  0.148117  \n",
      "Health (Life Expectancy)                0.018979  \n",
      "Freedom                                 0.062783  \n",
      "Trust (Government Corruption)          -0.033105  \n",
      "Generosity                             -0.101301  \n",
      "Dystopia Residual                       1.000000  \n"
     ]
    }
   ],
   "source": [
    "correlations = df.corr()\n",
    "print(correlations)"
   ]
  },
  {
   "cell_type": "code",
   "execution_count": 20,
   "id": "42f7a73f",
   "metadata": {},
   "outputs": [
    {
     "data": {
      "image/png": "[encoded data removed]",
      "text/plain": [
       "<Figure size 432x288 with 1 Axes>"
      ]
     },
     "metadata": {
      "needs_background": "light"
     },
     "output_type": "display_data"
    }
   ],
   "source": [
    "import matplotlib.pyplot as plt\n",
    "\n",
    "plt.hist(df['Happiness Score'], bins=10)\n",
    "plt.xlabel('Happiness Score')\n",
    "plt.ylabel('Frequency')\n",
    "plt.title('Distribution of Happiness Scores')\n",
    "plt.show()"
   ]
  },
  {
   "cell_type": "code",
   "execution_count": 22,
   "id": "9eb3dd69",
   "metadata": {},
   "outputs": [
    {
     "data": {
      "image/png": "[encoded data removed]",
      "text/plain": [
       "<Figure size 432x288 with 1 Axes>"
      ]
     },
     "metadata": {
      "needs_background": "light"
     },
     "output_type": "display_data"
    }
   ],
   "source": [
    "import seaborn as sns\n",
    "\n",
    "sns.boxplot(x='Region', y='Happiness Score', data=df)\n",
    "plt.xlabel('Region')\n",
    "plt.ylabel('Happiness Score')\n",
    "plt.title('Distribution of Happiness Score by Region')\n",
    "plt.show()"
   ]
  },
  {
   "cell_type": "code",
   "execution_count": 23,
   "id": "f295504c",
   "metadata": {},
   "outputs": [],
   "source": [
    "df.dropna(inplace=True)"
   ]
  },
  {
   "cell_type": "code",
   "execution_count": 24,
   "id": "da20870a",
   "metadata": {},
   "outputs": [],
   "source": [
    "df.fillna(df.mean(), inplace=True)"
   ]
  },
  {
   "cell_type": "code",
   "execution_count": 25,
   "id": "f439c70e",
   "metadata": {},
   "outputs": [],
   "source": [
    "df.fillna(df.mode(), inplace=True)"
   ]
  },
  {
   "cell_type": "code",
   "execution_count": 26,
   "id": "767683fc",
   "metadata": {},
   "outputs": [
    {
     "name": "stdout",
     "output_type": "stream",
     "text": [
      "                               Happiness Rank  Happiness Score  \\\n",
      "Happiness Rank                       1.000000        -0.992105   \n",
      "Happiness Score                     -0.992105         1.000000   \n",
      "Standard Error                       0.158516        -0.177254   \n",
      "Economy (GDP per Capita)            -0.785267         0.780966   \n",
      "Family                              -0.733644         0.740605   \n",
      "Health (Life Expectancy)            -0.735613         0.724200   \n",
      "Freedom                             -0.556886         0.568211   \n",
      "Trust (Government Corruption)       -0.372315         0.395199   \n",
      "Generosity                          -0.160142         0.180319   \n",
      "Dystopia Residual                   -0.521999         0.530474   \n",
      "\n",
      "                               Standard Error  Economy (GDP per Capita)  \\\n",
      "Happiness Rank                       0.158516                 -0.785267   \n",
      "Happiness Score                     -0.177254                  0.780966   \n",
      "Standard Error                       1.000000                 -0.217651   \n",
      "Economy (GDP per Capita)            -0.217651                  1.000000   \n",
      "Family                              -0.120728                  0.645299   \n",
      "Health (Life Expectancy)            -0.310287                  0.816478   \n",
      "Freedom                             -0.129773                  0.370300   \n",
      "Trust (Government Corruption)       -0.178325                  0.307885   \n",
      "Generosity                          -0.088439                 -0.010465   \n",
      "Dystopia Residual                    0.083981                  0.040059   \n",
      "\n",
      "                                 Family  Health (Life Expectancy)   Freedom  \\\n",
      "Happiness Rank                -0.733644                 -0.735613 -0.556886   \n",
      "Happiness Score                0.740605                  0.724200  0.568211   \n",
      "Standard Error                -0.120728                 -0.310287 -0.129773   \n",
      "Economy (GDP per Capita)       0.645299                  0.816478  0.370300   \n",
      "Family                         1.000000                  0.531104  0.441518   \n",
      "Health (Life Expectancy)       0.531104                  1.000000  0.360477   \n",
      "Freedom                        0.441518                  0.360477  1.000000   \n",
      "Trust (Government Corruption)  0.205605                  0.248335  0.493524   \n",
      "Generosity                     0.087513                  0.108335  0.373916   \n",
      "Dystopia Residual              0.148117                  0.018979  0.062783   \n",
      "\n",
      "                               Trust (Government Corruption)  Generosity  \\\n",
      "Happiness Rank                                     -0.372315   -0.160142   \n",
      "Happiness Score                                     0.395199    0.180319   \n",
      "Standard Error                                     -0.178325   -0.088439   \n",
      "Economy (GDP per Capita)                            0.307885   -0.010465   \n",
      "Family                                              0.205605    0.087513   \n",
      "Health (Life Expectancy)                            0.248335    0.108335   \n",
      "Freedom                                             0.493524    0.373916   \n",
      "Trust (Government Corruption)                       1.000000    0.276123   \n",
      "Generosity                                          0.276123    1.000000   \n",
      "Dystopia Residual                                  -0.033105   -0.101301   \n",
      "\n",
      "                               Dystopia Residual  \n",
      "Happiness Rank                         -0.521999  \n",
      "Happiness Score                         0.530474  \n",
      "Standard Error                          0.083981  \n",
      "Economy (GDP per Capita)                0.040059  \n",
      "Family                                  0.148117  \n",
      "Health (Life Expectancy)                0.018979  \n",
      "Freedom                                 0.062783  \n",
      "Trust (Government Corruption)          -0.033105  \n",
      "Generosity                             -0.101301  \n",
      "Dystopia Residual                       1.000000  \n"
     ]
    }
   ],
   "source": [
    "correlation_matrix = df.corr()\n",
    "print(correlation_matrix)"
   ]
  },
  {
   "cell_type": "code",
   "execution_count": 58,
   "id": "374a733e",
   "metadata": {},
   "outputs": [
    {
     "data": {
      "text/plain": [
       "Happiness Score                  1.000000\n",
       "Economy (GDP per Capita)         0.780966\n",
       "Family                           0.740605\n",
       "Health (Life Expectancy)         0.724200\n",
       "Freedom                          0.568211\n",
       "Dystopia Residual                0.530474\n",
       "Trust (Government Corruption)    0.395199\n",
       "Generosity                       0.180319\n",
       "Standard Error                  -0.177254\n",
       "Happiness Rank                  -0.992105\n",
       "Name: Happiness Score, dtype: float64"
      ]
     },
     "execution_count": 58,
     "metadata": {},
     "output_type": "execute_result"
    }
   ],
   "source": [
    "correlation_matrix['Happiness Score'].sort_values(ascending=False)"
   ]
  },
  {
   "cell_type": "code",
   "execution_count": 69,
   "id": "6a837992",
   "metadata": {},
   "outputs": [
    {
     "ename": "KeyError",
     "evalue": "\"['GDP per capita', 'Social support', 'Healthy life expectancy', 'Freedom to make life choices', 'Perceptions of corruption'] not in index\"",
     "output_type": "error",
     "traceback": [
      "\u001b[1;31m---------------------------------------------------------------------------\u001b[0m",
      "\u001b[1;31mKeyError\u001b[0m                                  Traceback (most recent call last)",
      "Input \u001b[1;32mIn [69]\u001b[0m, in \u001b[0;36m<cell line: 2>\u001b[1;34m()\u001b[0m\n\u001b[0;32m      1\u001b[0m \u001b[38;5;66;03m# Select relevant features and target variable\u001b[39;00m\n\u001b[1;32m----> 2\u001b[0m X \u001b[38;5;241m=\u001b[39m \u001b[43mdf\u001b[49m\u001b[43m[\u001b[49m\u001b[43m[\u001b[49m\u001b[38;5;124;43m'\u001b[39;49m\u001b[38;5;124;43mGDP per capita\u001b[39;49m\u001b[38;5;124;43m'\u001b[39;49m\u001b[43m,\u001b[49m\u001b[43m \u001b[49m\u001b[38;5;124;43m'\u001b[39;49m\u001b[38;5;124;43mSocial support\u001b[39;49m\u001b[38;5;124;43m'\u001b[39;49m\u001b[43m,\u001b[49m\u001b[43m \u001b[49m\u001b[38;5;124;43m'\u001b[39;49m\u001b[38;5;124;43mHealthy life expectancy\u001b[39;49m\u001b[38;5;124;43m'\u001b[39;49m\u001b[43m,\u001b[49m\u001b[43m \u001b[49m\u001b[38;5;124;43m'\u001b[39;49m\u001b[38;5;124;43mFreedom to make life choices\u001b[39;49m\u001b[38;5;124;43m'\u001b[39;49m\u001b[43m,\u001b[49m\u001b[43m \u001b[49m\u001b[38;5;124;43m'\u001b[39;49m\u001b[38;5;124;43mGenerosity\u001b[39;49m\u001b[38;5;124;43m'\u001b[39;49m\u001b[43m,\u001b[49m\u001b[43m \u001b[49m\u001b[38;5;124;43m'\u001b[39;49m\u001b[38;5;124;43mPerceptions of corruption\u001b[39;49m\u001b[38;5;124;43m'\u001b[39;49m\u001b[43m]\u001b[49m\u001b[43m]\u001b[49m\n\u001b[0;32m      3\u001b[0m y \u001b[38;5;241m=\u001b[39m df[\u001b[38;5;124m'\u001b[39m\u001b[38;5;124mScore\u001b[39m\u001b[38;5;124m'\u001b[39m]\n\u001b[0;32m      5\u001b[0m \u001b[38;5;66;03m# Correlation analysis\u001b[39;00m\n",
      "File \u001b[1;32m~\\anaconda3\\lib\\site-packages\\pandas\\core\\frame.py:3511\u001b[0m, in \u001b[0;36mDataFrame.__getitem__\u001b[1;34m(self, key)\u001b[0m\n\u001b[0;32m   3509\u001b[0m     \u001b[38;5;28;01mif\u001b[39;00m is_iterator(key):\n\u001b[0;32m   3510\u001b[0m         key \u001b[38;5;241m=\u001b[39m \u001b[38;5;28mlist\u001b[39m(key)\n\u001b[1;32m-> 3511\u001b[0m     indexer \u001b[38;5;241m=\u001b[39m \u001b[38;5;28;43mself\u001b[39;49m\u001b[38;5;241;43m.\u001b[39;49m\u001b[43mcolumns\u001b[49m\u001b[38;5;241;43m.\u001b[39;49m\u001b[43m_get_indexer_strict\u001b[49m\u001b[43m(\u001b[49m\u001b[43mkey\u001b[49m\u001b[43m,\u001b[49m\u001b[43m \u001b[49m\u001b[38;5;124;43m\"\u001b[39;49m\u001b[38;5;124;43mcolumns\u001b[39;49m\u001b[38;5;124;43m\"\u001b[39;49m\u001b[43m)\u001b[49m[\u001b[38;5;241m1\u001b[39m]\n\u001b[0;32m   3513\u001b[0m \u001b[38;5;66;03m# take() does not accept boolean indexers\u001b[39;00m\n\u001b[0;32m   3514\u001b[0m \u001b[38;5;28;01mif\u001b[39;00m \u001b[38;5;28mgetattr\u001b[39m(indexer, \u001b[38;5;124m\"\u001b[39m\u001b[38;5;124mdtype\u001b[39m\u001b[38;5;124m\"\u001b[39m, \u001b[38;5;28;01mNone\u001b[39;00m) \u001b[38;5;241m==\u001b[39m \u001b[38;5;28mbool\u001b[39m:\n",
      "File \u001b[1;32m~\\anaconda3\\lib\\site-packages\\pandas\\core\\indexes\\base.py:5782\u001b[0m, in \u001b[0;36mIndex._get_indexer_strict\u001b[1;34m(self, key, axis_name)\u001b[0m\n\u001b[0;32m   5779\u001b[0m \u001b[38;5;28;01melse\u001b[39;00m:\n\u001b[0;32m   5780\u001b[0m     keyarr, indexer, new_indexer \u001b[38;5;241m=\u001b[39m \u001b[38;5;28mself\u001b[39m\u001b[38;5;241m.\u001b[39m_reindex_non_unique(keyarr)\n\u001b[1;32m-> 5782\u001b[0m \u001b[38;5;28;43mself\u001b[39;49m\u001b[38;5;241;43m.\u001b[39;49m\u001b[43m_raise_if_missing\u001b[49m\u001b[43m(\u001b[49m\u001b[43mkeyarr\u001b[49m\u001b[43m,\u001b[49m\u001b[43m \u001b[49m\u001b[43mindexer\u001b[49m\u001b[43m,\u001b[49m\u001b[43m \u001b[49m\u001b[43maxis_name\u001b[49m\u001b[43m)\u001b[49m\n\u001b[0;32m   5784\u001b[0m keyarr \u001b[38;5;241m=\u001b[39m \u001b[38;5;28mself\u001b[39m\u001b[38;5;241m.\u001b[39mtake(indexer)\n\u001b[0;32m   5785\u001b[0m \u001b[38;5;28;01mif\u001b[39;00m \u001b[38;5;28misinstance\u001b[39m(key, Index):\n\u001b[0;32m   5786\u001b[0m     \u001b[38;5;66;03m# GH 42790 - Preserve name from an Index\u001b[39;00m\n",
      "File \u001b[1;32m~\\anaconda3\\lib\\site-packages\\pandas\\core\\indexes\\base.py:5845\u001b[0m, in \u001b[0;36mIndex._raise_if_missing\u001b[1;34m(self, key, indexer, axis_name)\u001b[0m\n\u001b[0;32m   5842\u001b[0m     \u001b[38;5;28;01mraise\u001b[39;00m \u001b[38;5;167;01mKeyError\u001b[39;00m(\u001b[38;5;124mf\u001b[39m\u001b[38;5;124m\"\u001b[39m\u001b[38;5;124mNone of [\u001b[39m\u001b[38;5;132;01m{\u001b[39;00mkey\u001b[38;5;132;01m}\u001b[39;00m\u001b[38;5;124m] are in the [\u001b[39m\u001b[38;5;132;01m{\u001b[39;00maxis_name\u001b[38;5;132;01m}\u001b[39;00m\u001b[38;5;124m]\u001b[39m\u001b[38;5;124m\"\u001b[39m)\n\u001b[0;32m   5844\u001b[0m not_found \u001b[38;5;241m=\u001b[39m \u001b[38;5;28mlist\u001b[39m(ensure_index(key)[missing_mask\u001b[38;5;241m.\u001b[39mnonzero()[\u001b[38;5;241m0\u001b[39m]]\u001b[38;5;241m.\u001b[39munique())\n\u001b[1;32m-> 5845\u001b[0m \u001b[38;5;28;01mraise\u001b[39;00m \u001b[38;5;167;01mKeyError\u001b[39;00m(\u001b[38;5;124mf\u001b[39m\u001b[38;5;124m\"\u001b[39m\u001b[38;5;132;01m{\u001b[39;00mnot_found\u001b[38;5;132;01m}\u001b[39;00m\u001b[38;5;124m not in index\u001b[39m\u001b[38;5;124m\"\u001b[39m)\n",
      "\u001b[1;31mKeyError\u001b[0m: \"['GDP per capita', 'Social support', 'Healthy life expectancy', 'Freedom to make life choices', 'Perceptions of corruption'] not in index\""
     ]
    }
   ],
   "source": [
    "# Select relevant features and target variable\n",
    "X = df[['GDP per capita', 'Social support', 'Healthy life expectancy', 'Freedom to make life choices', 'Generosity', 'Perceptions of corruption']]\n",
    "y = df['Score']\n",
    "\n",
    "# Correlation analysis\n",
    "corr_matrix = X.corr()\n",
    "corr_features = np.where(abs(corr_matrix) > 0.7)\n",
    "corr_features = [(corr_matrix.iloc[corr_features[0][i], corr_features[1][i]], corr_matrix.columns[corr_features[0][i]], corr_matrix.columns[corr_features[1][i]]) for i in range(len(corr_features[0])) if corr_features[0][i] != corr_features[1][i]]\n",
    "corr_features.sort(reverse=True)\n",
    "\n",
    "print(\"Correlated features:\")\n",
    "for corr in corr_features:\n",
    "    print(corr)\n",
    "\n",
    "# Recursive feature elimination\n",
    "model = LinearRegression()\n",
    "rfecv = RFECV(estimator=model, step=1, cv=10, scoring='neg_mean_squared_error')\n",
    "rfecv.fit(X, y)\n",
    "\n",
    "print(\"Optimal number of features: %d\" % rfecv.n_features_)\n",
    "print(\"Selected features: %s\" % X.columns[rfecv.support_])\n"
   ]
  },
  {
   "cell_type": "code",
   "execution_count": 70,
   "id": "2d36fe2a",
   "metadata": {},
   "outputs": [
    {
     "ename": "NameError",
     "evalue": "name 'data' is not defined",
     "output_type": "error",
     "traceback": [
      "\u001b[1;31m---------------------------------------------------------------------------\u001b[0m",
      "\u001b[1;31mNameError\u001b[0m                                 Traceback (most recent call last)",
      "Input \u001b[1;32mIn [70]\u001b[0m, in \u001b[0;36m<cell line: 2>\u001b[1;34m()\u001b[0m\n\u001b[0;32m      1\u001b[0m \u001b[38;5;66;03m# Select the features\u001b[39;00m\n\u001b[1;32m----> 2\u001b[0m X \u001b[38;5;241m=\u001b[39m \u001b[43mdata\u001b[49m[[\u001b[38;5;124m'\u001b[39m\u001b[38;5;124mgdp_per_capita\u001b[39m\u001b[38;5;124m'\u001b[39m, \u001b[38;5;124m'\u001b[39m\u001b[38;5;124msocial_support\u001b[39m\u001b[38;5;124m'\u001b[39m, \u001b[38;5;124m'\u001b[39m\u001b[38;5;124mhealthy_life_expectancy\u001b[39m\u001b[38;5;124m'\u001b[39m, \u001b[38;5;124m'\u001b[39m\u001b[38;5;124mfreedom_to_make_life_choices\u001b[39m\u001b[38;5;124m'\u001b[39m, \u001b[38;5;124m'\u001b[39m\u001b[38;5;124mgenerosity\u001b[39m\u001b[38;5;124m'\u001b[39m, \u001b[38;5;124m'\u001b[39m\u001b[38;5;124mperceptions_of_corruption\u001b[39m\u001b[38;5;124m'\u001b[39m]]\n\u001b[0;32m      4\u001b[0m \u001b[38;5;66;03m# Select the target variable\u001b[39;00m\n\u001b[0;32m      5\u001b[0m y \u001b[38;5;241m=\u001b[39m data[\u001b[38;5;124m'\u001b[39m\u001b[38;5;124mscore\u001b[39m\u001b[38;5;124m'\u001b[39m]\n",
      "\u001b[1;31mNameError\u001b[0m: name 'data' is not defined"
     ]
    }
   ],
   "source": [
    "# Select the features\n",
    "X = data[['gdp_per_capita', 'social_support', 'healthy_life_expectancy', 'freedom_to_make_life_choices', 'generosity', 'perceptions_of_corruption']]\n",
    "\n",
    "# Select the target variable\n",
    "y = data['score']\n",
    "\n",
    "# Split the dataset into training and testing sets\n",
    "X_train, X_test, y_train, y_test = train_test_split(X, y, test_size=0.3, random_state=42)\n"
   ]
  },
  {
   "cell_type": "code",
   "execution_count": 72,
   "id": "7332d248",
   "metadata": {},
   "outputs": [
    {
     "ename": "KeyError",
     "evalue": "\"['GDP_per_capita', 'Social_support', 'Healthy_life_expectancy', 'Freedom_to_make_life_choices', 'Perceptions_of_corruption'] not in index\"",
     "output_type": "error",
     "traceback": [
      "\u001b[1;31m---------------------------------------------------------------------------\u001b[0m",
      "\u001b[1;31mKeyError\u001b[0m                                  Traceback (most recent call last)",
      "Input \u001b[1;32mIn [72]\u001b[0m, in \u001b[0;36m<cell line: 2>\u001b[1;34m()\u001b[0m\n\u001b[0;32m      1\u001b[0m \u001b[38;5;66;03m# Select the relevant features\u001b[39;00m\n\u001b[1;32m----> 2\u001b[0m X \u001b[38;5;241m=\u001b[39m \u001b[43mdf\u001b[49m\u001b[43m[\u001b[49m\u001b[43m[\u001b[49m\u001b[38;5;124;43m'\u001b[39;49m\u001b[38;5;124;43mGDP_per_capita\u001b[39;49m\u001b[38;5;124;43m'\u001b[39;49m\u001b[43m,\u001b[49m\u001b[43m \u001b[49m\u001b[38;5;124;43m'\u001b[39;49m\u001b[38;5;124;43mSocial_support\u001b[39;49m\u001b[38;5;124;43m'\u001b[39;49m\u001b[43m,\u001b[49m\u001b[43m \u001b[49m\u001b[38;5;124;43m'\u001b[39;49m\u001b[38;5;124;43mHealthy_life_expectancy\u001b[39;49m\u001b[38;5;124;43m'\u001b[39;49m\u001b[43m,\u001b[49m\u001b[43m \u001b[49m\u001b[38;5;124;43m'\u001b[39;49m\u001b[38;5;124;43mFreedom_to_make_life_choices\u001b[39;49m\u001b[38;5;124;43m'\u001b[39;49m\u001b[43m,\u001b[49m\u001b[43m \u001b[49m\u001b[38;5;124;43m'\u001b[39;49m\u001b[38;5;124;43mGenerosity\u001b[39;49m\u001b[38;5;124;43m'\u001b[39;49m\u001b[43m,\u001b[49m\u001b[43m \u001b[49m\u001b[38;5;124;43m'\u001b[39;49m\u001b[38;5;124;43mPerceptions_of_corruption\u001b[39;49m\u001b[38;5;124;43m'\u001b[39;49m\u001b[43m]\u001b[49m\u001b[43m]\u001b[49m\n\u001b[0;32m      3\u001b[0m y \u001b[38;5;241m=\u001b[39m df[\u001b[38;5;124m'\u001b[39m\u001b[38;5;124mScore\u001b[39m\u001b[38;5;124m'\u001b[39m]\n\u001b[0;32m      5\u001b[0m \u001b[38;5;66;03m# Split the dataset into training and testing sets\u001b[39;00m\n",
      "File \u001b[1;32m~\\anaconda3\\lib\\site-packages\\pandas\\core\\frame.py:3511\u001b[0m, in \u001b[0;36mDataFrame.__getitem__\u001b[1;34m(self, key)\u001b[0m\n\u001b[0;32m   3509\u001b[0m     \u001b[38;5;28;01mif\u001b[39;00m is_iterator(key):\n\u001b[0;32m   3510\u001b[0m         key \u001b[38;5;241m=\u001b[39m \u001b[38;5;28mlist\u001b[39m(key)\n\u001b[1;32m-> 3511\u001b[0m     indexer \u001b[38;5;241m=\u001b[39m \u001b[38;5;28;43mself\u001b[39;49m\u001b[38;5;241;43m.\u001b[39;49m\u001b[43mcolumns\u001b[49m\u001b[38;5;241;43m.\u001b[39;49m\u001b[43m_get_indexer_strict\u001b[49m\u001b[43m(\u001b[49m\u001b[43mkey\u001b[49m\u001b[43m,\u001b[49m\u001b[43m \u001b[49m\u001b[38;5;124;43m\"\u001b[39;49m\u001b[38;5;124;43mcolumns\u001b[39;49m\u001b[38;5;124;43m\"\u001b[39;49m\u001b[43m)\u001b[49m[\u001b[38;5;241m1\u001b[39m]\n\u001b[0;32m   3513\u001b[0m \u001b[38;5;66;03m# take() does not accept boolean indexers\u001b[39;00m\n\u001b[0;32m   3514\u001b[0m \u001b[38;5;28;01mif\u001b[39;00m \u001b[38;5;28mgetattr\u001b[39m(indexer, \u001b[38;5;124m\"\u001b[39m\u001b[38;5;124mdtype\u001b[39m\u001b[38;5;124m\"\u001b[39m, \u001b[38;5;28;01mNone\u001b[39;00m) \u001b[38;5;241m==\u001b[39m \u001b[38;5;28mbool\u001b[39m:\n",
      "File \u001b[1;32m~\\anaconda3\\lib\\site-packages\\pandas\\core\\indexes\\base.py:5782\u001b[0m, in \u001b[0;36mIndex._get_indexer_strict\u001b[1;34m(self, key, axis_name)\u001b[0m\n\u001b[0;32m   5779\u001b[0m \u001b[38;5;28;01melse\u001b[39;00m:\n\u001b[0;32m   5780\u001b[0m     keyarr, indexer, new_indexer \u001b[38;5;241m=\u001b[39m \u001b[38;5;28mself\u001b[39m\u001b[38;5;241m.\u001b[39m_reindex_non_unique(keyarr)\n\u001b[1;32m-> 5782\u001b[0m \u001b[38;5;28;43mself\u001b[39;49m\u001b[38;5;241;43m.\u001b[39;49m\u001b[43m_raise_if_missing\u001b[49m\u001b[43m(\u001b[49m\u001b[43mkeyarr\u001b[49m\u001b[43m,\u001b[49m\u001b[43m \u001b[49m\u001b[43mindexer\u001b[49m\u001b[43m,\u001b[49m\u001b[43m \u001b[49m\u001b[43maxis_name\u001b[49m\u001b[43m)\u001b[49m\n\u001b[0;32m   5784\u001b[0m keyarr \u001b[38;5;241m=\u001b[39m \u001b[38;5;28mself\u001b[39m\u001b[38;5;241m.\u001b[39mtake(indexer)\n\u001b[0;32m   5785\u001b[0m \u001b[38;5;28;01mif\u001b[39;00m \u001b[38;5;28misinstance\u001b[39m(key, Index):\n\u001b[0;32m   5786\u001b[0m     \u001b[38;5;66;03m# GH 42790 - Preserve name from an Index\u001b[39;00m\n",
      "File \u001b[1;32m~\\anaconda3\\lib\\site-packages\\pandas\\core\\indexes\\base.py:5845\u001b[0m, in \u001b[0;36mIndex._raise_if_missing\u001b[1;34m(self, key, indexer, axis_name)\u001b[0m\n\u001b[0;32m   5842\u001b[0m     \u001b[38;5;28;01mraise\u001b[39;00m \u001b[38;5;167;01mKeyError\u001b[39;00m(\u001b[38;5;124mf\u001b[39m\u001b[38;5;124m\"\u001b[39m\u001b[38;5;124mNone of [\u001b[39m\u001b[38;5;132;01m{\u001b[39;00mkey\u001b[38;5;132;01m}\u001b[39;00m\u001b[38;5;124m] are in the [\u001b[39m\u001b[38;5;132;01m{\u001b[39;00maxis_name\u001b[38;5;132;01m}\u001b[39;00m\u001b[38;5;124m]\u001b[39m\u001b[38;5;124m\"\u001b[39m)\n\u001b[0;32m   5844\u001b[0m not_found \u001b[38;5;241m=\u001b[39m \u001b[38;5;28mlist\u001b[39m(ensure_index(key)[missing_mask\u001b[38;5;241m.\u001b[39mnonzero()[\u001b[38;5;241m0\u001b[39m]]\u001b[38;5;241m.\u001b[39munique())\n\u001b[1;32m-> 5845\u001b[0m \u001b[38;5;28;01mraise\u001b[39;00m \u001b[38;5;167;01mKeyError\u001b[39;00m(\u001b[38;5;124mf\u001b[39m\u001b[38;5;124m\"\u001b[39m\u001b[38;5;132;01m{\u001b[39;00mnot_found\u001b[38;5;132;01m}\u001b[39;00m\u001b[38;5;124m not in index\u001b[39m\u001b[38;5;124m\"\u001b[39m)\n",
      "\u001b[1;31mKeyError\u001b[0m: \"['GDP_per_capita', 'Social_support', 'Healthy_life_expectancy', 'Freedom_to_make_life_choices', 'Perceptions_of_corruption'] not in index\""
     ]
    }
   ],
   "source": [
    "# Select the relevant features\n",
    "X = df[['GDP_per_capita', 'Social_support', 'Healthy_life_expectancy', 'Freedom_to_make_life_choices', 'Generosity', 'Perceptions_of_corruption']]\n",
    "y = df['Score']\n",
    "\n",
    "# Split the dataset into training and testing sets\n",
    "X_train, X_test, y_train, y_test = train_test_split(X, y, test_size=0.3, random_state=42)\n",
    "\n",
    "# Train a linear regression model\n",
    "reg = LinearRegression().fit(X_train, y_train)\n",
    "\n",
    "# Evaluate the model on the test set\n",
    "y_pred = reg.predict(X_test)\n",
    "mse = mean_squared_error(y_test, y_pred)\n",
    "mae = mean_absolute_error(y_test, y_pred)\n",
    "r2 = r2_score(y_test, y_pred)\n",
    "\n",
    "print('Mean squared error:', mse)\n",
    "print('Mean absolute error:', mae)\n",
    "print('R-squared:', r2)\n"
   ]
  },
  {
   "cell_type": "code",
   "execution_count": 73,
   "id": "59bafc07",
   "metadata": {},
   "outputs": [
    {
     "ename": "NameError",
     "evalue": "name 'model' is not defined",
     "output_type": "error",
     "traceback": [
      "\u001b[1;31m---------------------------------------------------------------------------\u001b[0m",
      "\u001b[1;31mNameError\u001b[0m                                 Traceback (most recent call last)",
      "Input \u001b[1;32mIn [73]\u001b[0m, in \u001b[0;36m<cell line: 4>\u001b[1;34m()\u001b[0m\n\u001b[0;32m      1\u001b[0m \u001b[38;5;28;01mfrom\u001b[39;00m \u001b[38;5;21;01msklearn\u001b[39;00m\u001b[38;5;21;01m.\u001b[39;00m\u001b[38;5;21;01mmetrics\u001b[39;00m \u001b[38;5;28;01mimport\u001b[39;00m mean_squared_error, mean_absolute_error, r2_score\n\u001b[0;32m      3\u001b[0m \u001b[38;5;66;03m# Make predictions on the test set\u001b[39;00m\n\u001b[1;32m----> 4\u001b[0m y_pred \u001b[38;5;241m=\u001b[39m \u001b[43mmodel\u001b[49m\u001b[38;5;241m.\u001b[39mpredict(X_test)\n\u001b[0;32m      6\u001b[0m \u001b[38;5;66;03m# Calculate the mean squared error (MSE)\u001b[39;00m\n\u001b[0;32m      7\u001b[0m mse \u001b[38;5;241m=\u001b[39m mean_squared_error(y_test, y_pred)\n",
      "\u001b[1;31mNameError\u001b[0m: name 'model' is not defined"
     ]
    }
   ],
   "source": [
    "from sklearn.metrics import mean_squared_error, mean_absolute_error, r2_score\n",
    "\n",
    "# Make predictions on the test set\n",
    "y_pred = model.predict(X_test)\n",
    "\n",
    "# Calculate the mean squared error (MSE)\n",
    "mse = mean_squared_error(y_test, y_pred)\n",
    "print(\"Mean Squared Error:\", mse)\n",
    "\n",
    "# Calculate the mean absolute error (MAE)\n",
    "mae = mean_absolute_error(y_test, y_pred)\n",
    "print(\"Mean Absolute Error:\", mae)\n",
    "\n",
    "# Calculate the R-squared value\n",
    "r2 = r2_score(y_test, y_pred)\n",
    "print(\"R-squared:\", r2)"
   ]
  },
  {
   "cell_type": "code",
   "execution_count": 74,
   "id": "f984249a",
   "metadata": {},
   "outputs": [
    {
     "ename": "NameError",
     "evalue": "name 'X_train' is not defined",
     "output_type": "error",
     "traceback": [
      "\u001b[1;31m---------------------------------------------------------------------------\u001b[0m",
      "\u001b[1;31mNameError\u001b[0m                                 Traceback (most recent call last)",
      "Input \u001b[1;32mIn [74]\u001b[0m, in \u001b[0;36m<cell line: 15>\u001b[1;34m()\u001b[0m\n\u001b[0;32m     13\u001b[0m \u001b[38;5;66;03m# Perform grid search cross-validation to find the best hyperparameters\u001b[39;00m\n\u001b[0;32m     14\u001b[0m grid_search \u001b[38;5;241m=\u001b[39m GridSearchCV(rf, param_grid, cv\u001b[38;5;241m=\u001b[39m\u001b[38;5;241m5\u001b[39m)\n\u001b[1;32m---> 15\u001b[0m grid_search\u001b[38;5;241m.\u001b[39mfit(\u001b[43mX_train\u001b[49m, y_train)\n\u001b[0;32m     17\u001b[0m \u001b[38;5;66;03m# Print the best hyperparameters found by grid search\u001b[39;00m\n\u001b[0;32m     18\u001b[0m \u001b[38;5;28mprint\u001b[39m(\u001b[38;5;124m\"\u001b[39m\u001b[38;5;124mBest hyperparameters: \u001b[39m\u001b[38;5;124m\"\u001b[39m, grid_search\u001b[38;5;241m.\u001b[39mbest_params_)\n",
      "\u001b[1;31mNameError\u001b[0m: name 'X_train' is not defined"
     ]
    }
   ],
   "source": [
    "from sklearn.ensemble import RandomForestRegressor\n",
    "from sklearn.model_selection import GridSearchCV\n",
    "\n",
    "# Create a Random Forest Regression model\n",
    "rf = RandomForestRegressor(random_state=42)\n",
    "\n",
    "# Define the hyperparameter grid to search\n",
    "param_grid = {'n_estimators': [100, 500, 1000],\n",
    "              'max_depth': [None, 5, 10],\n",
    "              'min_samples_split': [2, 5, 10],\n",
    "              'min_samples_leaf': [1, 2, 4]}\n",
    "\n",
    "# Perform grid search cross-validation to find the best hyperparameters\n",
    "grid_search = GridSearchCV(rf, param_grid, cv=5)\n",
    "grid_search.fit(X_train, y_train)\n",
    "\n",
    "# Print the best hyperparameters found by grid search\n",
    "print(\"Best hyperparameters: \", grid_search.best_params_)\n",
    "\n",
    "# Evaluate the model with the best hyperparameters on the test set\n",
    "rf_best = grid_search.best_estimator_\n",
    "y_pred = rf_best.predict(X_test)\n",
    "mse = mean_squared_error(y_test, y_pred)\n",
    "mae = mean_absolute_error(y_test, y_pred)\n",
    "r2 = r2_score(y_test, y_pred)\n",
    "print(\"Mean Squared Error: \", mse)\n",
    "print(\"Mean Absolute Error: \", mae)\n",
    "print(\"R-squared: \", r2)"
   ]
  },
  {
   "cell_type": "code",
   "execution_count": 75,
   "id": "04616529",
   "metadata": {},
   "outputs": [
    {
     "ename": "KeyError",
     "evalue": "\"['GDP_per_capita', 'Social_support', 'Healthy_life_expectancy', 'Freedom_to_make_life_choices', 'Perceptions_of_corruption'] not in index\"",
     "output_type": "error",
     "traceback": [
      "\u001b[1;31m---------------------------------------------------------------------------\u001b[0m",
      "\u001b[1;31mKeyError\u001b[0m                                  Traceback (most recent call last)",
      "Input \u001b[1;32mIn [75]\u001b[0m, in \u001b[0;36m<cell line: 2>\u001b[1;34m()\u001b[0m\n\u001b[0;32m      1\u001b[0m \u001b[38;5;66;03m# Select the relevant features\u001b[39;00m\n\u001b[1;32m----> 2\u001b[0m X \u001b[38;5;241m=\u001b[39m \u001b[43mdf\u001b[49m\u001b[43m[\u001b[49m\u001b[43m[\u001b[49m\u001b[38;5;124;43m'\u001b[39;49m\u001b[38;5;124;43mGDP_per_capita\u001b[39;49m\u001b[38;5;124;43m'\u001b[39;49m\u001b[43m,\u001b[49m\u001b[43m \u001b[49m\u001b[38;5;124;43m'\u001b[39;49m\u001b[38;5;124;43mSocial_support\u001b[39;49m\u001b[38;5;124;43m'\u001b[39;49m\u001b[43m,\u001b[49m\u001b[43m \u001b[49m\u001b[38;5;124;43m'\u001b[39;49m\u001b[38;5;124;43mHealthy_life_expectancy\u001b[39;49m\u001b[38;5;124;43m'\u001b[39;49m\u001b[43m,\u001b[49m\u001b[43m \u001b[49m\u001b[38;5;124;43m'\u001b[39;49m\u001b[38;5;124;43mFreedom_to_make_life_choices\u001b[39;49m\u001b[38;5;124;43m'\u001b[39;49m\u001b[43m,\u001b[49m\u001b[43m \u001b[49m\u001b[38;5;124;43m'\u001b[39;49m\u001b[38;5;124;43mGenerosity\u001b[39;49m\u001b[38;5;124;43m'\u001b[39;49m\u001b[43m,\u001b[49m\u001b[43m \u001b[49m\u001b[38;5;124;43m'\u001b[39;49m\u001b[38;5;124;43mPerceptions_of_corruption\u001b[39;49m\u001b[38;5;124;43m'\u001b[39;49m\u001b[43m]\u001b[49m\u001b[43m]\u001b[49m\n\u001b[0;32m      4\u001b[0m \u001b[38;5;66;03m# Define the target variable\u001b[39;00m\n\u001b[0;32m      5\u001b[0m y \u001b[38;5;241m=\u001b[39m df[\u001b[38;5;124m'\u001b[39m\u001b[38;5;124mScore\u001b[39m\u001b[38;5;124m'\u001b[39m]\n",
      "File \u001b[1;32m~\\anaconda3\\lib\\site-packages\\pandas\\core\\frame.py:3511\u001b[0m, in \u001b[0;36mDataFrame.__getitem__\u001b[1;34m(self, key)\u001b[0m\n\u001b[0;32m   3509\u001b[0m     \u001b[38;5;28;01mif\u001b[39;00m is_iterator(key):\n\u001b[0;32m   3510\u001b[0m         key \u001b[38;5;241m=\u001b[39m \u001b[38;5;28mlist\u001b[39m(key)\n\u001b[1;32m-> 3511\u001b[0m     indexer \u001b[38;5;241m=\u001b[39m \u001b[38;5;28;43mself\u001b[39;49m\u001b[38;5;241;43m.\u001b[39;49m\u001b[43mcolumns\u001b[49m\u001b[38;5;241;43m.\u001b[39;49m\u001b[43m_get_indexer_strict\u001b[49m\u001b[43m(\u001b[49m\u001b[43mkey\u001b[49m\u001b[43m,\u001b[49m\u001b[43m \u001b[49m\u001b[38;5;124;43m\"\u001b[39;49m\u001b[38;5;124;43mcolumns\u001b[39;49m\u001b[38;5;124;43m\"\u001b[39;49m\u001b[43m)\u001b[49m[\u001b[38;5;241m1\u001b[39m]\n\u001b[0;32m   3513\u001b[0m \u001b[38;5;66;03m# take() does not accept boolean indexers\u001b[39;00m\n\u001b[0;32m   3514\u001b[0m \u001b[38;5;28;01mif\u001b[39;00m \u001b[38;5;28mgetattr\u001b[39m(indexer, \u001b[38;5;124m\"\u001b[39m\u001b[38;5;124mdtype\u001b[39m\u001b[38;5;124m\"\u001b[39m, \u001b[38;5;28;01mNone\u001b[39;00m) \u001b[38;5;241m==\u001b[39m \u001b[38;5;28mbool\u001b[39m:\n",
      "File \u001b[1;32m~\\anaconda3\\lib\\site-packages\\pandas\\core\\indexes\\base.py:5782\u001b[0m, in \u001b[0;36mIndex._get_indexer_strict\u001b[1;34m(self, key, axis_name)\u001b[0m\n\u001b[0;32m   5779\u001b[0m \u001b[38;5;28;01melse\u001b[39;00m:\n\u001b[0;32m   5780\u001b[0m     keyarr, indexer, new_indexer \u001b[38;5;241m=\u001b[39m \u001b[38;5;28mself\u001b[39m\u001b[38;5;241m.\u001b[39m_reindex_non_unique(keyarr)\n\u001b[1;32m-> 5782\u001b[0m \u001b[38;5;28;43mself\u001b[39;49m\u001b[38;5;241;43m.\u001b[39;49m\u001b[43m_raise_if_missing\u001b[49m\u001b[43m(\u001b[49m\u001b[43mkeyarr\u001b[49m\u001b[43m,\u001b[49m\u001b[43m \u001b[49m\u001b[43mindexer\u001b[49m\u001b[43m,\u001b[49m\u001b[43m \u001b[49m\u001b[43maxis_name\u001b[49m\u001b[43m)\u001b[49m\n\u001b[0;32m   5784\u001b[0m keyarr \u001b[38;5;241m=\u001b[39m \u001b[38;5;28mself\u001b[39m\u001b[38;5;241m.\u001b[39mtake(indexer)\n\u001b[0;32m   5785\u001b[0m \u001b[38;5;28;01mif\u001b[39;00m \u001b[38;5;28misinstance\u001b[39m(key, Index):\n\u001b[0;32m   5786\u001b[0m     \u001b[38;5;66;03m# GH 42790 - Preserve name from an Index\u001b[39;00m\n",
      "File \u001b[1;32m~\\anaconda3\\lib\\site-packages\\pandas\\core\\indexes\\base.py:5845\u001b[0m, in \u001b[0;36mIndex._raise_if_missing\u001b[1;34m(self, key, indexer, axis_name)\u001b[0m\n\u001b[0;32m   5842\u001b[0m     \u001b[38;5;28;01mraise\u001b[39;00m \u001b[38;5;167;01mKeyError\u001b[39;00m(\u001b[38;5;124mf\u001b[39m\u001b[38;5;124m\"\u001b[39m\u001b[38;5;124mNone of [\u001b[39m\u001b[38;5;132;01m{\u001b[39;00mkey\u001b[38;5;132;01m}\u001b[39;00m\u001b[38;5;124m] are in the [\u001b[39m\u001b[38;5;132;01m{\u001b[39;00maxis_name\u001b[38;5;132;01m}\u001b[39;00m\u001b[38;5;124m]\u001b[39m\u001b[38;5;124m\"\u001b[39m)\n\u001b[0;32m   5844\u001b[0m not_found \u001b[38;5;241m=\u001b[39m \u001b[38;5;28mlist\u001b[39m(ensure_index(key)[missing_mask\u001b[38;5;241m.\u001b[39mnonzero()[\u001b[38;5;241m0\u001b[39m]]\u001b[38;5;241m.\u001b[39munique())\n\u001b[1;32m-> 5845\u001b[0m \u001b[38;5;28;01mraise\u001b[39;00m \u001b[38;5;167;01mKeyError\u001b[39;00m(\u001b[38;5;124mf\u001b[39m\u001b[38;5;124m\"\u001b[39m\u001b[38;5;132;01m{\u001b[39;00mnot_found\u001b[38;5;132;01m}\u001b[39;00m\u001b[38;5;124m not in index\u001b[39m\u001b[38;5;124m\"\u001b[39m)\n",
      "\u001b[1;31mKeyError\u001b[0m: \"['GDP_per_capita', 'Social_support', 'Healthy_life_expectancy', 'Freedom_to_make_life_choices', 'Perceptions_of_corruption'] not in index\""
     ]
    }
   ],
   "source": [
    "# Select the relevant features\n",
    "X = df[['GDP_per_capita', 'Social_support', 'Healthy_life_expectancy', 'Freedom_to_make_life_choices', 'Generosity', 'Perceptions_of_corruption']]\n",
    "\n",
    "# Define the target variable\n",
    "y = df['Score']\n",
    "\n",
    "# Split the dataset into training and testing sets\n",
    "from sklearn.model_selection import train_test_split\n",
    "X_train, X_test, y_train, y_test = train_test_split(X, y, test_size=0.3, random_state=42)\n",
    "\n",
    "# Train a random forest regression model\n",
    "rf = RandomForestRegressor(n_estimators=100, random_state=42)\n",
    "rf.fit(X_train, y_train)\n",
    "\n",
    "# Evaluate the model on the test set\n",
    "from sklearn.metrics import mean_squared_error, mean_absolute_error, r2_score\n",
    "y_pred = rf.predict(X_test)\n",
    "print('Mean Squared Error:', mean_squared_error(y_test, y_pred))\n",
    "print('Mean Absolute Error:', mean_absolute_error(y_test, y_pred))\n",
    "print('R-squared:', r2_score(y_test, y_pred))\n",
    "\n",
    "# Predict the happiness score for a new set of inputs\n",
    "new_inputs = [[1.305, 1.592, 0.986, 0.596, 0.153, 0.410]]\n",
    "print('Predicted Happiness Score:', rf.predict(new_inputs))\n"
   ]
  },
  {
   "cell_type": "code",
   "execution_count": null,
   "id": "22a4db6f",
   "metadata": {},
   "outputs": [],
   "source": []
  }
 ],
 "metadata": {
  "kernelspec": {
   "display_name": "Python 3 (ipykernel)",
   "language": "python",
   "name": "python3"
  },
  "language_info": {
   "codemirror_mode": {
    "name": "ipython",
    "version": 3
   },
   "file_extension": ".py",
   "mimetype": "text/x-python",
   "name": "python",
   "nbconvert_exporter": "python",
   "pygments_lexer": "ipython3",
   "version": "3.9.12"
  }
 },
 "nbformat": 4,
 "nbformat_minor": 5
}
